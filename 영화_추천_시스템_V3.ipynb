{
  "nbformat": 4,
  "nbformat_minor": 0,
  "metadata": {
    "colab": {
      "name": "영화_추천_시스템_V3.ipynb",
      "provenance": [],
      "collapsed_sections": [],
      "authorship_tag": "ABX9TyPRg5Cy4fbtRDVKkWjxlV83",
      "include_colab_link": true
    },
    "kernelspec": {
      "name": "python3",
      "display_name": "Python 3"
    },
    "language_info": {
      "name": "python"
    }
  },
  "cells": [
    {
      "cell_type": "markdown",
      "metadata": {
        "id": "view-in-github",
        "colab_type": "text"
      },
      "source": [
        "<a href=\"https://colab.research.google.com/github/cnsqhde/Test/blob/main/%EC%98%81%ED%99%94_%EC%B6%94%EC%B2%9C_%EC%8B%9C%EC%8A%A4%ED%85%9C_V3.ipynb\" target=\"_parent\"><img src=\"https://colab.research.google.com/assets/colab-badge.svg\" alt=\"Open In Colab\"/></a>"
      ]
    },
    {
      "cell_type": "code",
      "source": [
        "!pip install scikit-surprise"
      ],
      "metadata": {
        "colab": {
          "base_uri": "https://localhost:8080/"
        },
        "id": "dh1si-MXyMv1",
        "outputId": "ad4d7466-cd54-4d04-d488-df5887120469"
      },
      "execution_count": null,
      "outputs": [
        {
          "output_type": "stream",
          "name": "stdout",
          "text": [
            "Requirement already satisfied: scikit-surprise in /usr/local/lib/python3.7/dist-packages (1.1.1)\n",
            "Requirement already satisfied: joblib>=0.11 in /usr/local/lib/python3.7/dist-packages (from scikit-surprise) (1.1.0)\n",
            "Requirement already satisfied: scipy>=1.0.0 in /usr/local/lib/python3.7/dist-packages (from scikit-surprise) (1.4.1)\n",
            "Requirement already satisfied: numpy>=1.11.2 in /usr/local/lib/python3.7/dist-packages (from scikit-surprise) (1.19.5)\n",
            "Requirement already satisfied: six>=1.10.0 in /usr/local/lib/python3.7/dist-packages (from scikit-surprise) (1.15.0)\n"
          ]
        }
      ]
    },
    {
      "cell_type": "code",
      "source": [
        "from surprise import Dataset\n",
        "from surprise.model_selection import cross_validate"
      ],
      "metadata": {
        "id": "lUMbYlodyOJw"
      },
      "execution_count": null,
      "outputs": []
    },
    {
      "cell_type": "markdown",
      "source": [
        "# ml-100k의 Data 분석 부분"
      ],
      "metadata": {
        "id": "LXJdGqUdqyzn"
      }
    },
    {
      "cell_type": "code",
      "source": [
        "import torch\n",
        "import pandas as pd\n",
        "import numpy as np\n",
        "import matplotlib.pyplot as plt\n",
        "import seaborn as sns\n",
        "import os\n",
        "import missingno as msno\n",
        "\n",
        "from torch import nn\n",
        "from collections import Counter\n",
        "\n",
        "import warnings\n",
        "warnings.filterwarnings('ignore')\n",
        "\n",
        "%matplotlib inline"
      ],
      "metadata": {
        "id": "UvHKqknZoJRW"
      },
      "execution_count": null,
      "outputs": []
    },
    {
      "cell_type": "code",
      "source": [
        "# Google drive 마운트\n",
        "\n",
        "from google.colab import drive\n",
        "drive.mount('/content/drive')"
      ],
      "metadata": {
        "colab": {
          "base_uri": "https://localhost:8080/"
        },
        "id": "r1ERebNSo2FI",
        "outputId": "771c44d5-13a8-490c-a0b6-e6c345e8d3dc"
      },
      "execution_count": null,
      "outputs": [
        {
          "output_type": "stream",
          "name": "stdout",
          "text": [
            "Drive already mounted at /content/drive; to attempt to forcibly remount, call drive.mount(\"/content/drive\", force_remount=True).\n"
          ]
        }
      ]
    },
    {
      "cell_type": "code",
      "source": [
        "# ml-100k 파일이 존재하는지 확인\n",
        "\n",
        "os.listdir(\"../content\")"
      ],
      "metadata": {
        "colab": {
          "base_uri": "https://localhost:8080/"
        },
        "id": "Ql7DtuL5oeS9",
        "outputId": "ea2dde6e-efb5-45d7-aef3-8f22892c62b8"
      },
      "execution_count": null,
      "outputs": [
        {
          "output_type": "execute_result",
          "data": {
            "text/plain": [
              "['.config', 'drive', 'sample_data']"
            ]
          },
          "metadata": {},
          "execution_count": 13
        }
      ]
    },
    {
      "cell_type": "code",
      "source": [
        "# ml-100k의 데이터 정보 확인\n",
        "\n",
        "information = pd.read_csv(\"/content/drive/MyDrive/ml-100k/u.info\", sep=\" \", header=None)\n",
        "information.columns=['Counts', 'Type']\n",
        "information"
      ],
      "metadata": {
        "colab": {
          "base_uri": "https://localhost:8080/",
          "height": 143
        },
        "id": "LC94SvNOonHc",
        "outputId": "a18af203-e7ea-49b4-ea7d-44f09a3e3999"
      },
      "execution_count": null,
      "outputs": [
        {
          "output_type": "execute_result",
          "data": {
            "text/html": [
              "<div>\n",
              "<style scoped>\n",
              "    .dataframe tbody tr th:only-of-type {\n",
              "        vertical-align: middle;\n",
              "    }\n",
              "\n",
              "    .dataframe tbody tr th {\n",
              "        vertical-align: top;\n",
              "    }\n",
              "\n",
              "    .dataframe thead th {\n",
              "        text-align: right;\n",
              "    }\n",
              "</style>\n",
              "<table border=\"1\" class=\"dataframe\">\n",
              "  <thead>\n",
              "    <tr style=\"text-align: right;\">\n",
              "      <th></th>\n",
              "      <th>Counts</th>\n",
              "      <th>Type</th>\n",
              "    </tr>\n",
              "  </thead>\n",
              "  <tbody>\n",
              "    <tr>\n",
              "      <th>0</th>\n",
              "      <td>943</td>\n",
              "      <td>users</td>\n",
              "    </tr>\n",
              "    <tr>\n",
              "      <th>1</th>\n",
              "      <td>1682</td>\n",
              "      <td>items</td>\n",
              "    </tr>\n",
              "    <tr>\n",
              "      <th>2</th>\n",
              "      <td>100000</td>\n",
              "      <td>ratings</td>\n",
              "    </tr>\n",
              "  </tbody>\n",
              "</table>\n",
              "</div>"
            ],
            "text/plain": [
              "   Counts     Type\n",
              "0     943    users\n",
              "1    1682    items\n",
              "2  100000  ratings"
            ]
          },
          "metadata": {},
          "execution_count": 14
        }
      ]
    },
    {
      "cell_type": "code",
      "source": [
        "# ml-100k의 사용자별 영화 평가 항목 확인\n",
        "\n",
        "user_data = pd.read_csv('../content/drive/MyDrive/ml-100k/u.data', sep=\"\\t\", header=None)\n",
        "user_data.columns = ['ser id', 'movie id', 'rating', 'timestamp']\n",
        "user_data.head(10)"
      ],
      "metadata": {
        "colab": {
          "base_uri": "https://localhost:8080/",
          "height": 363
        },
        "id": "uiAtGn_GqA9y",
        "outputId": "cd948010-564b-43f5-9e10-722a210a8270"
      },
      "execution_count": null,
      "outputs": [
        {
          "output_type": "execute_result",
          "data": {
            "text/html": [
              "<div>\n",
              "<style scoped>\n",
              "    .dataframe tbody tr th:only-of-type {\n",
              "        vertical-align: middle;\n",
              "    }\n",
              "\n",
              "    .dataframe tbody tr th {\n",
              "        vertical-align: top;\n",
              "    }\n",
              "\n",
              "    .dataframe thead th {\n",
              "        text-align: right;\n",
              "    }\n",
              "</style>\n",
              "<table border=\"1\" class=\"dataframe\">\n",
              "  <thead>\n",
              "    <tr style=\"text-align: right;\">\n",
              "      <th></th>\n",
              "      <th>ser id</th>\n",
              "      <th>movie id</th>\n",
              "      <th>rating</th>\n",
              "      <th>timestamp</th>\n",
              "    </tr>\n",
              "  </thead>\n",
              "  <tbody>\n",
              "    <tr>\n",
              "      <th>0</th>\n",
              "      <td>196</td>\n",
              "      <td>242</td>\n",
              "      <td>3</td>\n",
              "      <td>881250949</td>\n",
              "    </tr>\n",
              "    <tr>\n",
              "      <th>1</th>\n",
              "      <td>186</td>\n",
              "      <td>302</td>\n",
              "      <td>3</td>\n",
              "      <td>891717742</td>\n",
              "    </tr>\n",
              "    <tr>\n",
              "      <th>2</th>\n",
              "      <td>22</td>\n",
              "      <td>377</td>\n",
              "      <td>1</td>\n",
              "      <td>878887116</td>\n",
              "    </tr>\n",
              "    <tr>\n",
              "      <th>3</th>\n",
              "      <td>244</td>\n",
              "      <td>51</td>\n",
              "      <td>2</td>\n",
              "      <td>880606923</td>\n",
              "    </tr>\n",
              "    <tr>\n",
              "      <th>4</th>\n",
              "      <td>166</td>\n",
              "      <td>346</td>\n",
              "      <td>1</td>\n",
              "      <td>886397596</td>\n",
              "    </tr>\n",
              "    <tr>\n",
              "      <th>5</th>\n",
              "      <td>298</td>\n",
              "      <td>474</td>\n",
              "      <td>4</td>\n",
              "      <td>884182806</td>\n",
              "    </tr>\n",
              "    <tr>\n",
              "      <th>6</th>\n",
              "      <td>115</td>\n",
              "      <td>265</td>\n",
              "      <td>2</td>\n",
              "      <td>881171488</td>\n",
              "    </tr>\n",
              "    <tr>\n",
              "      <th>7</th>\n",
              "      <td>253</td>\n",
              "      <td>465</td>\n",
              "      <td>5</td>\n",
              "      <td>891628467</td>\n",
              "    </tr>\n",
              "    <tr>\n",
              "      <th>8</th>\n",
              "      <td>305</td>\n",
              "      <td>451</td>\n",
              "      <td>3</td>\n",
              "      <td>886324817</td>\n",
              "    </tr>\n",
              "    <tr>\n",
              "      <th>9</th>\n",
              "      <td>6</td>\n",
              "      <td>86</td>\n",
              "      <td>3</td>\n",
              "      <td>883603013</td>\n",
              "    </tr>\n",
              "  </tbody>\n",
              "</table>\n",
              "</div>"
            ],
            "text/plain": [
              "   ser id  movie id  rating  timestamp\n",
              "0     196       242       3  881250949\n",
              "1     186       302       3  891717742\n",
              "2      22       377       1  878887116\n",
              "3     244        51       2  880606923\n",
              "4     166       346       1  886397596\n",
              "5     298       474       4  884182806\n",
              "6     115       265       2  881171488\n",
              "7     253       465       5  891628467\n",
              "8     305       451       3  886324817\n",
              "9       6        86       3  883603013"
            ]
          },
          "metadata": {},
          "execution_count": 15
        }
      ]
    },
    {
      "cell_type": "code",
      "source": [
        "# ml-100k의 평가를 진행한 사용자의 정보 확인 (사용자 ID, 나이, 성별, 직업군, 거주지)\n",
        "\n",
        "users = pd.read_csv('../content/drive/MyDrive/ml-100k/u.user', sep=\"|\", encoding='latin-1', header=None)\n",
        "users.columns = ['user id', 'age', 'gender', 'occupation', 'zip code']\n",
        "users.head(10)"
      ],
      "metadata": {
        "colab": {
          "base_uri": "https://localhost:8080/",
          "height": 363
        },
        "id": "c9omigCvqZeR",
        "outputId": "bd5871c9-aa78-4f87-fb01-ff899a53caf3"
      },
      "execution_count": null,
      "outputs": [
        {
          "output_type": "execute_result",
          "data": {
            "text/html": [
              "<div>\n",
              "<style scoped>\n",
              "    .dataframe tbody tr th:only-of-type {\n",
              "        vertical-align: middle;\n",
              "    }\n",
              "\n",
              "    .dataframe tbody tr th {\n",
              "        vertical-align: top;\n",
              "    }\n",
              "\n",
              "    .dataframe thead th {\n",
              "        text-align: right;\n",
              "    }\n",
              "</style>\n",
              "<table border=\"1\" class=\"dataframe\">\n",
              "  <thead>\n",
              "    <tr style=\"text-align: right;\">\n",
              "      <th></th>\n",
              "      <th>user id</th>\n",
              "      <th>age</th>\n",
              "      <th>gender</th>\n",
              "      <th>occupation</th>\n",
              "      <th>zip code</th>\n",
              "    </tr>\n",
              "  </thead>\n",
              "  <tbody>\n",
              "    <tr>\n",
              "      <th>0</th>\n",
              "      <td>1</td>\n",
              "      <td>24</td>\n",
              "      <td>M</td>\n",
              "      <td>technician</td>\n",
              "      <td>85711</td>\n",
              "    </tr>\n",
              "    <tr>\n",
              "      <th>1</th>\n",
              "      <td>2</td>\n",
              "      <td>53</td>\n",
              "      <td>F</td>\n",
              "      <td>other</td>\n",
              "      <td>94043</td>\n",
              "    </tr>\n",
              "    <tr>\n",
              "      <th>2</th>\n",
              "      <td>3</td>\n",
              "      <td>23</td>\n",
              "      <td>M</td>\n",
              "      <td>writer</td>\n",
              "      <td>32067</td>\n",
              "    </tr>\n",
              "    <tr>\n",
              "      <th>3</th>\n",
              "      <td>4</td>\n",
              "      <td>24</td>\n",
              "      <td>M</td>\n",
              "      <td>technician</td>\n",
              "      <td>43537</td>\n",
              "    </tr>\n",
              "    <tr>\n",
              "      <th>4</th>\n",
              "      <td>5</td>\n",
              "      <td>33</td>\n",
              "      <td>F</td>\n",
              "      <td>other</td>\n",
              "      <td>15213</td>\n",
              "    </tr>\n",
              "    <tr>\n",
              "      <th>5</th>\n",
              "      <td>6</td>\n",
              "      <td>42</td>\n",
              "      <td>M</td>\n",
              "      <td>executive</td>\n",
              "      <td>98101</td>\n",
              "    </tr>\n",
              "    <tr>\n",
              "      <th>6</th>\n",
              "      <td>7</td>\n",
              "      <td>57</td>\n",
              "      <td>M</td>\n",
              "      <td>administrator</td>\n",
              "      <td>91344</td>\n",
              "    </tr>\n",
              "    <tr>\n",
              "      <th>7</th>\n",
              "      <td>8</td>\n",
              "      <td>36</td>\n",
              "      <td>M</td>\n",
              "      <td>administrator</td>\n",
              "      <td>05201</td>\n",
              "    </tr>\n",
              "    <tr>\n",
              "      <th>8</th>\n",
              "      <td>9</td>\n",
              "      <td>29</td>\n",
              "      <td>M</td>\n",
              "      <td>student</td>\n",
              "      <td>01002</td>\n",
              "    </tr>\n",
              "    <tr>\n",
              "      <th>9</th>\n",
              "      <td>10</td>\n",
              "      <td>53</td>\n",
              "      <td>M</td>\n",
              "      <td>lawyer</td>\n",
              "      <td>90703</td>\n",
              "    </tr>\n",
              "  </tbody>\n",
              "</table>\n",
              "</div>"
            ],
            "text/plain": [
              "   user id  age gender     occupation zip code\n",
              "0        1   24      M     technician    85711\n",
              "1        2   53      F          other    94043\n",
              "2        3   23      M         writer    32067\n",
              "3        4   24      M     technician    43537\n",
              "4        5   33      F          other    15213\n",
              "5        6   42      M      executive    98101\n",
              "6        7   57      M  administrator    91344\n",
              "7        8   36      M  administrator    05201\n",
              "8        9   29      M        student    01002\n",
              "9       10   53      M         lawyer    90703"
            ]
          },
          "metadata": {},
          "execution_count": 16
        }
      ]
    },
    {
      "cell_type": "code",
      "source": [
        "# ml-100k의 평가를 진행한 사용자 직업군 분류\n",
        "\n",
        "jobs = pd.read_csv('../content/drive/MyDrive/ml-100k/u.occupation', sep=\"|\", encoding='latin-1', header=None)\n",
        "jobs.columns = ['Occupations']\n",
        "jobs = list(jobs['Occupations'])\n",
        "jobs"
      ],
      "metadata": {
        "colab": {
          "base_uri": "https://localhost:8080/"
        },
        "id": "ol_HAwQJqZwt",
        "outputId": "c7e80c58-3aca-4bfa-922c-bc8bbebadb54"
      },
      "execution_count": null,
      "outputs": [
        {
          "output_type": "execute_result",
          "data": {
            "text/plain": [
              "['administrator',\n",
              " 'artist',\n",
              " 'doctor',\n",
              " 'educator',\n",
              " 'engineer',\n",
              " 'entertainment',\n",
              " 'executive',\n",
              " 'healthcare',\n",
              " 'homemaker',\n",
              " 'lawyer',\n",
              " 'librarian',\n",
              " 'marketing',\n",
              " 'none',\n",
              " 'other',\n",
              " 'programmer',\n",
              " 'retired',\n",
              " 'salesman',\n",
              " 'scientist',\n",
              " 'student',\n",
              " 'technician',\n",
              " 'writer']"
            ]
          },
          "metadata": {},
          "execution_count": 17
        }
      ]
    },
    {
      "cell_type": "code",
      "source": [
        "# ml-100k의 영화 장르정보 확인\n",
        "\n",
        "genre = pd.read_csv('../content/drive/MyDrive/ml-100k/u.genre', sep=\"|\", encoding='latin-1', header=None)\n",
        "genre.drop(genre.columns[1], axis=1, inplace=True)\n",
        "genre.columns = ['Genres']\n",
        "genre_list = list(genre['Genres'])\n",
        "genre_list"
      ],
      "metadata": {
        "colab": {
          "base_uri": "https://localhost:8080/"
        },
        "id": "O-wF95TzpSd8",
        "outputId": "ab0140ba-efce-4b96-dbad-9dde1b2e07b3"
      },
      "execution_count": null,
      "outputs": [
        {
          "output_type": "execute_result",
          "data": {
            "text/plain": [
              "['unknown',\n",
              " 'Action',\n",
              " 'Adventure',\n",
              " 'Animation',\n",
              " \"Children's\",\n",
              " 'Comedy',\n",
              " 'Crime',\n",
              " 'Documentary',\n",
              " 'Drama',\n",
              " 'Fantasy',\n",
              " 'Film-Noir',\n",
              " 'Horror',\n",
              " 'Musical',\n",
              " 'Mystery',\n",
              " 'Romance',\n",
              " 'Sci-Fi',\n",
              " 'Thriller',\n",
              " 'War',\n",
              " 'Western']"
            ]
          },
          "metadata": {},
          "execution_count": 18
        }
      ]
    },
    {
      "cell_type": "code",
      "source": [
        "# ml-100k에서 제공하는 영화 정보 (영화 ID, 영화 제목, 개봉일, IMDB URL, 장르)\n",
        "\n",
        "movies = pd.read_csv('../content/drive/MyDrive/ml-100k/u.item', sep=\"|\", encoding='latin-1', header=None)\n",
        "movies.columns = ['movie id', 'movie title' ,'release date','video release date', 'IMDb URL', 'unknown', 'Action', \n",
        "                  'Adventure', 'Animation', 'Children\\'s', 'Comedy', 'Crime', 'Documentary', 'Drama', 'Fantasy', 'Film-Noir', \n",
        "                  'Horror', 'Musical', 'Mystery', 'Romance', 'Sci-Fi', 'Thriller', 'War', 'Western']\n",
        "movies.head(10)"
      ],
      "metadata": {
        "colab": {
          "base_uri": "https://localhost:8080/",
          "height": 713
        },
        "id": "2W1YueJWq6QM",
        "outputId": "aca45703-3de1-4fc8-86c1-1a89c5f4b8c4"
      },
      "execution_count": null,
      "outputs": [
        {
          "output_type": "execute_result",
          "data": {
            "text/html": [
              "<div>\n",
              "<style scoped>\n",
              "    .dataframe tbody tr th:only-of-type {\n",
              "        vertical-align: middle;\n",
              "    }\n",
              "\n",
              "    .dataframe tbody tr th {\n",
              "        vertical-align: top;\n",
              "    }\n",
              "\n",
              "    .dataframe thead th {\n",
              "        text-align: right;\n",
              "    }\n",
              "</style>\n",
              "<table border=\"1\" class=\"dataframe\">\n",
              "  <thead>\n",
              "    <tr style=\"text-align: right;\">\n",
              "      <th></th>\n",
              "      <th>movie id</th>\n",
              "      <th>movie title</th>\n",
              "      <th>release date</th>\n",
              "      <th>video release date</th>\n",
              "      <th>IMDb URL</th>\n",
              "      <th>unknown</th>\n",
              "      <th>Action</th>\n",
              "      <th>Adventure</th>\n",
              "      <th>Animation</th>\n",
              "      <th>Children's</th>\n",
              "      <th>Comedy</th>\n",
              "      <th>Crime</th>\n",
              "      <th>Documentary</th>\n",
              "      <th>Drama</th>\n",
              "      <th>Fantasy</th>\n",
              "      <th>Film-Noir</th>\n",
              "      <th>Horror</th>\n",
              "      <th>Musical</th>\n",
              "      <th>Mystery</th>\n",
              "      <th>Romance</th>\n",
              "      <th>Sci-Fi</th>\n",
              "      <th>Thriller</th>\n",
              "      <th>War</th>\n",
              "      <th>Western</th>\n",
              "    </tr>\n",
              "  </thead>\n",
              "  <tbody>\n",
              "    <tr>\n",
              "      <th>0</th>\n",
              "      <td>1</td>\n",
              "      <td>Toy Story (1995)</td>\n",
              "      <td>01-Jan-1995</td>\n",
              "      <td>NaN</td>\n",
              "      <td>http://us.imdb.com/M/title-exact?Toy%20Story%2...</td>\n",
              "      <td>0</td>\n",
              "      <td>0</td>\n",
              "      <td>0</td>\n",
              "      <td>1</td>\n",
              "      <td>1</td>\n",
              "      <td>1</td>\n",
              "      <td>0</td>\n",
              "      <td>0</td>\n",
              "      <td>0</td>\n",
              "      <td>0</td>\n",
              "      <td>0</td>\n",
              "      <td>0</td>\n",
              "      <td>0</td>\n",
              "      <td>0</td>\n",
              "      <td>0</td>\n",
              "      <td>0</td>\n",
              "      <td>0</td>\n",
              "      <td>0</td>\n",
              "      <td>0</td>\n",
              "    </tr>\n",
              "    <tr>\n",
              "      <th>1</th>\n",
              "      <td>2</td>\n",
              "      <td>GoldenEye (1995)</td>\n",
              "      <td>01-Jan-1995</td>\n",
              "      <td>NaN</td>\n",
              "      <td>http://us.imdb.com/M/title-exact?GoldenEye%20(...</td>\n",
              "      <td>0</td>\n",
              "      <td>1</td>\n",
              "      <td>1</td>\n",
              "      <td>0</td>\n",
              "      <td>0</td>\n",
              "      <td>0</td>\n",
              "      <td>0</td>\n",
              "      <td>0</td>\n",
              "      <td>0</td>\n",
              "      <td>0</td>\n",
              "      <td>0</td>\n",
              "      <td>0</td>\n",
              "      <td>0</td>\n",
              "      <td>0</td>\n",
              "      <td>0</td>\n",
              "      <td>0</td>\n",
              "      <td>1</td>\n",
              "      <td>0</td>\n",
              "      <td>0</td>\n",
              "    </tr>\n",
              "    <tr>\n",
              "      <th>2</th>\n",
              "      <td>3</td>\n",
              "      <td>Four Rooms (1995)</td>\n",
              "      <td>01-Jan-1995</td>\n",
              "      <td>NaN</td>\n",
              "      <td>http://us.imdb.com/M/title-exact?Four%20Rooms%...</td>\n",
              "      <td>0</td>\n",
              "      <td>0</td>\n",
              "      <td>0</td>\n",
              "      <td>0</td>\n",
              "      <td>0</td>\n",
              "      <td>0</td>\n",
              "      <td>0</td>\n",
              "      <td>0</td>\n",
              "      <td>0</td>\n",
              "      <td>0</td>\n",
              "      <td>0</td>\n",
              "      <td>0</td>\n",
              "      <td>0</td>\n",
              "      <td>0</td>\n",
              "      <td>0</td>\n",
              "      <td>0</td>\n",
              "      <td>1</td>\n",
              "      <td>0</td>\n",
              "      <td>0</td>\n",
              "    </tr>\n",
              "    <tr>\n",
              "      <th>3</th>\n",
              "      <td>4</td>\n",
              "      <td>Get Shorty (1995)</td>\n",
              "      <td>01-Jan-1995</td>\n",
              "      <td>NaN</td>\n",
              "      <td>http://us.imdb.com/M/title-exact?Get%20Shorty%...</td>\n",
              "      <td>0</td>\n",
              "      <td>1</td>\n",
              "      <td>0</td>\n",
              "      <td>0</td>\n",
              "      <td>0</td>\n",
              "      <td>1</td>\n",
              "      <td>0</td>\n",
              "      <td>0</td>\n",
              "      <td>1</td>\n",
              "      <td>0</td>\n",
              "      <td>0</td>\n",
              "      <td>0</td>\n",
              "      <td>0</td>\n",
              "      <td>0</td>\n",
              "      <td>0</td>\n",
              "      <td>0</td>\n",
              "      <td>0</td>\n",
              "      <td>0</td>\n",
              "      <td>0</td>\n",
              "    </tr>\n",
              "    <tr>\n",
              "      <th>4</th>\n",
              "      <td>5</td>\n",
              "      <td>Copycat (1995)</td>\n",
              "      <td>01-Jan-1995</td>\n",
              "      <td>NaN</td>\n",
              "      <td>http://us.imdb.com/M/title-exact?Copycat%20(1995)</td>\n",
              "      <td>0</td>\n",
              "      <td>0</td>\n",
              "      <td>0</td>\n",
              "      <td>0</td>\n",
              "      <td>0</td>\n",
              "      <td>0</td>\n",
              "      <td>1</td>\n",
              "      <td>0</td>\n",
              "      <td>1</td>\n",
              "      <td>0</td>\n",
              "      <td>0</td>\n",
              "      <td>0</td>\n",
              "      <td>0</td>\n",
              "      <td>0</td>\n",
              "      <td>0</td>\n",
              "      <td>0</td>\n",
              "      <td>1</td>\n",
              "      <td>0</td>\n",
              "      <td>0</td>\n",
              "    </tr>\n",
              "    <tr>\n",
              "      <th>5</th>\n",
              "      <td>6</td>\n",
              "      <td>Shanghai Triad (Yao a yao yao dao waipo qiao) ...</td>\n",
              "      <td>01-Jan-1995</td>\n",
              "      <td>NaN</td>\n",
              "      <td>http://us.imdb.com/Title?Yao+a+yao+yao+dao+wai...</td>\n",
              "      <td>0</td>\n",
              "      <td>0</td>\n",
              "      <td>0</td>\n",
              "      <td>0</td>\n",
              "      <td>0</td>\n",
              "      <td>0</td>\n",
              "      <td>0</td>\n",
              "      <td>0</td>\n",
              "      <td>1</td>\n",
              "      <td>0</td>\n",
              "      <td>0</td>\n",
              "      <td>0</td>\n",
              "      <td>0</td>\n",
              "      <td>0</td>\n",
              "      <td>0</td>\n",
              "      <td>0</td>\n",
              "      <td>0</td>\n",
              "      <td>0</td>\n",
              "      <td>0</td>\n",
              "    </tr>\n",
              "    <tr>\n",
              "      <th>6</th>\n",
              "      <td>7</td>\n",
              "      <td>Twelve Monkeys (1995)</td>\n",
              "      <td>01-Jan-1995</td>\n",
              "      <td>NaN</td>\n",
              "      <td>http://us.imdb.com/M/title-exact?Twelve%20Monk...</td>\n",
              "      <td>0</td>\n",
              "      <td>0</td>\n",
              "      <td>0</td>\n",
              "      <td>0</td>\n",
              "      <td>0</td>\n",
              "      <td>0</td>\n",
              "      <td>0</td>\n",
              "      <td>0</td>\n",
              "      <td>1</td>\n",
              "      <td>0</td>\n",
              "      <td>0</td>\n",
              "      <td>0</td>\n",
              "      <td>0</td>\n",
              "      <td>0</td>\n",
              "      <td>0</td>\n",
              "      <td>1</td>\n",
              "      <td>0</td>\n",
              "      <td>0</td>\n",
              "      <td>0</td>\n",
              "    </tr>\n",
              "    <tr>\n",
              "      <th>7</th>\n",
              "      <td>8</td>\n",
              "      <td>Babe (1995)</td>\n",
              "      <td>01-Jan-1995</td>\n",
              "      <td>NaN</td>\n",
              "      <td>http://us.imdb.com/M/title-exact?Babe%20(1995)</td>\n",
              "      <td>0</td>\n",
              "      <td>0</td>\n",
              "      <td>0</td>\n",
              "      <td>0</td>\n",
              "      <td>1</td>\n",
              "      <td>1</td>\n",
              "      <td>0</td>\n",
              "      <td>0</td>\n",
              "      <td>1</td>\n",
              "      <td>0</td>\n",
              "      <td>0</td>\n",
              "      <td>0</td>\n",
              "      <td>0</td>\n",
              "      <td>0</td>\n",
              "      <td>0</td>\n",
              "      <td>0</td>\n",
              "      <td>0</td>\n",
              "      <td>0</td>\n",
              "      <td>0</td>\n",
              "    </tr>\n",
              "    <tr>\n",
              "      <th>8</th>\n",
              "      <td>9</td>\n",
              "      <td>Dead Man Walking (1995)</td>\n",
              "      <td>01-Jan-1995</td>\n",
              "      <td>NaN</td>\n",
              "      <td>http://us.imdb.com/M/title-exact?Dead%20Man%20...</td>\n",
              "      <td>0</td>\n",
              "      <td>0</td>\n",
              "      <td>0</td>\n",
              "      <td>0</td>\n",
              "      <td>0</td>\n",
              "      <td>0</td>\n",
              "      <td>0</td>\n",
              "      <td>0</td>\n",
              "      <td>1</td>\n",
              "      <td>0</td>\n",
              "      <td>0</td>\n",
              "      <td>0</td>\n",
              "      <td>0</td>\n",
              "      <td>0</td>\n",
              "      <td>0</td>\n",
              "      <td>0</td>\n",
              "      <td>0</td>\n",
              "      <td>0</td>\n",
              "      <td>0</td>\n",
              "    </tr>\n",
              "    <tr>\n",
              "      <th>9</th>\n",
              "      <td>10</td>\n",
              "      <td>Richard III (1995)</td>\n",
              "      <td>22-Jan-1996</td>\n",
              "      <td>NaN</td>\n",
              "      <td>http://us.imdb.com/M/title-exact?Richard%20III...</td>\n",
              "      <td>0</td>\n",
              "      <td>0</td>\n",
              "      <td>0</td>\n",
              "      <td>0</td>\n",
              "      <td>0</td>\n",
              "      <td>0</td>\n",
              "      <td>0</td>\n",
              "      <td>0</td>\n",
              "      <td>1</td>\n",
              "      <td>0</td>\n",
              "      <td>0</td>\n",
              "      <td>0</td>\n",
              "      <td>0</td>\n",
              "      <td>0</td>\n",
              "      <td>0</td>\n",
              "      <td>0</td>\n",
              "      <td>0</td>\n",
              "      <td>1</td>\n",
              "      <td>0</td>\n",
              "    </tr>\n",
              "  </tbody>\n",
              "</table>\n",
              "</div>"
            ],
            "text/plain": [
              "   movie id                                        movie title  ... War  Western\n",
              "0         1                                   Toy Story (1995)  ...   0        0\n",
              "1         2                                   GoldenEye (1995)  ...   0        0\n",
              "2         3                                  Four Rooms (1995)  ...   0        0\n",
              "3         4                                  Get Shorty (1995)  ...   0        0\n",
              "4         5                                     Copycat (1995)  ...   0        0\n",
              "5         6  Shanghai Triad (Yao a yao yao dao waipo qiao) ...  ...   0        0\n",
              "6         7                              Twelve Monkeys (1995)  ...   0        0\n",
              "7         8                                        Babe (1995)  ...   0        0\n",
              "8         9                            Dead Man Walking (1995)  ...   0        0\n",
              "9        10                                 Richard III (1995)  ...   1        0\n",
              "\n",
              "[10 rows x 24 columns]"
            ]
          },
          "metadata": {},
          "execution_count": 19
        }
      ]
    },
    {
      "cell_type": "markdown",
      "source": [
        "# 추천 시스템 (Collaborative Filtering)\n",
        "\n",
        "1. Collaborative Filtering :  \n",
        "  - 사용자가 평가한 항목간의 유사성을 고려하여 추천하는 방식  \n",
        "  - 취향이 비슷한 집단에서 선호하는 아이템을 추천하는 방식으로 진행  \n",
        "  - 직관적이기 때문에 분석할 필요가 없음  \n",
        "  - Cold Start 문제 발생 (새로운 항목이 추가되는 경우 추천정보가 쌓이기 전까지 추천해주기 어려움)  \n",
        "  - Long Tail 문제 발생 (선호도가 적은 항목에 대해 추천하기 어려움)  "
      ],
      "metadata": {
        "id": "ALKl2AJgrRzu"
      }
    },
    {
      "cell_type": "markdown",
      "source": [
        "- Collaborative Filtering에 사용하는 함수로는\n",
        "  1. Dot Product\n",
        "  2. Euclidean Distance  \n",
        "  3. Cosine Similarity"
      ],
      "metadata": {
        "id": "icYzDvPoveC3"
      }
    },
    {
      "cell_type": "code",
      "source": [
        "data = Dataset.load_builtin('ml-100k', prompt=False)  # 기본 제공 dataset load\n",
        "# prompt = True인 경우 다운로드 할지 안할지 선택하는 창 보여줌\n",
        "#          False인 경우 바로 다운로드\n",
        "# Dataset module은 Dataset의 Class, subclass 정의함\n",
        "\n",
        "data.raw_ratings[:10]\n",
        "# 10개의 데이터 뽑아봄\n",
        "# [사용자ID, 상품ID, 평점, 시간] 순으로 표시해줌"
      ],
      "metadata": {
        "colab": {
          "base_uri": "https://localhost:8080/"
        },
        "id": "loZeqPJpviUj",
        "outputId": "73a5236a-8f6f-4871-ff8c-e7de62c474a2"
      },
      "execution_count": null,
      "outputs": [
        {
          "output_type": "execute_result",
          "data": {
            "text/plain": [
              "[('196', '242', 3.0, '881250949'),\n",
              " ('186', '302', 3.0, '891717742'),\n",
              " ('22', '377', 1.0, '878887116'),\n",
              " ('244', '51', 2.0, '880606923'),\n",
              " ('166', '346', 1.0, '886397596'),\n",
              " ('298', '474', 4.0, '884182806'),\n",
              " ('115', '265', 2.0, '881171488'),\n",
              " ('253', '465', 5.0, '891628467'),\n",
              " ('305', '451', 3.0, '886324817'),\n",
              " ('6', '86', 3.0, '883603013')]"
            ]
          },
          "metadata": {},
          "execution_count": 62
        }
      ]
    },
    {
      "cell_type": "code",
      "source": [
        "raw_data = np.array(data.raw_ratings, dtype=int)\n",
        "\n",
        "raw_data[:10]\n",
        "# raw_data 출력"
      ],
      "metadata": {
        "colab": {
          "base_uri": "https://localhost:8080/"
        },
        "id": "nJe7B214viQT",
        "outputId": "4e3ba24c-785f-4fad-c749-c88987c9f4e5"
      },
      "execution_count": null,
      "outputs": [
        {
          "output_type": "execute_result",
          "data": {
            "text/plain": [
              "array([[      196,       242,         3, 881250949],\n",
              "       [      186,       302,         3, 891717742],\n",
              "       [       22,       377,         1, 878887116],\n",
              "       [      244,        51,         2, 880606923],\n",
              "       [      166,       346,         1, 886397596],\n",
              "       [      298,       474,         4, 884182806],\n",
              "       [      115,       265,         2, 881171488],\n",
              "       [      253,       465,         5, 891628467],\n",
              "       [      305,       451,         3, 886324817],\n",
              "       [        6,        86,         3, 883603013]])"
            ]
          },
          "metadata": {},
          "execution_count": 63
        }
      ]
    },
    {
      "cell_type": "code",
      "source": [
        "raw_data[:,0] -= 1\n",
        "raw_data[:,1] -= 1\n",
        "\n",
        "raw_data[:10]\n",
        "# 사용자ID, 상품ID 시작 번호는 '1'에서 시작됨\n",
        "# 사용자ID 갯수 : 943 / 상품ID 갯수 : 1682\n",
        "# 1st, 2nd column의 값을 1씩 뺌 (0에서 시작되도록 만들기 위해)"
      ],
      "metadata": {
        "colab": {
          "base_uri": "https://localhost:8080/"
        },
        "id": "aRGShRXkywMR",
        "outputId": "df001c03-034f-4c0c-d98d-fc63cff76b77"
      },
      "execution_count": null,
      "outputs": [
        {
          "output_type": "execute_result",
          "data": {
            "text/plain": [
              "array([[      194,       240,         3, 881250949],\n",
              "       [      184,       300,         3, 891717742],\n",
              "       [       20,       375,         1, 878887116],\n",
              "       [      242,        49,         2, 880606923],\n",
              "       [      164,       344,         1, 886397596],\n",
              "       [      296,       472,         4, 884182806],\n",
              "       [      113,       263,         2, 881171488],\n",
              "       [      251,       463,         5, 891628467],\n",
              "       [      303,       449,         3, 886324817],\n",
              "       [        4,        84,         3, 883603013]])"
            ]
          },
          "metadata": {},
          "execution_count": 67
        }
      ]
    },
    {
      "cell_type": "code",
      "source": [
        "n_users = np.max(raw_data[:,0])\n",
        "n_movies = np.max(raw_data[:,1])\n",
        "\n",
        "print(\"number of users are\",n_users,\" number of movies are\", n_movies)\n",
        "# raw_data의 사용자ID, 상품ID의 최대값을 찾음\n",
        "# n_users = 942, n_movies = 1681\n",
        "\n",
        "shape = (n_users + 1, n_movies + 1)\n",
        "print(\"shape is\", shape)\n",
        "# 임의의 사용자(my_id)를 추가하기 위하여 shape + 1 추가"
      ],
      "metadata": {
        "colab": {
          "base_uri": "https://localhost:8080/"
        },
        "id": "SQvhhfouy3za",
        "outputId": "604e874c-c60d-4ccb-bc5e-6d820ebff71d"
      },
      "execution_count": null,
      "outputs": [
        {
          "output_type": "stream",
          "name": "stdout",
          "text": [
            "number of users are 941  number of movies are 1680\n",
            "shape is (942, 1681)\n"
          ]
        }
      ]
    },
    {
      "cell_type": "code",
      "source": [
        "# 인접행렬 생성\n",
        "# 제대로 동작하지 않는 경우, 한번 더 코드 시뮬레이션 진행해야함\n",
        "\n",
        "adj_matrix = np.ndarray(shape, dtype=int)\n",
        "\n",
        "# for [변수] in [문자열, 리스트, 튜플]\n",
        "#     [수행부분]\n",
        "# [문자열, 리스트, 튜플]을 순서대로 순회하면서 하나씩 [변수]에 넣어준다.\n",
        "for user_id, movie_id, rating, time in raw_data:\n",
        "    # adj_matrix[user_id][movie_id] = 1. # 모든 rating = 1로 설정하는 경우\n",
        "    adj_matrix[user_id][movie_id] = rating  # rating을 파일값을 토대로 설정하는 경우\n",
        "    \n",
        "    # 해당 User_id에서 특정 Movie_id에 대한 rating, time이 있는경우 변환\n",
        "    # 영화를 봤는지 안봤는지 표시해줌\n",
        "    \n",
        "adj_matrix\n",
        "# np.ndarray 파일을 엑셀파일로 변환\n",
        "#pd.DataFrame(adj_matrix).to_csv('adj_matrix.csv')"
      ],
      "metadata": {
        "colab": {
          "base_uri": "https://localhost:8080/"
        },
        "id": "tndYTpQCzImF",
        "outputId": "0a40d99c-414e-4a13-f2ab-5c7eab0b1207"
      },
      "execution_count": null,
      "outputs": [
        {
          "output_type": "execute_result",
          "data": {
            "text/plain": [
              "array([[0, 0, 0, ..., 0, 0, 4],\n",
              "       [0, 0, 0, ..., 0, 0, 0],\n",
              "       [0, 0, 0, ..., 0, 0, 0],\n",
              "       ...,\n",
              "       [0, 0, 0, ..., 0, 0, 5],\n",
              "       [0, 0, 0, ..., 0, 0, 0],\n",
              "       [5, 4, 3, ..., 0, 0, 5]])"
            ]
          },
          "metadata": {},
          "execution_count": 69
        }
      ]
    },
    {
      "cell_type": "markdown",
      "source": [
        "#1. Dot Product"
      ],
      "metadata": {
        "id": "rZcBBn8cGJjz"
      }
    },
    {
      "cell_type": "code",
      "source": [
        "# Dot Product\n",
        "\n",
        "my_id, my_vector = 0, adj_matrix[0]               # 사실상 '사용자0' 을 나의 아이디로 만든 후 테스트 진행\n",
        "print(\"my vector shape is\", adj_matrix[0].shape)  # 0~1681개의 영화 모두를 의미 (총 1682개)\n",
        "print(\"my vector is\", adj_matrix[0])              # 0~1681개 영화 봤는지 여부 확인\n",
        "\n",
        "best_match, best_match_id, best_match_vector = -1, -1, [] # default value 설정\n",
        "\n",
        "for user_id, user_vector in enumerate(adj_matrix): # 인접행렬만큼 실행\n",
        "\n",
        "  if my_id != user_id:\n",
        "    similarity = np.dot(my_vector, user_vector)\n",
        "    if similarity > best_match:\n",
        "       best_match = similarity\n",
        "       best_match_id = user_id\n",
        "       best_match_vector = user_vector\n",
        "       # 두 벡터를 내적한 값이 큰값을 Best match로 설정함\n",
        "       # Simliarity가 best match보다 큰 경우, user_id, user_vector 대체함\n",
        "\n",
        "print('Best Match: {}, Best Match ID: {}'.format(best_match, best_match_id))"
      ],
      "metadata": {
        "colab": {
          "base_uri": "https://localhost:8080/"
        },
        "id": "DZFJya5KzTRe",
        "outputId": "6cd70275-7dcb-4de5-b3b1-bfe3998a414b"
      },
      "execution_count": null,
      "outputs": [
        {
          "output_type": "stream",
          "name": "stdout",
          "text": [
            "my vector shape is (1681,)\n",
            "my vector is [0 0 0 ... 0 0 4]\n",
            "Best Match: 830, Best Match ID: 414\n"
          ]
        }
      ]
    },
    {
      "cell_type": "code",
      "source": [
        "# Recommend List 출력 (User_id가 안 본 영화 추천)\n",
        "\n",
        "recommend_list = []\n",
        "best_match_recommend_list = []\n",
        "\n",
        "# https://jongminfire.dev/%ED%8C%8C%EC%9D%B4%EC%8D%AC-enumerate-zip\n",
        "# enumerate : 인자의 값을 추출 할 때(?) 인덱스를 추출하는 기법\n",
        "# zip : 인덱스와 함께 추출할 때 쓰는 기법\n",
        "\n",
        "for i, log in enumerate(zip(my_vector, best_match_vector)):\n",
        "  log1, log2 = log\n",
        "  if log1 < 1. and log2 > 0.:    # my_vector = 0 / best_match_vector = 1 인경우\n",
        "    recommend_list.append(i)     # my_id에게 추천하는 경우\n",
        "#  elif log1 > 0. and log2 < 1.:         # my_vector = 1 / best_match_vector = 0 인경우\n",
        "#    best_match_recommend_list.append(i) # best_match_id에게 추천하는 경우\n",
        "\n",
        "print('Recommended movie list:',recommend_list)\n",
        "# User_id가 본 movie중 my_id에서 보지않은 movie recommend list 출력\n",
        "#print(best_match_recommend_list)\n",
        "# User_id가 안본 movie중 my_id가 본 movie recommend list 출력"
      ],
      "metadata": {
        "colab": {
          "base_uri": "https://localhost:8080/"
        },
        "id": "8cG5smmh0X1q",
        "outputId": "f25a6847-b5e1-4789-fc8d-c7642323c03a"
      },
      "execution_count": null,
      "outputs": [
        {
          "output_type": "stream",
          "name": "stdout",
          "text": [
            "Recommended movie list: [0, 2, 5, 6, 7, 9, 10, 13, 15, 19, 20, 22, 25, 26, 27, 29, 30, 34, 36, 39, 40, 41, 42, 47, 49, 51, 52, 53, 54, 56, 62, 63, 64, 65, 67, 68, 69, 70, 71, 75, 76, 77, 78, 79, 80, 81, 83, 84, 85, 86, 88, 90, 91, 92, 93, 94, 95, 96, 97, 101, 103, 104, 105, 115, 116, 119, 120, 121, 122, 123, 124, 130, 131, 132, 134, 135, 138, 140, 141, 142, 145, 146, 148, 149, 151, 152, 153, 154, 155, 156, 157, 159, 162, 166, 170, 171, 172, 174, 176, 177, 179, 180, 181, 182, 183, 185, 189, 192, 193, 194, 195, 197, 198, 200, 201, 202, 207, 208, 209, 211, 213, 214, 215, 216, 217, 218, 221, 223, 224, 228, 229, 230, 232, 233, 236, 237, 238, 239, 243, 244, 246, 247, 248, 250, 251, 252, 257, 262, 263, 264, 266, 315, 316, 317, 320, 321, 324, 325, 326, 327, 328, 329, 330, 331, 336, 337, 343, 344, 345, 346, 351, 352, 354, 355, 362, 364, 365, 367, 373, 376, 383, 385, 386, 390, 391, 393, 394, 397, 399, 400, 401, 402, 403, 409, 410, 413, 414, 415, 416, 417, 418, 419, 421, 423, 425, 429, 430, 431, 441, 445, 446, 449, 450, 460, 461, 466, 467, 468, 469, 470, 471, 473, 474, 475, 477, 478, 489, 494, 496, 498, 499, 504, 507, 508, 513, 518, 524, 529, 530, 533, 536, 540, 542, 544, 547, 548, 551, 552, 557, 558, 562, 566, 569, 574, 576, 583, 586, 589, 590, 595, 601, 605, 612, 617, 618, 622, 623, 625, 626, 629, 631, 649, 650, 653, 655, 656, 657, 658, 660, 674, 676, 678, 680, 682, 683, 684, 687, 688, 690, 691, 694, 697, 705, 706, 708, 710, 711, 715, 718, 719, 721, 722, 725, 727, 730, 732, 733, 735, 736, 737, 740, 744, 745, 746, 748, 752, 753, 759, 760, 761, 763, 766, 768, 773, 776, 779, 781, 783, 788, 789, 790, 792, 793, 801, 805, 810, 813, 817, 819, 822, 825, 831, 832, 838, 840, 841, 843, 844, 847, 862, 863, 864, 867, 871, 872, 873, 877, 893, 896, 913, 914, 915, 916, 922, 924, 926, 927, 928, 929, 932, 934, 935, 936, 939, 940, 953, 957, 964, 970, 973, 978, 983, 988, 995, 1005, 1009, 1010, 1012, 1014, 1018, 1033, 1035, 1039, 1046, 1049, 1051, 1052, 1056, 1072, 1075, 1087, 1089, 1090, 1096, 1117, 1130, 1131, 1133, 1134, 1137, 1145, 1150, 1158, 1166, 1186, 1187, 1215, 1218, 1219, 1224, 1227, 1260, 1262, 1284, 1298, 1334, 1335, 1398, 1405, 1424, 1426, 1439, 1467, 1476, 1481, 1493, 1501, 1514, 1515, 1519, 1538, 1592]\n"
          ]
        }
      ]
    },
    {
      "cell_type": "code",
      "source": [
        "movies.loc[recommend_list, ['movie id', 'movie title' ,'release date']]\n",
        "# 보지 않은 영화목록 출력"
      ],
      "metadata": {
        "colab": {
          "base_uri": "https://localhost:8080/",
          "height": 424
        },
        "id": "3xpvQHv1FK1c",
        "outputId": "806fef9a-33ae-4171-d686-61d40754626b"
      },
      "execution_count": null,
      "outputs": [
        {
          "output_type": "execute_result",
          "data": {
            "text/html": [
              "<div>\n",
              "<style scoped>\n",
              "    .dataframe tbody tr th:only-of-type {\n",
              "        vertical-align: middle;\n",
              "    }\n",
              "\n",
              "    .dataframe tbody tr th {\n",
              "        vertical-align: top;\n",
              "    }\n",
              "\n",
              "    .dataframe thead th {\n",
              "        text-align: right;\n",
              "    }\n",
              "</style>\n",
              "<table border=\"1\" class=\"dataframe\">\n",
              "  <thead>\n",
              "    <tr style=\"text-align: right;\">\n",
              "      <th></th>\n",
              "      <th>movie id</th>\n",
              "      <th>movie title</th>\n",
              "      <th>release date</th>\n",
              "    </tr>\n",
              "  </thead>\n",
              "  <tbody>\n",
              "    <tr>\n",
              "      <th>0</th>\n",
              "      <td>1</td>\n",
              "      <td>Toy Story (1995)</td>\n",
              "      <td>01-Jan-1995</td>\n",
              "    </tr>\n",
              "    <tr>\n",
              "      <th>2</th>\n",
              "      <td>3</td>\n",
              "      <td>Four Rooms (1995)</td>\n",
              "      <td>01-Jan-1995</td>\n",
              "    </tr>\n",
              "    <tr>\n",
              "      <th>5</th>\n",
              "      <td>6</td>\n",
              "      <td>Shanghai Triad (Yao a yao yao dao waipo qiao) ...</td>\n",
              "      <td>01-Jan-1995</td>\n",
              "    </tr>\n",
              "    <tr>\n",
              "      <th>6</th>\n",
              "      <td>7</td>\n",
              "      <td>Twelve Monkeys (1995)</td>\n",
              "      <td>01-Jan-1995</td>\n",
              "    </tr>\n",
              "    <tr>\n",
              "      <th>7</th>\n",
              "      <td>8</td>\n",
              "      <td>Babe (1995)</td>\n",
              "      <td>01-Jan-1995</td>\n",
              "    </tr>\n",
              "    <tr>\n",
              "      <th>...</th>\n",
              "      <td>...</td>\n",
              "      <td>...</td>\n",
              "      <td>...</td>\n",
              "    </tr>\n",
              "    <tr>\n",
              "      <th>1514</th>\n",
              "      <td>1515</td>\n",
              "      <td>Wings of Courage (1995)</td>\n",
              "      <td>01-Jan-1995</td>\n",
              "    </tr>\n",
              "    <tr>\n",
              "      <th>1515</th>\n",
              "      <td>1516</td>\n",
              "      <td>Wedding Gift, The (1994)</td>\n",
              "      <td>01-Jan-1994</td>\n",
              "    </tr>\n",
              "    <tr>\n",
              "      <th>1519</th>\n",
              "      <td>1520</td>\n",
              "      <td>Fear, The (1995)</td>\n",
              "      <td>01-Jan-1995</td>\n",
              "    </tr>\n",
              "    <tr>\n",
              "      <th>1538</th>\n",
              "      <td>1539</td>\n",
              "      <td>Being Human (1993)</td>\n",
              "      <td>01-Jan-1993</td>\n",
              "    </tr>\n",
              "    <tr>\n",
              "      <th>1592</th>\n",
              "      <td>1593</td>\n",
              "      <td>Death in Brunswick (1991)</td>\n",
              "      <td>16-Aug-1996</td>\n",
              "    </tr>\n",
              "  </tbody>\n",
              "</table>\n",
              "<p>442 rows × 3 columns</p>\n",
              "</div>"
            ],
            "text/plain": [
              "      movie id                                        movie title release date\n",
              "0            1                                   Toy Story (1995)  01-Jan-1995\n",
              "2            3                                  Four Rooms (1995)  01-Jan-1995\n",
              "5            6  Shanghai Triad (Yao a yao yao dao waipo qiao) ...  01-Jan-1995\n",
              "6            7                              Twelve Monkeys (1995)  01-Jan-1995\n",
              "7            8                                        Babe (1995)  01-Jan-1995\n",
              "...        ...                                                ...          ...\n",
              "1514      1515                            Wings of Courage (1995)  01-Jan-1995\n",
              "1515      1516                           Wedding Gift, The (1994)  01-Jan-1994\n",
              "1519      1520                                   Fear, The (1995)  01-Jan-1995\n",
              "1538      1539                                 Being Human (1993)  01-Jan-1993\n",
              "1592      1593                          Death in Brunswick (1991)  16-Aug-1996\n",
              "\n",
              "[442 rows x 3 columns]"
            ]
          },
          "metadata": {},
          "execution_count": 72
        }
      ]
    },
    {
      "cell_type": "markdown",
      "source": [
        "#2. Euclidean Distance\n",
        "\n",
        "  $$euclidean = \\sqrt{\\sum_{i=1}^{N} (A_i-B_i)^2}$$"
      ],
      "metadata": {
        "id": "YaNy-lbf01yb"
      }
    },
    {
      "cell_type": "code",
      "source": [
        "# Euclidean Distance = 두 점사이의 거리를 계산할 때 쓰는 방법\n",
        "# 거리가 가까울수록(값이 작을수록) 사용자와 유사한 사용자를 추천함\n",
        "\n",
        "my_id, my_vector = 0, adj_matrix[0]\n",
        "\n",
        "best_match, best_match_id, best_match_vector = 9999, -1, [] # default value 설정\n",
        "\n",
        "for user_id, user_vector in enumerate(adj_matrix):\n",
        "\n",
        "  if my_id != user_id:\n",
        "    euclidean_dist = np.sqrt(np.sum(np.square(my_vector - user_vector)))\n",
        "    if euclidean_dist < best_match:\n",
        "      best_match = euclidean_dist\n",
        "      best_match_id = user_id\n",
        "      best_match_vector = user_vector\n",
        "\n",
        "print('Best Match: {}, Best Match ID: {}'.format(best_match, best_match_id))"
      ],
      "metadata": {
        "colab": {
          "base_uri": "https://localhost:8080/"
        },
        "id": "gEPK4Vlb0rBc",
        "outputId": "5f53ca86-e474-4633-9805-95dc7c57d386"
      },
      "execution_count": null,
      "outputs": [
        {
          "output_type": "stream",
          "name": "stdout",
          "text": [
            "Best Match: 25.632011235952593, Best Match ID: 699\n"
          ]
        }
      ]
    },
    {
      "cell_type": "code",
      "source": [
        "# Recommend List 출력 (User_id가 안 본 영화 추천)\n",
        "\n",
        "recommend_list = []\n",
        "best_match_recommend_list = []\n",
        "\n",
        "for i, log in enumerate(zip(my_vector, best_match_vector)):\n",
        "  log1, log2 = log\n",
        "  if log1 < 1. and log2 > 0.:\n",
        "    recommend_list.append(i)\n",
        "#  elif log1 > 0. and log2 < 1.:         # my_vector = 1 / best_match_vector = 0 인경우\n",
        "#    best_match_recommend_list.append(i) # best_match_id에게 추천하는 경우\n",
        "\n",
        "print('Recommended movie list:',recommend_list)\n",
        "# User_id가 본 movie중 my_id에서 보지않은 movie recommend list 출력\n",
        "# print(best_match_recommend_list)\n",
        "# User_id가 안본 movie중 my_id가 본 movie recommend list 출력"
      ],
      "metadata": {
        "colab": {
          "base_uri": "https://localhost:8080/"
        },
        "id": "iLUX49YU0q9z",
        "outputId": "00429cfe-f881-412e-ab3c-c678e6b25765"
      },
      "execution_count": null,
      "outputs": [
        {
          "output_type": "stream",
          "name": "stdout",
          "text": [
            "Recommended movie list: [122, 324, 326, 331, 342, 687, 688, 748, 749]\n"
          ]
        }
      ]
    },
    {
      "cell_type": "code",
      "source": [
        "movies.loc[recommend_list, ['movie id', 'movie title' ,'release date']]\n",
        "# 보지 않은 영화목록 출력"
      ],
      "metadata": {
        "colab": {
          "base_uri": "https://localhost:8080/",
          "height": 332
        },
        "id": "4L8Hzy2XFC2a",
        "outputId": "db70438e-0b59-4f74-cc64-7e529b602d80"
      },
      "execution_count": null,
      "outputs": [
        {
          "output_type": "execute_result",
          "data": {
            "text/html": [
              "<div>\n",
              "<style scoped>\n",
              "    .dataframe tbody tr th:only-of-type {\n",
              "        vertical-align: middle;\n",
              "    }\n",
              "\n",
              "    .dataframe tbody tr th {\n",
              "        vertical-align: top;\n",
              "    }\n",
              "\n",
              "    .dataframe thead th {\n",
              "        text-align: right;\n",
              "    }\n",
              "</style>\n",
              "<table border=\"1\" class=\"dataframe\">\n",
              "  <thead>\n",
              "    <tr style=\"text-align: right;\">\n",
              "      <th></th>\n",
              "      <th>movie id</th>\n",
              "      <th>movie title</th>\n",
              "      <th>release date</th>\n",
              "    </tr>\n",
              "  </thead>\n",
              "  <tbody>\n",
              "    <tr>\n",
              "      <th>122</th>\n",
              "      <td>123</td>\n",
              "      <td>Frighteners, The (1996)</td>\n",
              "      <td>19-Jul-1996</td>\n",
              "    </tr>\n",
              "    <tr>\n",
              "      <th>324</th>\n",
              "      <td>325</td>\n",
              "      <td>Crash (1996)</td>\n",
              "      <td>21-Mar-1997</td>\n",
              "    </tr>\n",
              "    <tr>\n",
              "      <th>326</th>\n",
              "      <td>327</td>\n",
              "      <td>Cop Land (1997)</td>\n",
              "      <td>01-Jan-1997</td>\n",
              "    </tr>\n",
              "    <tr>\n",
              "      <th>331</th>\n",
              "      <td>332</td>\n",
              "      <td>Kiss the Girls (1997)</td>\n",
              "      <td>01-Jan-1997</td>\n",
              "    </tr>\n",
              "    <tr>\n",
              "      <th>342</th>\n",
              "      <td>343</td>\n",
              "      <td>Alien: Resurrection (1997)</td>\n",
              "      <td>01-Jan-1997</td>\n",
              "    </tr>\n",
              "    <tr>\n",
              "      <th>687</th>\n",
              "      <td>688</td>\n",
              "      <td>Leave It to Beaver (1997)</td>\n",
              "      <td>22-Aug-1997</td>\n",
              "    </tr>\n",
              "    <tr>\n",
              "      <th>688</th>\n",
              "      <td>689</td>\n",
              "      <td>Jackal, The (1997)</td>\n",
              "      <td>01-Jan-1997</td>\n",
              "    </tr>\n",
              "    <tr>\n",
              "      <th>748</th>\n",
              "      <td>749</td>\n",
              "      <td>MatchMaker, The (1997)</td>\n",
              "      <td>01-Jan-1997</td>\n",
              "    </tr>\n",
              "    <tr>\n",
              "      <th>749</th>\n",
              "      <td>750</td>\n",
              "      <td>Amistad (1997)</td>\n",
              "      <td>18-Dec-1997</td>\n",
              "    </tr>\n",
              "  </tbody>\n",
              "</table>\n",
              "</div>"
            ],
            "text/plain": [
              "     movie id                 movie title release date\n",
              "122       123     Frighteners, The (1996)  19-Jul-1996\n",
              "324       325                Crash (1996)  21-Mar-1997\n",
              "326       327             Cop Land (1997)  01-Jan-1997\n",
              "331       332       Kiss the Girls (1997)  01-Jan-1997\n",
              "342       343  Alien: Resurrection (1997)  01-Jan-1997\n",
              "687       688   Leave It to Beaver (1997)  22-Aug-1997\n",
              "688       689          Jackal, The (1997)  01-Jan-1997\n",
              "748       749      MatchMaker, The (1997)  01-Jan-1997\n",
              "749       750              Amistad (1997)  18-Dec-1997"
            ]
          },
          "metadata": {},
          "execution_count": 75
        }
      ]
    },
    {
      "cell_type": "markdown",
      "source": [
        "#3. Cosine  Similarity\n",
        "  $$cos(\\theta)=\\frac{A \\cdot B}{\\parallel A \\parallel \\times \\parallel B \\parallel} $$"
      ],
      "metadata": {
        "id": "Qs2EwPVEDAqG"
      }
    },
    {
      "cell_type": "code",
      "source": [
        "# Cosine SImilarity 함수\n",
        "# 코사인 유사도 = 내적공간의 두 벡터간 각도의 코사인 값을 이용하여 측정한 벡터간 유사도\n",
        "# 방향 같은경우 1, 수직인경우 0, 반대의경우 -1\n",
        "\n",
        "def compute_cos_similarity(v1,v2):\n",
        "  norm1 = np.sqrt(np.sum(np.square(v1)))\n",
        "  norm2 = np.sqrt(np.sum(np.square(v2)))\n",
        "  dot = np.dot(v1,v2)\n",
        "  return dot / (norm1 * norm2)"
      ],
      "metadata": {
        "id": "GeEC__xs0q5e"
      },
      "execution_count": null,
      "outputs": []
    },
    {
      "cell_type": "code",
      "source": [
        "my_id, my_vector = 0, adj_matrix[0]\n",
        "\n",
        "best_match, best_match_id, best_match_vector = -1, -1, []  # default value 설정\n",
        "\n",
        "for user_id, user_vector in enumerate(adj_matrix):\n",
        "  \n",
        "  if my_id != user_id:\n",
        "    cos_similarity = compute_cos_similarity(my_vector, user_vector)\n",
        "\n",
        "    if cos_similarity > best_match:\n",
        "      best_match = cos_similarity\n",
        "      best_match_id = user_id\n",
        "      best_match_vector = user_vector\n",
        "\n",
        "print('Best Match: {}, Best Match ID: {}'.format(best_match, best_match_id))"
      ],
      "metadata": {
        "colab": {
          "base_uri": "https://localhost:8080/"
        },
        "id": "fKhfucyw0qvG",
        "outputId": "54daac64-3369-49a8-e972-3e6c9e3e2a1a"
      },
      "execution_count": null,
      "outputs": [
        {
          "output_type": "stream",
          "name": "stdout",
          "text": [
            "Best Match: 0.5806357207498616, Best Match ID: 699\n"
          ]
        }
      ]
    },
    {
      "cell_type": "code",
      "source": [
        "# Recommend List 출력 (User_id가 안 본 영화 추천)\n",
        "\n",
        "recommend_list = []\n",
        "best_match_recommend_list = []\n",
        "\n",
        "for i, log in enumerate(zip(my_vector, best_match_vector)):\n",
        "  log1, log2 = log\n",
        "  if log1 <1. and log2>0.:\n",
        "    recommend_list.append(i)\n",
        "#  elif log1 > 0. and log2 < 1.:         # my_vector = 1 / best_match_vector = 0 인경우\n",
        "#    best_match_recommend_list.append(i) # best_match_id에게 추천하는 경우\n",
        "\n",
        "print('Recommended movie list:',recommend_list)\n",
        "# User_id가 본 movie중 my_id에서 보지않은 movie recommend list 출력\n",
        "#print(best_match_recommend_list)\n",
        "# User_id가 안본 movie중 my_id가 본 movie recommend list 출력"
      ],
      "metadata": {
        "colab": {
          "base_uri": "https://localhost:8080/"
        },
        "id": "N8pOkGR3DXny",
        "outputId": "17309e42-88ee-4c00-b39d-76b3ca373f14"
      },
      "execution_count": null,
      "outputs": [
        {
          "output_type": "stream",
          "name": "stdout",
          "text": [
            "Recommended movie list: [122, 324, 326, 331, 342, 687, 688, 748, 749]\n"
          ]
        }
      ]
    },
    {
      "cell_type": "code",
      "source": [
        "movies.loc[recommend_list, ['movie id', 'movie title' ,'release date']]\n",
        "# 보지 않은 영화목록 출력"
      ],
      "metadata": {
        "colab": {
          "base_uri": "https://localhost:8080/",
          "height": 332
        },
        "id": "oz7v9AYLD07C",
        "outputId": "5fd163ce-e435-4d52-b890-e53ba742cb7c"
      },
      "execution_count": null,
      "outputs": [
        {
          "output_type": "execute_result",
          "data": {
            "text/html": [
              "<div>\n",
              "<style scoped>\n",
              "    .dataframe tbody tr th:only-of-type {\n",
              "        vertical-align: middle;\n",
              "    }\n",
              "\n",
              "    .dataframe tbody tr th {\n",
              "        vertical-align: top;\n",
              "    }\n",
              "\n",
              "    .dataframe thead th {\n",
              "        text-align: right;\n",
              "    }\n",
              "</style>\n",
              "<table border=\"1\" class=\"dataframe\">\n",
              "  <thead>\n",
              "    <tr style=\"text-align: right;\">\n",
              "      <th></th>\n",
              "      <th>movie id</th>\n",
              "      <th>movie title</th>\n",
              "      <th>release date</th>\n",
              "    </tr>\n",
              "  </thead>\n",
              "  <tbody>\n",
              "    <tr>\n",
              "      <th>122</th>\n",
              "      <td>123</td>\n",
              "      <td>Frighteners, The (1996)</td>\n",
              "      <td>19-Jul-1996</td>\n",
              "    </tr>\n",
              "    <tr>\n",
              "      <th>324</th>\n",
              "      <td>325</td>\n",
              "      <td>Crash (1996)</td>\n",
              "      <td>21-Mar-1997</td>\n",
              "    </tr>\n",
              "    <tr>\n",
              "      <th>326</th>\n",
              "      <td>327</td>\n",
              "      <td>Cop Land (1997)</td>\n",
              "      <td>01-Jan-1997</td>\n",
              "    </tr>\n",
              "    <tr>\n",
              "      <th>331</th>\n",
              "      <td>332</td>\n",
              "      <td>Kiss the Girls (1997)</td>\n",
              "      <td>01-Jan-1997</td>\n",
              "    </tr>\n",
              "    <tr>\n",
              "      <th>342</th>\n",
              "      <td>343</td>\n",
              "      <td>Alien: Resurrection (1997)</td>\n",
              "      <td>01-Jan-1997</td>\n",
              "    </tr>\n",
              "    <tr>\n",
              "      <th>687</th>\n",
              "      <td>688</td>\n",
              "      <td>Leave It to Beaver (1997)</td>\n",
              "      <td>22-Aug-1997</td>\n",
              "    </tr>\n",
              "    <tr>\n",
              "      <th>688</th>\n",
              "      <td>689</td>\n",
              "      <td>Jackal, The (1997)</td>\n",
              "      <td>01-Jan-1997</td>\n",
              "    </tr>\n",
              "    <tr>\n",
              "      <th>748</th>\n",
              "      <td>749</td>\n",
              "      <td>MatchMaker, The (1997)</td>\n",
              "      <td>01-Jan-1997</td>\n",
              "    </tr>\n",
              "    <tr>\n",
              "      <th>749</th>\n",
              "      <td>750</td>\n",
              "      <td>Amistad (1997)</td>\n",
              "      <td>18-Dec-1997</td>\n",
              "    </tr>\n",
              "  </tbody>\n",
              "</table>\n",
              "</div>"
            ],
            "text/plain": [
              "     movie id                 movie title release date\n",
              "122       123     Frighteners, The (1996)  19-Jul-1996\n",
              "324       325                Crash (1996)  21-Mar-1997\n",
              "326       327             Cop Land (1997)  01-Jan-1997\n",
              "331       332       Kiss the Girls (1997)  01-Jan-1997\n",
              "342       343  Alien: Resurrection (1997)  01-Jan-1997\n",
              "687       688   Leave It to Beaver (1997)  22-Aug-1997\n",
              "688       689          Jackal, The (1997)  01-Jan-1997\n",
              "748       749      MatchMaker, The (1997)  01-Jan-1997\n",
              "749       750              Amistad (1997)  18-Dec-1997"
            ]
          },
          "metadata": {},
          "execution_count": 79
        }
      ]
    },
    {
      "cell_type": "markdown",
      "source": [
        "# 추천 시스템 (Content Filtering)\n",
        "\n",
        "2. Content Filtering :  \n",
        "- 다른 사용자의 기록을 이용하지 않고, 사용자의 항목 자체를 분석하여 추천하는 방식을 의미  \n",
        "- 컨텐츠 기반 필터링은 내용 자체를 분석하기 때문에 Collaborative Filtering에서 발생하는 Cold start 문제를 해결  \n",
        "- 그러나, 비슷한 형식의 아이템만을 추천하기 때문에 다양한 항목을 추천하기 어려움  "
      ],
      "metadata": {
        "id": "tKpLNHrvtKiL"
      }
    },
    {
      "cell_type": "markdown",
      "source": [
        "- Content Filtering에 사용하는 함수로는  \n",
        "  1. KNN (K-Nearest Neighbor)  \n",
        "  2. SVD (Singular Value Decomposition)  \n",
        "  3. SVD++ ('SVD' + 'implicit raings')  \n",
        "  4. NMF (Non-negative Matrix Factorization)  "
      ],
      "metadata": {
        "id": "WRfNBcxivtOw"
      }
    },
    {
      "cell_type": "code",
      "source": [
        "from surprise import KNNBasic, SVD, SVDpp, NMF"
      ],
      "metadata": {
        "id": "UAWsyB1BrGZE"
      },
      "execution_count": null,
      "outputs": []
    },
    {
      "cell_type": "code",
      "source": [
        "data = Dataset.load_builtin('ml-100k', prompt=False)"
      ],
      "metadata": {
        "id": "2e4gZv8MIEWK"
      },
      "execution_count": null,
      "outputs": []
    },
    {
      "cell_type": "markdown",
      "source": [
        "#1. KNN (K-Nearest Neighbor)\n",
        "![image.png](data:image/png;base64,iVBORw0KGgoAAAANSUhEUgAAAY8AAACLCAYAAACZfBVFAAAgAElEQVR4nOy9eZwdV3Xv+117V9UZepZak2VJtrCNB2yBbTxF2MZOmBxmQiA2zmUIZCS5n7y8e/NJcpMbbvJIbi4XCENynyGQgZC8ACHghBDGOGDwFBzjAWRL8qip1a0ezlRVe6/3x65z+rTU3WpJ3ZJb0u+j7j4651TtXbtWrb3mJd575TRO4zRO4zROYwEQEQCiEzyPE4r2IswG1YXtqSKy4O+exvLAXHSxkPvcfexpuljeOFb+cPDx7WNOFp5hTvQETiS6b+Bcr+fDfMR1GqdxGssbi8nguzeOkwWiJ8MWeJSYmpri3nvvZXBwkEsuuYT77ruPJEm46KKLMGb+fVVVGRsbI8syVq1ahYicVIRxqkJVeeyxx9i5cydXXnklaZpy//33c9lllzEwMHDYY7MsY9euXZRKJdauXYuqnqaLZQrvPdu2bePpp5/myiuvpFar8f3vf5/LL7+c/v7+eY9t08Lu3btJkoS1a9cCMDo6SpqmrFmzBljem4lRVU7FH4A4jvn0pz9No9FgZGSEXbt20dvbe1i1sn2Of//3f+cTn/gEMK2Knv5Z3j8iwsMPP8wdd9xBpVLhBz/4AQDlcnlemmjTwOc//3l+8IMf8P73v5/t27efpotl/GOM4d577+Wuu+6iUqnwyCOPYK1dMC3cfvvtbNu2jY985CMdOrrrrruWPc9o45T2eezfv5/BwUGeeuopAG666aaOJKCq7Nmzhz179nS0EFVl48aN9Pf3Y4zh/PPP57777sN7f1hN5TSWDx5//HEGBgb4x3/8R6655hqGh4eBcP8bjQY7duzAOYeI4JxjcHCQjRs3IiJcfvnlHc2jt7f3BF/JaRwrnn76aXp6evjSl77E1VdfzdDQEDBNCzt37iTPc0QE7z0DAwMdWrj00kvZs2cP1toOLZx//vncf//9eO+x1p7ISztmnNIc7+GHH0ZV2bFjB9///vdnqJAiwtjYGNu3b2fHjh1s376dnTt3UqvVOt8zxix7AjiNabQlwW3btlEqlbj99ts791c1aCVpmrJz584ZdLFnz57Od84++2yiKCJJEvI8P5GXcxrHABEhz3OefvppSqUSX/jCF4iiIGu3aSHLMp544okOLTz22GPs3r27c45NmzZhrSWOY7z3QOAZURQta3NVG6f05nH33XezZcsW3vnOd3LHHXewa9euGZ+Xy2UGBgZm/MRx3Pk8TVNqtVqHME5j+WPHjh1kWca73vUuLr74Yj71qU8B07Zpa+0MehgcHKRarQLgnOO2227jnHPO4ZlnnuHee+89YddxGseOhx56CGst73jHO9i0aROf/exnZ3xuraWvr28GPfT09ACBFj72sY+xefNmRkZGuPPOOwHIsox6vX5S8IxT0mwlIjz55JNMTU0xPDxMuVxmw4YN3Hfffdx0001AkC7Wrl3L0NDQDFNWN6N49NFHyfOcRx99lAsvvPCEXc9pHDvakuS9997L+vXrybKM888/n69+9auMjo6yYsUKVJVKpcIll1yC976jqcRxjIhgjOHMM8/kq1/9KhdeeCFXX331ib6s0zgKtDXM733ve6xevZpWq8Xznvc87rrrLiYnJ+nr60NVKZfLXHzxxTNooa1ViAgbNmzga1/7Gueddx7XXXcd3nu2b9+Oc45t27ZxwQUXLOuwXTnSJMG5YpeXG1qtFhCkh/Y1OedIkqTznfni/VWVVquFMQZVpVQqLf2kn6U4WWjCe0+aph2aMMZ0JMS2yeJwOSAiwsjICIODg0RRtGzXYjGwnOnCOUeWZTNowTk3w1Q9Hy20PxsZGaG/v58kSTo8o+0fKZfLx+16FhPtazuizUNEeOSRR/inf/onzj333I6UvhxxcDJXt3ZxtOc4FSEijI+P88UvfpGxsTHe9KY3sXLlyhM9raPGsSQIHnz8qUoTENbh29/+Nt/61rfYunUrV1999bJbj6WghZOBPo44w1xEOHDgAPfddx/r16/nfe97H4ODg2zdunUG812OONhRfqznWC44VuJtq9z3338/1WqVO+64gw984AO85z3vWaQZPntwNPd3OdIELA5dPPHEEzz55JP09/fznve8h4997GOsW7dukWZ4YrFYtLCc6GM2mjgin0eSJLzmNa+hWq1y1113Ua/XgbAIrbRJs9VEWD4LcjgIihjhJPBtzYAqVEplklLpmBiFquK9Z8uWLR2H4de//vXO5847Go0azvuTii6MgEdBT55rUsCKpVqtHjNTU1X6+/t5wxvegLWWe+65p2MmVlWarQZp2kLk5InXEYIAfXJVCgw0Xi5XOma3bkQLJZRuZ/Gjjz7KRRddxPXXXw9As1HnAx/6f9l01hWUS1UUHwZGir90vZ7rPQ76fLb3DneehYyzsGMshrRR4/GndvKc8y4M69iZz+KNc9zXQCBvObLm07zxTS8nio7eV9NOpBoYGMA5x86dO7n55ps7n3/mM59jx+M1nnfR80kzd5RrcLjPj2aNFrJuh55TEBJjeOaZJyj39tHXP1T4RJaaDo708yN/L4oM2x7+d557/jA33fTjHAtUlcHBQQDuvPNOXvayl3HWWWcBsGvX03zq019i8+YXYMSioguc79KvwdHRGxgEnzbZO7qXtWdsJHgCTsTcjnTu859HDNQmxpk8sIOfedctWDsdaQoQHankOTY2xrZt23j1q1+Nc4EhZHnK3j2TvOhHLqOnmpwckrpA5nIGhs9leMXq8N7JIFUIuBS+d/+TZFlKFB2b9tF2/n3nO9/h8ssv55xzzqHValEqlXj6qV3E9lzO2byFem0Rr+EEQQGx0Dt4FklcppSUTg6aAEpleOLRZ9i962mARbHHP/7440xOTnLTTTdRq9Xo6emhVqvRqFk2n3UZ+JNj+VTAe8eKNZP09w6eHBcFGAtj+8e5c8eD5HmGtfEMF8WCNQ8IeQ0f/ehHeeqpp/jud7/Li170Im688UZEDHFscT7F+xivB++8RysxHu7zpdM8vIIxwvDKVXh3sNS8eOMcf6nbkJFjrOmYDY7VTPGNb3yDT37yk5x11ll87Wtf453vfCcQIpScU7wDr3kxh2fDGhydVKcI3ik9vX3gg1lOlmRux38NvDcIhqiQLo+VJsbGxnj/+9+PtZZvf/vbvPa1r2XLli1FkpzgXZivslSax8GfLxYPOlTz8MXL3t6+WWji+NLooq6BGlQz4ng6qbGbLo5I8zDGcPPNN5NlGd571q9f3xlYVYq/bYJoT6j7ryACIqDaLd10z2G+947184UfI8V/nVvacY7/Me3/+c76H6uUuWXLFn7rt34L5xz9/f0d82abOXSzh1nXWpiu89P56Nm4bopVUDf9/qG0fiLmduzHhCXv2iiPkSbK5TK//Mu/TJZlGGPYsGHD9Fg6PZTOM7eQL1EwZz3084Ve25G9d+THtHlFhwfOyf+Wem5Hc87DnQdUZ/KKo+rnEUURmzZtOpJDZkBVSZLwAObek2aGZ7/P7NgeolMBK1euPOrwXFWwkSM2iveGPFOcCM9WB7t2/T6NuVGpVDp+jqOBoiSRx4jiMkPmZRnUwzi16OKIzFZzQVU60qPI3I99bDP+4faMu7+TceubS5x7foU098ce3VH8fXaym2cZRND2fZpFFV3cocIm0KaN2e5QEis7H8+57eNNXnBJwutfXcbDMW8ep2niyCAafukS00TgFVKMNztNiIB45S/+qsm2xzy/8M4Kq1dFpKqYRaALKX53v3Mah0KFeXnFETvMD0Y4sXbMUDPNVtOwFnJn+IfPN7n7O3DJBZ7nXaKk7ljS8wXwGBVMBM631e3TxDA3FDmovPJiJyt1J1wqepCJciZKJeWh7ytf+Hth9xOOm37cE8dCx810dDNAVDEWEMjdaYo4HILFJawbLD5NQDev0GK8uXlFo+H5zN8JO7Yrr3hpzvozDVnDzPr9I4FBMdaQe1dIGJZTTWNYKIwyK6847m1ovQcTed75jgpXXtnimhfHNJoeUVn4rROZlho02O3xIJGj2XAkiQU1hfR0miCWA+pN4YVXxvzSL6dccG5EErX9TAtn9x1hSCUwF80RseR5hnolSWJy3+2sP41nM5yDctXw7l8Wnn7ScMF5JVotj+DRhdKFtCmo4BXikYJXNGpKueJwak9LFceA42ZFVAWXWq68osIvvKuftauVpj/YYTY/rHiqFUOpHCQlUU9S9tz7ILzzZxp8+q9TbCnndGuN5QOXwcpB+Ll39bH1OiHP247HhUGAUiJUq4KNAy1F1jHlcn7vvTn/96+m7NmXEcenN43lAlVwufCjN8S87W1Vevo8LmfhGwcQGaFaNSSlsHEYb0jK8E9fdbzj7TW+8lVHqaIskXXulMDxZbNGaKVKrWZweYwtQjcXcgOtgWYt488+Vuezn0vRohlPFCt7nsp54EHLw48YvBpOS5cnFkdk8hAlV6FWF1qtBIwJGqawILqIrPKdf8v54B+3eHpXirUOY2JaE55HHvQ88CDsHwFjT2sdywqiNFuWWt3gVUJaPwulCdg3kvPhD7f4xjcyxCrgMcbz9GOOh35g2LYdDKd5xbFgUcxWOiOMrgvF82qNYCMlzwXvFTXBLCGqRBHEcVBV03TuBzwpCf/xfcv//F9N1qy2XHt1wtBwhEtjNqz3XLjF8ZKbImJrSefpwWMMRBG4PPhIDou2LXjW0MLliaW+ghnO1oMHK9ZREOKkiLDKCR5bbTMIpVQK301bzJl0ai04L9z28TrfvRuGhyw/dUtEsy7090acf36LS7bABefHZOk88wWiOEw1z47gOgvBR08GutCZQaZLNsxsEaJdvuvICsYqWVr4N0ShEAjjODy7eQ7ZPPepXDF85+4aH/5Qi8svs1x5VR+xFdRFbD474+JLmvzodSWcn99kbi3YKNDEghKf27QtclLwik6E9BxYFM2jE2k1bWgM8EpsFJd6dj/jgraAFG58JY6Up57OeO8fpnz9mylxNDdFpKmy4WzDW99mectbDNW+CJ8bMI6//2KTh+4XfvigR+x8aauCOmX3row0zxdm7/RKpJ4kcUTlDBEHHJM394RDoLhpS3P+juYxm/qgDinCMPfty6hP5Bhp3zPFiOI159N/0+QjH25Sm/JYmf3J9Q4k8rz2jSV+8o3CCy5NaLUspTI89HDK57/oeOiBiMnJjuB66FxR1MLoeMboaBb8p4e/QoxX4ignKrlAc3552z+moyWXfpzwovMr7CgeEis0Gxl7d+dYCgmwoIsk8Tz0cMrv/36d+x/ISeKgTcyGVstzyfMT3vSmhFe/JiaOgoUjS5XPfj7ngf+IefIpgplzVl6hYDzNVNm1OyPzHqRdhmYeeCVCKZUdceJR9bg5aHc5oO0llO571YVF2TzavCI4K8NAoooxSirKR29LufWtGd/8pqdcng7CTMrCnd/O+ctPOj77N3lwfs8xI+dgqKr8X/+5yk//pwRrBaegXrjmyhJXb4VLLrZIJoXD/OCLFSqVnH/6fIO33JLyl59KKZX8YR8Wa4RGmnPbx5r8xV+mZLnHzrGYywEz8kqXSDCaUaX4oNFFLXE547v/nvG2dzh+7/dynKPjp4piYXRU+MhHMv7Pnwg7H4Mk8bNOVQGXGV7xUsN/+60Sm58TkWVKmikbNgiveGmZa34EytUi0YxD6SKJYe++Jv/551v8119tMbo/J4rmv7ciQpzAt+9U/uAPmmx/PDCz5UkRAcerOrgqTMeztBmHEEWO8WbO773X8fafyfjeA452uwsRSEqWr/yL51N/5fjGV1uUYmUu9pVlsGmd5Td/o8SrX9WDdwbnFROlXH+9cO21yoazFZfN2Mk6EIRSYvjUn6e85c0ZX/9aTqVs5hyvjTgSxg7A+9+X8g9faGGMYBYmjTwrMU0Ss1uEFjXaqsNTixjuJFY+9OGMj9/mAUcrM0HNLzYZn8K1L4p59I2eF14pIBbtRNp0SSXFS6dCowVa3BBFyVL40RtL/OiLI0pVC+qJncdaIfeQ5SA+2NENntGaMnrA0ZiMEBRBMWqYIVeIdi4oLinf/0HOhz8IQ4MZL/6RiI0bLS5bnippe3WP1+wPHqdUhgcegN/+dcczu5Uz13uUpNjEFZ8J61bDu34mYc9ez6ZzlDRrP4AhPyDsA+0r8bRSQYhRggM0y5ThlQnv+X1PbJU4ErJUUOMxRmi1pCjIF9iBTy0jYxnlisc7j8XhMdOZ0N2QYmyrfO6zji//i2f9GRkXn1ciqy9fKfN4Qg8iQmtCOPX/+v0WX/yCUO31pK12kzYFL2iuvPQlwoFRw4tuSGhlgqpHxHZSBaZ5hZA7wbmoMB0JSk6eWV7/Rssb3uioxhbnwBtI4pCwnDvtsB6DY3IKRg80aDR6EPFEavES7A6HCAqiJBXlPx7I+NjHPBdd6LnxhoRyWY8x7PzEYfoaZ+cWi7J5TAua08bL9sPpmsqKVXXe9rYyL3tZRLNVhNdaOFBzlBLL7/53Q2yh1jBIllEqCSYWspaS5oIUsdjGGJLYkKYe58GIUqkoVpRWbviXL3uefjzn5a/KOTBhGRg09FVixGYIQnMq4TU/abnsipwNZ1h8U6jEgRE0UoPP6RBiHCnlEnivbDwb3vFOpVoRVg6XyPK5F3RZYQnNVnMlmXnjyVoGmzS55vqc3/gv/SRJsGOj4GzK/v3KT/5kxECvkKaGWssT4yhVDc5Bs+lBo84GUkpivBeyzKEIpQSSwlTx2E748j+nXHGFYd2ZnqlJz5lnxCGkG0OaKuvWWT7wpxVEYdWwIE6oJp5MhWY6bcoRoJx4rBFy57np1Ur/oOfKK8q00uVNEccr6mjmOEU+kCh5rmSZYe3aFr/yKyWuusbQaAZJwVjPyJhj3ZqIP/xDi+aGeksw6qmUFEkymrWY3BtEfPH8GqLI0GopXj3WWCqVMGKtDn/79xm5M/zYSyx796WsWVWiUgkl1VWFtCm85e2WG17Ry9kbI9KGUk48HqHhQAs5QRWSSCklik/hoouFm9+inPMcoVT2qDtZQj8PJZBFc5h3kgML84BqMBX82Ms8uY15+UsqWCukqWCtx+P504+k3HMPvONnLfff69h8luUNr4/49ncz7rpXeeWPx2zcoORZKFKYNpWdj7U4Y4OllAA4/uZvcvIcXvyyiA99pMG2R3J2Pqnc8W1h61WW3/7NErJpJzUF3XkmfVnMlosMzkPqcv7mrz2PPZXy9p+usmrY4vJgOnlmd84XP5fxvC3K1h8p8+5fdKgmtFqC1+UtYQaLwVz23mNHZ+MIhDHjs6wF519oec3rlXPOrnL2Jqg1wvfLJeHOu5T/+QdNXvyjCWvXKo8+Am97a0y5LPzpx5ts3pxw4w3SeXjFCNt35JRKsHpN8LE9+Ijnm19x3PT6hG98M+eDH0y59gaH9TE7duZ84A8rPPe5hvE8RwDjheduFNRbFOV7P8j5+7/Nuf56w9YXJTgX/HlePZ/9XMqBUeF1r4258TrDDS/uxaU2lJxfxnGf00m+Sz9OeNH+Jaj3VCs5r3ydcNYmy40vjnDOBnNWrNSmPO/9vRajE4af+Enhrn/zbN2a8OIXe/75yzmP7lRe/5qIFSs8eS5EkTI+IYzsy9m4KWie9YbyF3+ecsYGuOB5EX/4RylqhJ07lS9+wfKWW3J+6R1lplKlZTLwhpU9MesutGQ5TDU8H7mtgfFw661lysVGU4qFH25z/MuXcq673vL8Swz/9dcjcCVareXtMm87zOcKiFo0zWOGw1wVK2CN4a8/4/n7v0tYsy7jlltiJFVUDC7zPPKg5YePer72Ly1u/yJcvMXxqtfBX30q5ZvfiBgYyvmZ/xQzlRviRPnLP2/y8U+k/MK7Y37mpy1f+0qL332PIbbCFdcIt7wl4rFtcOY6w9e/LHhRHt34VVYOeiqsJBODf2wdrUaMLcNULeKv/7bJju2GG6/1rD/DU3MRPSXLHd/0fPRPU170IsM1VxtazuD1CJKUnsU4Hg5zaTvLD2KopcRz5905f/onERee53nBZSm91Sj4PRJ4fIeybVuJgT5h31iTx3cYXnwj5D7iTz4Cz7s45/prLZG1RLHy2KOOd7875ayz4A//KCZOHB98f8qddxokyXjJS2N2bs94/uUx/3y7oq7ErvJObLnJGQfOw4ugBpppMKn29Bq+9i85n/kMtFqOa68H7xRrDWP7lA98MGX/SMSWSyMuW1mi1Syyb5fxxgEnyGGuwexoraHRgI9/3HHPdw3nXJjx0h+LqNcVMcrkpHD/fYZU4R/+Tvnmvyq1ZoMrtsZ86COe7Y9Zzj+vyY/eaMm9wRrhTz7U4h+/BO99r+HlrzDcfrvy/g8YztyY8fFPJLz1rREuV+IS+NzSkhoP9jzM6mwz1veGyDtVXFNISoY9u5RP/pmjXIq46eWOTWeHqM4kga/8s+P/3OZppsKll1Vo1H0RbbXMaaL9M4ePd8kyzH0RqnbBOcJD5zXYtLEH8mI6EhzjceRxWcblz7e84KKYFWd4rAivfU2ZM1Z7rr7M0mwSIh0Utm3zjI+X2LldwUZ8+94guVxxVcraYeG81yV4XyarW666QrnvBZ/g1qFf5FXpa/m16L/A4F50Y4o8cRZGEmq1jKnJnDgqUe01RWMfaLWUq66O+Mk3lbj8Motq+Gy5EwNMk8BSXsncDvMQHr1mjfD8i+Dc5yqVqERRzAoFkkQAR1+vcvNbSjz1hHLuuTHNXPmpmyMuOkcpSUQKlCJldNTx5FOCMZClsHPE8NBDJcpl5dLnCRecG/E7v1Ml8sLVWwxPZnv442tvZkz2878bn+es9AKyLiu2czA5Fmbe12+K/BCHc0J/f8Tb3lpl335l4yZLli+9pH4y4mDTlVdPFFm2XKiktYwz1pTR3AERqoqNwFqhfiDn5S+LufSyiEu25MRRws23Ko//MOOic2PSFohR8kx47FGYmHTs2R2T+pxv3WWAmKtfmLN2heNd74wRb5loem64KuLLWz7KLRv/Bz9v38PN+36RhnWFf00wRpia9KQtw8rhiEq1qCLuLWnq2Xpdwv7xFtdeJ6S5PwlpYnZusah5HtNmqzBgK3X8xBuq/PirKlTKQqtZOCqdEEXwlp8WLnmh5boby2xYZ2hk0GrCDTcoN94o5E5JMzDGI0ZYvSZIKsOrPfWW4YePpIDlVa+pMDBkmJoC4wSJci54yX52Vg8gzTLGRCiC4JCBGi5xuByGBgxXbfU0xhqcubaPPI8RIMs8mzYKv/GbZdQLaXryUMO0Krp0ZqvpwaZr4rRHz1oRGzdGfOCPE2ykWCmSwFDSBlxzVcQv/FzGhc+PueHaCDSUMOkHfv3XbbgfLUE1xztDb4/Q2+vpGYRSr+U/7qgzOZVy1VUlLr2iQr2heDW0PJyxxlBOSljtBVsDIizQHSCuDi57oeHhH9a55ooe1IOqQQETKW+5NQYJptR8nnyi5YbjabbqtPspqNF7wRDxsz9veVtaolKBZsuAhIioFSuUn/0ly579hutuTFg5qDRbhlZqeMPrwIglTyHNFWsUY2DVKo+xytDKjJE9Mdt+MEVvj+Xlr0iIk4ipBqBCYiMuOd9wZyVGneILKUbaNeNFyZ1n7VrDNVtzNp2pDAxWQo6YKK0UnnexcMnzy6hT0tbSrt/xxAxesZRmqxDg1jZbhaFVDV6gWg2F7tqRK6oelwk/sjVi6w0RWVM5MFWEYAghekboVOtVhSwV3nRzzCUvzNhyYRmTey6/Cko9OS+8tBQ0FAQVD+t3caCyj2uzrfxV9EmGGMLTwgPGG9Awn0pJ+G+/0QtesMYWzCBEXOR5MeeTT4w4oWYrBHIPpbKgKkWiZiDOPFdWrlJ+7t0xubNMTZnuuE58azrSSrC0WoazNwvv+6CnUrX0RIYLLoi44kcyXvvKmCgK0Xbt6J4pn9Nb7+V/PPHnZNLizOYGWrbdpCp8r9lSXvaSEi++IaYUGVpNuj5X0pTOd08mnDizVYAvJPxyJURetWnTh27x/PiPGzCerCGMT0JgXdpJ/gyWQ8E7QWL42V9MeMWrPZc9PzjKr71amGrABecV1oxibK/KSJbxut1v5YWTN3BG4yyaxmE8ITcRSDNl1SrL+/93LxYTzO4+RGqKhCRCOcKyOssBx8VsdajDfOZnh0hoYkBy0gwktbPmVx38cDoPq1cKZ1wfYz388Ic5X/5nz+BgRGLC1oUXtDeF4b0gOd4mbJCz8WTkeExBcG3kqlixECnO+xmMarY5nCw4kQ7zNg4NXwzCh/M5rVoMaotoqrnuRwjKsBauudKCWiTL+dIX4IkdMeUqRMaTqp0xgkNYla4jdtCMMkTDuN2uzdxDElnyWeZ+MtPE8dA8Dh11GrNmcUvILs+agZWp5ND1HB8yX+NxuWHjxojnPEew3nPffY6vfMVw+ZUR5R6dJbVQiKSHzc3noarkxs8I0RbAKVgTFdr0oaz0ZKSL4+Iw7yyldO9Uh5tWGNq3cypoV8yd6wglc5a8AaVYSTVnahKsCDWX0ychT0S8R3KLWkUNOFKU0ICqk5FaSN0ioU7nzKw56Xp58lGEdqXQLDU6QuYsCsis3xaAONyTIjN37sOCScEDzWaMoNjYc6DpmZqA+lQIuz7Evm4tgqNpALVFgc221hzOqVC0Ul72fvCjwFJfcCDAOYTZQ79dEKw3SjtJb24+IYBFgcwFDaZcEmreMTZpqI9D5m3RgrnrHGpwFkQ9asEUwkT39BSdTjSVk8H7uQAc5iYtktlKiwYv0rVTHQ4Hf2khYW1amBZg82bL+95fwYpheMgH9VUUV69gpgaJSiN4nT5n569GSB5i+bWdzi6A+LZxouM+PQn3DqB9XUtH/m2zlYYdej4FpPuoI3j34O8U0mAa8XM/K7zqlcrmsw2N5sFsppBWfTCZWQRvPD5OUVHUG2xuO877hY5/MiAIfTKTqS4JgjwbhNmFtGPQrj/a/c7c3y1eKsGH+oKLIzTJkO0AACAASURBVG67LaK/LySJencw89fO97uNJ/NR5KlAF0bpmOZmNVvN1zFsvmSvmejSPObpJLhYUEC95dzNYe9LW+2xATXoRBk/JGAU6SopoJogscf0TpFPGMQUG4YKkkUdO6gRBeuRk7G2e6EGTHf3Y4H3OGDhNDHtVpmvk+CiQRSnhqEBw+rhEDHn/UwbvqLgDN7myPAE3jg0aiD941ir+N1rYM8qsEe2JicXjpwm4Mh4RYdHLFT9OAZ4BSMRF14Y+sRkKZhT9t4eITpmpK5E2e5Ogu0X3nt2795NpVKh0WjQ399Pb29v54sLIY7jlRLT3gnbzstu+jOAGR/AZ7sxpZxOHGjbsh1luLOfQNO4UHIBZ8gPDIRsUOOhVYHJPnAmaCRGi9MsnZP5+GNh92psbIxGo4G1FlVl7dq1RzjG8ZLRAoE71/andG0cCiqKeMF7QVeMIRt2FuaH9qbmMEmK0/nNpycr9JAXc8M51+EVtVqNlStXUq1Wp8+14I1k6de5KHDbCXw4vW8cLWbxebRv9I4dO3j88ce55557GBgYYMuWLZxzzjmoKpVKZQZxdKNTf4Zgn5yrDe3xgoiirTJS64fSfrTjMNVOhIdEOTbKurwsiu2rF9/zeJ/gJ/ph7wCMDaJOUKNBpV/2fEULp990+9/ZIspEhPHxcR599FHuuecearUaw8PDvPa1r6Ver1Mul+np6SGO41mPDectqofpiY1aEwBv8E7QlSPEG57GCxji4vNg4fb9DUhyTB4XNvZlf7MXjA5PlflpQlX54Q9/yM6dO7nrrrsYHh7myiuvZNOmTQCUy2V6e3vnPD6YnrvNVsukWkMnOuzUoYlpH4R2IslmtKFtE8T69esREb71rW9x6623UqvV+LM/+zNarRabN2/mzW9+8zzSxPE1W80HZxTjFJ3oR4YOBPdZd6leoah0qR25eHrGCliMydDBfZieMbS6Fjc+CLUejAesmz7RcsQRmK1KpRIveMEL+PrXv851113HpZdeyte//nXuuecenHPccsstnH322fMP1RnyOHrqD56Hp9g49mE3PoEkHqtRN8cEFBNlqDgg7tJKTjXMTxOqyllnnUW9XifLMt71rnexb98+PvWpTzE+Ps4FF1zAT/zET8x7/uNptlo0tLXX5TLfxcBCzFaqyiOPPMI999zD6tWrmZycBODtb387Dz30EBs2bOhIHYecvzu8VXlWaB5hF8uChD2LtuARFEdECciKzsjd/o0Ig0Ccomfuxqzej929lnzvACaLwU4Xflx+aGseHFbzeOqpp3jmmWfYu3cv1WqVZ555hiuuuIKzzjqLXbt2sX79+lmPn9Y8poWXE6d5CKIeeurIhqch8dPaaPecRBEcufFEKqC+oOPlW1L76DA/TWRZxgMPPMDdd9/Nhg0b2LNnD3Ecc+utt3L33XezZcuWeY+fqXkcP1P30cL4QjsqgvFCg6pTZAOZoXkUb3VrHu3vPfnkkwwPD1OtVtm3bx/nn38+O3bs4LHHHmPr1q3AfE60ac2DjuahHQf08dysxQk+yZGhCazxHBxQFohWSXyJuuRUinwCbzRsGMB0k5lQtt0nTfyGx/GDvfD4Oky9H7HBIR8MHsuImI5A85iYmOCZZ57h+uuvZ2JigjPPPJPBwUE+97nPcdVVV5EkybzHPzs0D8EZIVq3j7zURIi6nv3p+XgEtY5SKcc1MpI8ohnnRavkUwmH1zy2b9/OmWeeSZIk1Go1zj33XB588EEajQZr1qyZ9/jlpnlkUUa1VaIVNUm0HDLGjBYtbE9yLETzEBFe+cpXHnLsM888cwRRF0pG6IuBKh6DUcUbR6SgcnwkOFXFD40T9TaYq3lLiYR79C7+NPsYL7c/xmvM60EddOWc0PXKEOHFE/VPIOdm5GMrYGQIU+sBWxDTXF2slilUlUsvvZRLL70UCAEVxhjyPKdWq80Ipnh2QxFvyRsVROM5pUarJSZkgo9u+CXqfQnv3vv/MJSvQs0ysckfJ5TLZd70pjcd8v6uXbuWEU0sHBWX8KXh/4/PrbyNW/b+CtdOvJwmJ1FdmmNANJ854YUvfCGXXXYZMLfZoR3PXyJjrY5Q8X2MUyIlxkkwkeSaEHavIqW/E1e9iA4oIXR2qTaJzniiMLPN3uC+5BMe9jv5jtzJKtbwKl5HcZGzzib0EDPBd1JOseueRvom0T2rYKIX0phpE/qzXRFfmNnqYJgibNkYw1vf+lZKpdKcxx5stqJrrE69mXnQFYIxPedjgPFKPt6LnMGsZkwBrEbU3RRfTb5MvV/5qbFfYXW2itbJmDo8Lw5PE7MJlFu3bu2673PziuVktjIYIi/cV/kWdw58mUsmr+H68Zcjap7V8140HM5sNZ9mUalUOq/nzQdBqFDnbHmUsumn5io4sYCn4XuYlL7QRMX3kqklM2EjseSF/VmmNaSjvU4P5IKsGIVSSmggFXGoWqw0SHmpuYGKCs+Vi4nxtMQhXYaruWHCptd7AOmZQJoV8l1rkZFhvChqQkMao8d4QUuFY8zzMMbQ09PTdbq5jxXREIHnQL0JK+cFZ+k4pFV8iIBTAEGlO7hakVCRLLxztMspgrHaOcVsc25JjVXRML+d/w5Te/o4q7GZTHyXGfZUwZHTBCycVywns5WitAzcPPJuntO8kCvrN5KKP3Uc5wsxWy3WSE7LKErV1IrBlD47yRq3B6eOhvQwJT3sZ5iG78Fhsb5oLXpwi+AjuDeK4j3YSh2zcgSI5zmBkNsWwzrEm+WnyMhokR7RgGGLSUAUrTSRTY+jfTUYWU00mYQWpu2afqcyVLHSwK+s40cNLrNEvQeo1hLqeRnFhirIgBcPWEQV60Mf+iDzmGPeOzrT6fyWrr8BFiE3cB0vxtSeS0PBWbcgceI0Tl448WzIN/OcsXeSCmRm1ia0pyQWv4d5IT2GBzWYjRRFjaXX16maOit0jJrvZ68dZqI3BgsmTfCtpOC4wbQyi19zBjqPvwoaZ+gZu3GlFKt2Xs4tGHLxOOrF/4+MGKQzsoAaxHpYNYIMHMAfqMKu9UijN0RlWe36/ikGcZRW7KGvb4Q8KxE1c6w4zMq99ESGuq9ClhBlOc0qiG1BWqXUUNKq0GxUiR3kzSo2DxIrQtBWjuCutTeNtjbYCXIomhEFmg1RNU1pgNQRrYZIm5lR3l0013Vumfke0m2OOSVk1JMXIuT44OWQ03ezG/P6PBaCdgjvdD+Abmtg8coGt7MzYeFjlCE/ggyMUd+c4COQZgL1nmDqqCW43avBx2D99HkOHptgksuAeM1ezKpdOI07EVWHw7Fd+fTRoiHQ1ycZfvU4cQX8vn50YgDJKgUDerbYSHX6Ph2Bz+NI0LF9G2iuaJFGSql3P24oJXVlKNWJJcMmkzhjcOqIjAChAVDmFQxE3iDeUprsRZsJ/kAvTPYhRGAcC66ALaDqC1t1jkeLCsuOdkXdyClxw0LkafVN4tIIFbB5HKo+C0UYeHvXaG8+YYDu+l0iihgXtCY1IdTTPFvu/+zofn7D/xd/vtO8om1DP7Fh/QuFHvLi1MAMnt5FF4eE6h4TpChr3Y7NPHiRlcJ2XfxXwFvDgQFwsQvhsBWHqUziADNQQcWQjg6StOKgv8yqSXjwBlNpwsoDeOLC13H8oQiiIbDT9+3H940RTw6Qbz8TWj0g05U8g7R6AnNhun4vKdSgNiOr1GlV6ngilAYWxyQRVoUIj2/XECuiDnwhZBijeJPC0K5AAyt7cHuGiPatRzIDJtQnOyjLJGgHRUCGChjv6dEmdckpNxSX9+LFo6Up8ijGCMSpZ/CHKxkfMEjvBOkgmLhFcqCK9Zas2UPDJJ0FVHUY6wND9IXg0F8HPLQiolovFo+a8BB6Z+j0u+lM1YeKCIsUGHAsaPvAltrUKtP7LQvf/U/jREDaP3P4phbRbHUEZYq90qgapgZiFMVoW6IzWCLUZtgzn8YOj6DPnIHuGwh0Zvz05iChQ5yKEq0agVID9MRH5VsIBRhF8H1T2PN34kYG0X3DmKwUqreKYryCj4rnp8iJEX9odPGJvqCjQKeqrrS9FlpEvuUYFDTCCHQKX3fzzO68PYooN8ohXS9x2DNH8SubuP2DsL8fyRPw7SRPwePBOjRWyj4jkoxUEgbrDap7DDrZj23E+P4msY0YOQPySHECbnicRtKHtY5o3dOYpqXqxnC9oFMD2KwXZ+IgDNkcWTGCJh7jDSbK0XIDUDRPQn001SJoQNHRIUyjgrdt9USRqRK0gn9OBNQsw5t9GqcsFmfz6Aq9O5zwJADes2+lYariKHVCdoPHXCgidASkXEM2Po7vH0T2DeEn+8J32+4Gb2BgHFaPhmPbEQFdcwj9Go6fTBemFsRNFYMrNdD1TVgxjrbKIfIHhdTix/swvlQc6PCtEjTiTsgvFNdYaHbdgxxcOjtkvnZ9RecS7NryxNKtyIxmUESdkcLdNahRom6fwTwoAoQ72gSAqR5AqhPkw2XiRh86VkXzKppFlCWF3jpCzpm1MWqtHkZ7B9ntq/SnGSsnPCNxhbSVUB2qhSg9hGbJ0BxoUa1HmIkyJVH2l4TJFUrWm6Gr9oHuxWILf4niTRMlLuh3+sdEGURp59o8Du2tgy8suAW0XiHPYux4D7J7DYpBzCxm3+OAEJV5YptBncYSQ2b575x8ouv9DnOfiUU2WzEvX/IYbO7ZvyriwKpgsjhYZZ+2LypKhI/y0BlwYBKZ6IGxIdzEAHFuqJgJTHUfUm/Siks0SoUZRDzBSBAecnccjVkzrkLBaKFdVJpIpU6QjhXw2OHRacetOLRVgXpXoUEDZrIfV6sGs0KxE/o0QeqlEO3VyZuwTNvwwbU3qYMJw4Sx50qgXGy0gwWmyULb/xYEPeQ3oCVAiStNpNKEIUEwVHf1Iq2IrKL074uYTPoY7THk5UmSqYiWtewe9qg0yDWiFkckLUc9CdUFJntjTE8LR4s6Dm+VpihWtWhKFKoRKBqamGmp055o5pxlxnshSNnP1CwU6KlhcZj+MbSa4XevQeoJxlAUZjx+imdQEu1x1nRPa1rHDe3gkCICRJHQ3EoU42a/E6LgfYQnpFMcjMXTPAr1fE4pX8DmnkYFdq+1OKtYtfM4zArLvBYtJ+MMt3I/MjSJnaqw+smYVVNjsM8he4VGOaVRtrhYmRqMcAYaJdDI4CSw6+jg88+xoy4q2l3H2syn+K0SFYzId+6LLTegXJ9xuA5MYX2hkeHDHW2VMLXeUMRPQEVxY31E9WqxJ4QtxOSCb1aDyaitlQHqQXTpt1ORQKCL7xZt92GxFIoD4MltRlxyZGXP+HCEmIxSo0pl0pA0m5gDJSqVCWI7QZ6XMZOwt6jrGBoLaifHxGFD98mDGxa1e74coQYXtNGD3lRBsKhRWLUL6a3B2ABu7wpMq8ScLQCENrdnoQxYDt6Au0/W5imVqVAHbAmhSieg8rTmsVAcraWgOE4lJFCrIbS6M6jNkUoLsa7thD30cBPj8ilc3JqVyhZP89Dg1J61anGx6Rl1jK62NKo+lCxZ0Mmno1sijcMm1T9JuZyTTID3FrD01j39U2Eu+Ygi3jPVpzQTIat4JvrDsWksuAjAdxxB3RagpTXodF1Rxz4gM98/RLf04QYT9AoAW2lCJQMcBo/DIwPjoUNeYQK0OCSL0Fo/0s60F4U8hr19aJQdOtYiQ9s2/xmax1IMBCDUhpuUUo/RiMk1LXrGS6zfN04ep/RmBusiaGRETvB2CpN7pmqWek8UtrcjpoPFuCItNpEYW5lCyw183wQyMYge6C105jbjN0EYaVl8nnTm2aZhNVoIJKbwJhW7ggStv00DxpvC7xa8ThqnyIYJ5Oxd8Ex5Ea5pbnQU5dMO8wUgMM52ouwhbLUQbg49RruCRiyUUogyUIcdGscnDmyG7auBOByze6yNsSSjo5j76qHX0UFYgjyPQ+EVjIPRQcPYkCA4jqZaqRYVc70KE32GwdG2RB3Emfb1iQ+Saf+EMODDXruy7AFHs2LJSo7JqmeiLwIr+Ni0o/2D9nTkl7506Go63r592mYEGEKJNsEYDT1HaJulFI1SosrIQSe0yOBeeOwAuKW50rbDvM2Aj0c4poqQeM/GJzKqDWXXGkOznFJt5iSTNjiqbRZYqg1rqiIMjSr7h4NJ6cTd97bP0CIotm8K7ZuE1ZbuLCGPICYlGe/DPr2WplYoVcbISjlqPX1TSuVAlVoVtNxgsqL0tjLifcOMx1Ui4yCPyeKUKBVcTwYrR6F/EqkKxvg5ohpPYzEwWzkmOejzmXpuEGh88c1uP2fYN3JMyTEjGQlCH51SA/oOBG2jv4WpToAHiRXbifrs5iuz6aQKUTpnUdNF2jzaO52AicD70Ey+PQkN0v6u9SUaJUd0TF65EBnTqESoCWVAZtt8VcIiFnG+lDJFsSStwDQGjEWNp1XJmeiLEVUaVcv4kEXEzbaWJxAz/UKHEmAgMulsKgCmSNY8SKIWj5YyvDXMvd0f42wLBuQLzc4SgVhE8yXrp+MQ+qYM/RMR+IiNTzpaSRqKItpibdpjF7bVTj4Kz57ayILpaGw+bgsC4UEPooLgVkzg+6dwWiKTBt4GgcLVhWZvFTPaSzkaI8kShuoZ+YodTA73ERlPeVcfjVWTJCM9pOv20RxoZ0xXQufMJfaYtzdCU1hSxAdV5FhHPcir1nWvg1YmXSJMu8Jep84eFCVHCrNayNoCaWvy/lAmI9ObercFLni3TKH/e2YaF2fSmRTjqgbd3JAj7eKyhY9TFVw1xziHNMvTUSOqmHV7MWv3oRrNpF4PYhw+yWgnwfpidh4KS0SX1jrH6od2vXbO53WRNo+wVBo71DVBYjphToB1wuRQYNQRB/fOOLrRDuKJh6LrjnYqwyudvuZGgVxJpoSBcQ/e06zmpD0JjdLxcicvFPM/WjrLq7kXyGB8dFwYZeQ1dPLFkfsg1SbOd/I4FgPhYQh67IoxQsfAKDi4k9xMu7a612PaEkqpKVSnPOMDhuRZIDBo1+TsIUKCFMzF4COISHFEUCSp1nsUeqbwVUPLGmKfsr/XUh9IkWadtNlLtaeGlJpMrEuQfo9o0GNF9LiU0xEFIzkYsGlGFkWhedu0W+7o4KXwTzkQD1I4/9Wh3uK6/EcJDqueFhG5GIwP1Qe0YPyRN2A93gTGbhVyEUwhdPhil5G2/8YrFVo4qzi1iHgib0kp08MEU/RQlinWu72BLYogeHIf87isp0zKIFM4L4zbXhpSCZegEorL9kxhSzWkVS28fR5tGczQJFmcFkJF21dVfI4imhQblxYb2UwRaS4v2PTnMi/rWSSHOVCJyL/yz7Q+cztyy08R/9jLkLyB+FAjaHSl4q1iFsFRKyhZJaLWYxiYyDncKTty+8GJeYVk7CIQJ6QJtI53wMkJQFBC587cP1Z08jySEtGup1j7tl+jt1Rizx/9Kq5aoTth9FghBK19YDJj4ACoCdpXd2LTXPdTBeJMqTaVsYEZ8s6zBDPNBW0pdtpPN1MMEw1sQoYmaWFo4oEM62OkorhKjQM4vHFgivD2mXLwkl+RGgHbw8q/+BCVb/4du37ud2ldfi2SucMfPAe8GrzNsTbFD4+jPiLaPYwXQTwkpFS0ySBjCKFemZOI2GVobti32jA5JBh1aMuSTvTjfQnbqGC9ApYyKS2JgzCiQsm3qJgaFiWXiAEmqBGR+kF6OYAVzxhDrNK99GmVyDboN6MYXNCGUJpSoocB1speBhijxgrq1iDeY1bsx/XklGuGvFInW9kij9p3yBG74P+yWiSuzqCEwBC1o7VCW/Q4GugcgRuL5zCPLPrgo8j3/h3/wsvxr7gJkxmszxkd9hwYDKahxYBRIYshT3yXRfgYpl+Uch0dVFwE9lnFQJYKs9sxFxN5YiiPjFK5/V9JByokUz9Po6d3kSN6AtOLmxI6BBce2YX4YgXwVhgctZRT2L3akpU8RtsxV8sPgu3MXykiFUXxsceQF312IrzoLBVT5Iir6R75BEOIR3Tfv1K555tUd/yA1pXXQsvgZXr3lkLGnjYxAbhOFe6OUKxg1SFr9+JXjCCljHI9JvENBkch0YzE1KmQYUN553B2FyEmR8tQGzBMrgjmcKvg1+3Gpr30PrqOgVoDNUqiyn43SFMSVlBHcJSYoqkxJXJKUiPWiLLdT+yDC3qFGaWkKegBBFdUjI47EamxeDbLdmKfk9sE7R2nt6dG0jJUm028eqYqlhSBZkTWK0UohA1189QWGsXS3rO5zj5vSfYFQz2mnmPf9GbMpc/HXnwx0kqJMqhVhV1nJGQWSt4UTt1jG9MXv7NIO2rgsc0fXGKpDwSHpZxkjZ26EfJxQjJYW8peKoZhGinphecw8pkPMk6L+qoBIs2Yto+0lepp2ehIER4ch0pR/9ZocCwv6NiwBgMTMDDmyCLYtc4UvGl5bh4BM23abY9JBxIi99uad/g9s830km0i3tMrNfiVX2PyZa+ieuWV9LWeYJJexrU35IKhZBIF8476wGxViFBiqaPEGA9elDI1hnUEVx9lKhaiUcPq3U2w+yg5UAnHexFUinBV9UwMZoysFrxaBiaEFSNgHbTKjjwxJI0p7PDjRIMppaYhs0qPHIB8gKHxBom2KPlWEXLvgx9XwRiHmmmfihZaBlpknhU2dy2E+ViU3ERYr5TrhrVTrhPY0TQxu89QsIqJtN0MgrbgJwLd/U8XG4EXhrpWUkhjM0qyL0ZhRETweYoZXkly3k3QqKOt0G3rwAqhXhaSwpRR9T2kNMkk7zygR+Mu86KMDRhWjYTyJsdyFcYr9V5Dmpiwk5/MDYAKR5zItBlvqYrgoSGKaXTri2iREbs6rsgHak9GECqUQaEl9Y7DcKF31KgGu7WTkPdSiKNHckXeFlXfveJRrMpR0eSzG3NdT5fDuIsxLBVNeAwD+QiDm1eSn3cN5cYEidvHoKkwRD/OWyIypvwqhD5q4ujRCYxkJNpikLHgaC9Ckg05saS4sYSVo4I3OWAxrhAyNfSPCQ0hPc0E9q4yHBhWmrHFqqFVygOjV+ifjBkch0ZFODCUU3dCkjrqFUu1kbL6wB4GNBTwxITxFYe4GGeDzyS0mShK7xglN+CiQJUmV6b6Iqq1IojHB5+TK2qcqbHYXNi31pBZWDsmZMbT6FPq1bZ7e+a9Odo7FZKp22Hch9buVDHBmd8pNTRtkoZFMlsF9d+SWY9rtnAYjPWM9Xn2rJLCxh1xQCe4I/83LjTnsdKsxZMfpZMuLKAxbtovfrjzhNCGQ5a+fdhkL+RROzLjVMHSRluF7HmLIUVoznCKtqOHHDl35Q9g8DzfPJ8WjkgEv8CGOyqKOMPAmBYS5hHNNJg/igN9OxLjONn/T1UoQjUbhVaIc3MmISb7/9l77zDNjurO/3Oq7r1v7Nw9qScrAjJKgEgyElEkEW2LZILtNTYYLCdssYYfy3oJNhhjAzb2mmTgZxbWhmUfFpwxlsFgr02WxCBN0OTO/YZ7b1Wd/aPet7tnpmc0Qj1iZuA8j/TMTL99q+5961ad8z3f8z2MchSMQ3zGYuV2/j3bzSPbD2VELUYK+gzCpZCxV8AZbLrkNJgesOMBZ4VUBeN6mW0NOOuxCJV2gjYMQ/PKxN1RBaC0SpkF6m2H8YH5gZSxo8LwdEK3KqRlLOhtNyvUWh6rcd2oMZRpifVKsEIpICEK2RgfmB9OmBoV1AQGZwEbUIHZWkJjJqdTNyTekKcJ9a5ivNCY9xiFdk2Z2SAk3oGmK17ZCPH1ZYikX8zaQ/6WdrljC2uWkIdAjLS8RLjXqOBTuDfr/l4fHqt5J+Kh1YA7LhEGK0JQj2ogT6HMDBUVEq3yKfchfte/nWf5pyG2QkUzXpH8HA3TjIJ2p22BBGFkxpMEc2puei+jGqtaA34pgO89UFVcAnPD9gQ2wvlty+nXtbDVYA4F+oRto4KT0At/479VNOHbege/rK9mJAxzfXgCX5PbeJl5IQ831+DE3WMEoBKjD+PvXR5F0KXEZdDofa1VTu5ctjMmz7/iupHFIxAsalwvBxZJruIr+DTldza8j98f+QS3TL2Yu5IDXNjdwesP/xSiJu4VK5Nax0WbRqFd0ahNaQ31loIqeWYJibBuyrL+sJAnjqxQklKiUGcQ2plnbjxjfsAzNCtk7YjvVrpQKQRvBG9dJO8puEyYHTbMDBuai568Zqi1oTovpGroNixqodl2dDOlXU9BS7pDnsUBpTIe571lnzI27TEacAZSZyOU1XWkIbBvW4KaWCHXJ7yoRnjMqFL2oEjRWL5liNFP6JX0i0a2Y0nABrDBUu1AvV1SbSvzwxnzw4aT0XZXs7UD962iVUOnJuS1hHZDCFmkPwaUIJ5NsolL5GIyU+Xv+Cyf5+9paZsTSYmnNpVA4pVKJ4kn/yk/DJooISjeWFBP7BsBBIkLphro1twKTPEHwc5Mwnyl9n+fJW8xhGCRkCw5CQHFozRpcok+iO3mIm4z3+aL+nnu0l2kkp5ilOPGFO51cZuKwVnwJARSCOFso1p9X2wtcx0nu5YiEBKCeIzLwPcq3QE1HvHKzu5Wrm5fRtconxj8W/628WVK8acZjcaNvtE2tKuW6SHl7klDXhPGjgo4EB9otoTUG9TGSLdMFCoJWTeQhYTGgmF+LGHfZuHAZmF2VDk0aZgbFvIsJu5VYX4goVsTDIbUCYUJ5NVAkZSEUFAYR7DQrRnmBwILQ0KrnmCdUMkNW+5SBqYhKzzGK5UCrI+U48QLeZJSpBavStZR0i44FFuA11g0nRaKKQPqFCmjnh8BbBHIOoHglUbLU21Dc9ayaY9HFRbrQl4XFocioQJOf1e4VwlzVaUsS3bt2sXY2BgTExP0R8tCxu3uDj6U/xlXyOX8hH0B1ihBYheuQM71yfU8jGuo2pTr/GOxJmPMTuDEcW9SlIqQdj31NmDsKaEvr9H1iAAAIABJREFUTTPCl/6F9vvfT/UpTyV56lMIvsuSeLsq7YEEbE8/6jyvsO1nmUDXNGF+4MABOp0OO3bsWLqeUUupHf6YP+Rb5V28Knk5G+x6fK/HeyEF62QTbzNvQUg4ZI7yNH0qDzXXkJPfQ+I6Tt4BAx1HrSN4MZxWCYkxhG5B/ofvQecXqbz61dj6IFDE68oPZvNZXdrC7/uaUFXa7TZ79uxh8+bNNJvN/iAkCF9ofoW3j32AF8zcyHPmnoyXdi+qcEgo+fmjN/HSqWeSaIUfnb+STcUEWchiu2LpU61Y9d3vQ9lpNzAyDUEswzOOilOQhLRQglHmBi1VB2ke6FQNJquw+C9/TfqB/0Hjp17A/JOuZXagoEwg9crCgEVCwKrFJUrtoCIBNh4oadWhW0sYmA3s36jMrLOMzERmVzcR6u2SoJZqIdQ6UMkDQ3OGrAM+sYRUWKxF2nkffhqcC7TqhoVhpTlvcKllfCrQrkSXrJJ7Kk7IurGWTpySuYARQ1BHkQllaqi3PHlFGF4MFIlloSksDIMVYW4gpT0A4KKT108J0KsW6at2rLJX3KuEuYjQbrd585vfzLOf/WxuvPHG/kqhaurcbnbxOfM55nWOm8JNkXWgLMUVBmUoGURx/GjyGBQlJ49JGJbWw2lMxNCc91gHak4lIy1oJaH85jdJ/umf8OOjmKc9oxfyuRje1mF2uEfNXIkVnq8mYK1gzNokzPuL6ZOf/CS33347b3/725d+ZsXgbeAzfJZvyLf4MZ7BZjbjtLskzx5Q6raOirCDzVxkLqAkx+FOuSAikyVGMc1FJfEGtad5L4klzE0j/+tTmE6b8MIXEIbHKJIyHhp6bnS4W0tTUUwmLPtU951Ic/fdd/Oa17yGt7zlLVx66aW9f4eG1Pji4Nf5i7F/ZEsxyXNmn9jr8hgQEtQqCZah0ASFZ8w+AcThKHp07IBK2lOUdquOb3tjWa+IFRrd2IzNW4UAzkKradCOi965M0gKzU/eSvjrW2lfdRk87XoG59qIKu3MMjpboCKkXUu9reRZT5k2KPWOIlqwZ3uKy2I300PrYjuCVCEfSFGBrhGKGoxMO+aHLH40JUig1nG4REidMjeUUO8EJJQEgaRMSD1Ui0BpwFUMWS7xcKkZxuYcC3VDrSX41OFSQ61lqLYDM6NCsDAy6wjWMDMIzXaXakdxSUptMbIVrSoSHHlmmR0WRDxWLI0iJdUYmfXXxfecMB8aGmLjxo04t/ylGTEcbR3i2ta1vG7s9ezwO7BiKHGsLE1RBE8JQJfO8kI7bgxFSUnJyMh7G8kSM0sgK2B4yiDBEMypoCZF2jn2hicRbBVz9WVYlyNhWSZjcSBhYcD3IKsIgdmoFoVn9YV5LptiOLz3EAtTC4i976hlfzFt376dO+6445if5ZrTPtjl5nAz+8wBLuRSujiWj+j4zbneIeCB8hTPXBCqVAl4utJBVZg4Yhk5Eqm62lfbvScrSuzYGOlv3EIoOiST6wmhICQWTpp7E/qs+sDpwSfnigmC954je48y6Tev2XX7EcfKvQIR9k7v54a7H03V1/jRuSvx/QSCQF+FWglRek0A2pEtJdDNDJ260mw5EmdQA1ZT0ASVnCD9rED04qtFzLOp7dO6449TrzQWHD5RJETZfe2UZM9/Pm7nVkYf80jc3i4LjZRa2zOYRGjo0HhCw8DUoCUQSF1M0dsyZ344obQO6yQWKNplBb8yXSbjFCkcWp+REwVDGl1l/SGHaEKlLdQsDM4rSRlrXzYciM/DChwdszQWfYwQevdRJBG2VSPMDWcYL1Q6YIOw7qAnJIbmguJSQbqBemmo5IBGmmF0wgQvAQhsOADeKIk17LpzCndkHjEn7hXfE9vKGHNM+GITy4GDh+geLHjxxMvoyByFtjBk99qDi1ITKYf1CLfrbTxYHkDDjKE4hIDHUGkLlVz6ZJlTmy9I14/BT78IzUu07AAx1+ESx8JgfHmM9tlBEYsPWpKKwYnDfJ9a2661iQgWy7f/7ZtM33mUNDn9vMLpXPt4qCMU8O1vfJMfD8/EpFXmtQWaI3LvclyCQFCcFHwx/DtD0mSn3cnIYc/knign4ZJ7cUVV1Aj2yU/GikE6bUzhqOSylAlaUfEAeKzPKKQgI6o4B7OkU3vOmxFDp+zy9f/4Bhsu2bR21zUGa+2xUIe1fG3fbp6+75G8MnsZuEW6SUHq4ma/jEgpiYtikGqUmRGhVQt0moaFesrmA56JQx7r4Tv13ey2B7mm/SAaWovQVs9izcUK2KX/PxUGWwGC4k3ciNWXsHM76QMuRrol2WKBLQW1nsU6HJhM8cbQPOIorKNsZLREKMUzmKeUoowdjWN3G0KrETtmRhgtUkestwzPBRIHzlqyQmnOeYZa6ZL+VK0bCQTBGNIAEuLZqgY27u/r5yt5PSbCS2uYHVHKTGi2LIOzJVk3ng1ZEQlFahMSD4Od+Ex8CtKP7pcKM6OOVbXoEVGqGXfdvpsDR45i0hP3wDVJmJdlwfadO9hy4RZmOUxOEcPK7+HVCmJI1PDf3Ud4hXsln/Cfpkps1el7TIHhWUfmOJGYvKoZcAqtRaTM6bcrNQ7mBy3Tw3rMDiAK7w8f5Ofdz/ONcAcVrd/rezhbTTVSY3/0qY/hoisuIc/zNbv2aodHUrE88vpHYZKUti5iiZpD93ZVBJRM6nzL3cnLwyt4HW+mdmiezXtTjIJPwlJy/rTnq4J0O0in1YPAFL+UzD/WKprwzfBVXuF/nveHD5KEFLuKRPa5al49A9Um1z/pOmy2dhwaETkG5gAoy5JHXn45O7fuIBQLUJZkLtLkO1WDcWC8YJ3QrQamJwKHx4W7thgObjK0mwFNPXsnLfsnU7o24bUTf8jjL/w5Pjt4K6K1Y9aB6El4ED2ShVoTBQB7zqO4Elot1BdgoNpVspYyPSi0akqzU1JrKa5WZy7Neau8iV+V3+S25gz5QI3OcBZzqKJYWZLcQjH4YFl/ELbfqWzZHdjxXcfkPs/QYpxLfIcUMYDRXjO3uDbpK2YbYhm8hWpXqHaFZhu27CmZOORYd8DTaAkJQuoiZLUk1W9WXKdPUJAYkS0lDiTmg1QUXJdHXnkFF2+7gLIsT3iE9zrycM4xPz9Pu72yaVGfXNznE3/v1q/K3C6TbA87mJANPThC8SJIKTRb9IqEBNQQTO/MDiyp7Abp4fHhRKkJE4T5pnJwo8GY/hkU5+5F+Vf3Jb7Clzkc9pGYyyjOIwpv5NVHvvta2tzcHAsLCzjnSJJkaawg9PoF3BdTghQM2wYX+Qdw9dQGJu+uYIPF2fLEb0ZjzYYQMD1KZwS0DGJ6UNuKEnuNP2F4NjAzAWWysk1uwEqT22UXXw5foUqDl5jyXlLLzw07XoH5vlqr1aLdbh+7VwikHvAl08NKsIFOI6GSC2NTnulRCEnMJcyOWlrDsQpc1UfY0IBowBvH/GDCcCvlYjfJpd2LGHNjgF/9FjRu4Nojawg9erZETz7WSpx40qhA0UgYXrRsPBiodYQjE5ZOI6UVcv42fJn5cg/d7gsYkklaqafTSBAfL2XU9OqPAiNzMDArGN+7D0JPOPTYHep0vwKVPmNZqXZSqgpYJfSDhPu6ZamABsxJ2lTc68OjKApe+MIXMjw8TAgBY6Inr0tCez054+99xpRS8GPJjTyFx1Izo3SjugtGYXQmUO0Ygo3VwJpYTNZEyi7SzQGJEtxZJVJDfYn4YunmjUKrDvu2WRabgXSJL26oaBXRwKvMq3iGPour7DUUrN5F61y1KENh0LA2jKK+d/ngBz+YrVu3UhTF0uERHZll2ev7MucujknZyMdm3s7WfULTV/C2WPUevAFTaUQvrtOOPo0KJKCJRQJREeHYQajlFuvoQWCRdZJqilXL4831ZNTZKZsRiQ16dEWjpvPB1lJyTFUJIXDzzTezfv36pX+XADNDwuGNypFxaNUsRpXmPAzNQHvAcGg8UilCEjmRRo51AH0PSLYUqCt47f6f4RcPvZhBX8VLd/X5iEKaYNIq5B2kLHoHB7hKRoKiziHhOKfKQLUDtZbHBCgTaA0KVTw78jHee+Q3KLpzXJdfRL1s4RJHUenJwSigJUXNcGRMyHJIch+7qPbQp7VZQbJ8YKyliUQIH101rr/XVN16vc4111xz/BhAL+xCV+fP3StTIGEoibkO3/NgTRCGZkpMSNBEMCbF791L+9YvUL38oZiLL4xJ7kqd8lP/m/AfX6b6gpdgtm6CXtJOPMwPexYHIOkVD4rGwsYv6xcxanmIPIwrzJV0zCLFUj/0XphHLHjrJ9f7dyqEpf4VZ3OU0tfXEVme532hZfZZOZdccsmJY8ny07lv1M/47IdnLTv3DSPe42yJkVV8HxHEOYpPfxIxhspjrgMjhGoNs+c7tN//pyQPeSTZDTcgfjkUD0axZWBoHqarttdcKmE/+9ilu7hCruBZ5tkEOuSmg5Ico9x7rtvKdQFrQ9UdGxvj0Y9+9NLfRQSD0K4Ld28xlJSAZWjeMT4FIU1Yd0hBHXdvtCRIrOLuAy29HGeqcT+YbxryHY4LvpswttDAGSV2CF1l7kmCu/123Fe+TOVRj0Q3byUoeGMIH/wTipkZGje9FMZHIBxH2tB+7xGl1UyZGijZs/AVLjo8xFOOPhxChkvnUJRaN6Xe0XhKEg/kthc2FJCnnqlxpVIYBhYDaiAte51Ivq/NyE5msgRHr7Yu7rW21fGfj54nQCwOi1DSWrgwodd7PE62QKiWhkrRFwSDUK1Sfuoz8MfvoXz600ne9N+wqrhvfwv/++9C9u/GPeShZBduR3uY3fLse806FTIydoV9/Frxn6naCu9J382k2QQeEpVe7YDgxBOMrNqAT1ES1Z6s21nsjUov+baCjroWVcWrieotj9EvHLwP4wixCMoXqE0QktXnXamge/bh3/D/YdKM8tJLMTu3oXmb8oMfJv34p3CHZ9AbbohUz9Bfq7HuxRQWB6Q9mOsD5Qf5qHyMXze38CL7ArpSLPV/P5800Ppimf17Wus10beAMj6lVDslVR8YOaqIsQzOgmrAOtiw3xKCZW40akwZ1aXqaSV2JY0ah5ZOVbh7M2z+rid1ATUGc/y4YlCbED78EcJf/iXFK16FfcXLMa7E3/pP8K73YkpP8ajrSCcnoH0ivm96PnHDZeyd+Xd+pvEqHj74IP5i/h00fX3pYFQrHLPSE6h3A5Vu4OBGS6spVI46jqwziDMMT3tSlXvRlvv+NF0q+l25LtZU2+r4AdfURHFEyt2WA0WPCRCDPSkL7MOvRnc9BnnMo8A7NKlRfuxjmP27sdc8AnP11ehxieFjIwYI6qlQY1uyhVQqVMwQg/NVmocctSipE70PiYVCRSV6OP2rSFCKRGkNpwRzmnTRH9ppW+8oYqFp6FYNtXy5eOkEKx0yNkjynGchwWKGB5Ekha9/Df+J/0lSa5A++9kx6eiPc4QUqp2A8Yq3AsawwWxhq9vGcDYZK9HJV0C0P7TvxYoMRmaFoSOWWjsQJCAmhhVqIfGwdZ9jbh6OjitzwwafWpLeM7fOMDLn6FRgcQCODAqV9SWT+yyrt6qMNQzm2kdg5mbgyisxwSGlw3/0oySdLvZpzyRcdgmhyE/KIgoG0kXPA/cN8qAtF3BBuIAkG0BLwPeFeI4bW3t6a8Gyfn8grympJjQWPJ0mzI0mTMyEJdGLc8nWRJL9WNjqdPiz92yqMUGelJ7xacu6qUCtY3py6bHJi3RysiuuJLv8ChAL7RJfTUivfSTlzFHk+S9BJtYjnTb90uP4f4tDUAlYNXSkZDQZ5Xfc79Kc91zwL/upJS2SkVEI/aaSMVYZWIgc66jCGg+QPFOmJgKLwyYWW9332z9jttaw1SnHWivYqicJ3a4ph9cZNu8NsanYamw777CNQeyv/lpUBPUe7XQx6yfhuc+A8Y2Y667HFEXMjfajJAALo3NKdrtwZF3J/LDy3PQneHJyAxv2OnThq4QHbEVFSdRE9/c8sbWGrU5mBmF62JNnBltGeDryXpa/y5BEKHmopQwuKrMjyoENBQvNFEPAV4R1XWFyj6NbtxwZEzr1lNaAZ3AhoMfXL6mihSd9/BNJH/u4GInkOd5mVB/3WMp6hv6nl2Drg9hOG8zqCQQFgs35kWIHn973hyQdh/3u1/GT25BGNeYRV6k7U/pLxdDoRHHFIJZsLjAgEQaPOmtnm60xbHXC5Y+DrYClv983U2ypTO5WxqYcRgRvkl5VdJQFaNUMZSXGkyF40io0FxfRa6+l+qhHQ0iQdit2L+vPzcDwrNJqWBYGhdJGqG2gpVwyO0r143+L++WbKW54AvrGN2ANhLDcIcJoPLhUDHmtZGYkcHQ8Y7FqyKTsyXmfxXaGYKtjhjgOtur3WD8tOE+WI8M+8SX0ufIo3brgE0HKFR843oLSd+UUjRomQwNUbnltXADO96KHY3t2R0xdGJpTqp1Ae9pzaGOFejrE+p+6Gfu1b3D4M79P64rLUcpjfvdctzMBWx1v0lN4FRWmxwyqJeMHDc22J6jply/QJ33F78MwMh1oLCh7twgzYxYVz8H1wvCs0JyH2qKPSWojUd5j1bnHhDhGwPfqG3yBvfEZ2KffiKpFO+1e1frJ7z0yOQPjdoLuX3yYzlv+K8lLX0Ll5l+Cbkm/nmPV+4deC2bt/T22uFXOVgj0HmCrtfIwAmAlo0qVLl28OqzYVZPn8WHFPwur59c9UPVQb8cKzqW+15IgJiFozsENMDNhaPoKufE41+KC3cLI0ZIytah0MUaWvCqIX36tCxd+1zHfhCPrUrJcWXfYUZOSvGopNq0jbY70qloF6dHtTBCKxLMwFpgdseS1lHYtxDoEllvwnI0+RN/u18gDQdSSUUM10KaL9OiyJ5jGngZ4SIPi0tjZTXtUhaxIWDddMjgVSHyMOpY2o2DQLMETUJ9jg2B9DVxKSBYJeKyPFcFOHEYU22/iceI0cKmSaMrItNJolRyc8ITxBrJuFJNW+8dhrA84T+z+ijwUyIKQkNEet9zZDIwf8qw73Ms/icQanF7FeRDAGiqlZcseR7VtOboxoV31HJqAyX3grSV1Pbi4R9pRFUhs1DFzXSRAEjIoa6gt8dLBBEE19HyIDqZXA3Y69x4o0WYDu2ES0xwh6uKF74ksdPauovsh8hAgJeFfw7/xNfcfPJnHs81ciKc87kSNA3uJHapiAmzJrTzuukqnapiaUKr7Qgw1JXor4dAR0sFRLMIiXb4Q/oFJNnBB8gDu2ubIrWPdEQe2F6nosfpX8f4NA3PQnPO9h2PwkiMPvYrmh96HpIOIKsZFT8NZoT0sHBgXFocs3vQPDLvUtnYZ8zwbvYie3Y+RR6KGaZ3lT3gfo26AJ5jHEWzvhV3FLIbRKWX0cEG7IcwOJbgk9qkfnHXUu5AEi7dAj+yA9uoCpqdQWyGp1zHe8aXGV5lOp7lu8WFUQpRukKBkvQSW9rOvxz0bVJZ6QsQKXWVsJmHPu26hazx+YAijkb59eo8tepr9V+5sXRn3V+QRKayWfwh/xR1hN0/Nnk532xAqng37e9GDKHlqSEqP0ZiE9omSeGHz/kCzrRzcKEyPpwzNljTay3t2f02HxCCdLrrQwoyMoQJ3p4f4Uv3fubrzYLYUk6hEaj8BDH1U4/h7Xy2HAnRz7A2PI3nk1UhjGMmL3jt1PtmpI481AW0Fg1Hhw/ph3hPew9/rrWRyojRJT/iDahc27nVUWgYvfQ35Yz8bIVDPzJjQrRtMMGAzig99kOJlL8b99Weo1kb52/A5fklv5t3+j0hDQFPDvq2WwxOAD6t2B/JEBVa1vVSI6FIjIBPADo1CzaDqWWw4Dq9z3Hmh4bs7YX4kYAQq/Zyp9rVIz/JD4/tgGTX+Tb/Km3gjfxTey6Jpn7RppgokuTJypKSxaFl3yHLRLuWSOwKb9huabQNicfa4369W8bt2kf/cy3H/9Q3YAo5U2vzk1tfy3G2/zjeqd2BCleWj/RQveIiOgpewYssQ0tJRDAxRDk0ssX5Oh08YGfKOqIZ1TuZE19wSDDk5f8Cf8k7/Dr7pvs6g1jk4CQe2CN1UEAdzg5Z9WzK8BGwee1cEAy6FoVll+3c941Oeo+vsKrUZBg2e4vfeQfdlL8F/9askWZM/mfgkz7noN3jPxMd6+gDLa+lkqyKIR0VO3EZUMaKYsREk1TNy2J7ttiZsqz775LlyI1tlMw+Rh1KoX/puluARoBBhwzRM7hEqHWHPToNLyvhSslyZjAoVUkIGsyMlVZ+g+/bBe9+H6bTxs7M4Y9nBBTxUHs6VetUyHmaF/ZtTqt3A4AJociyOKRg0S7FBoOj2gJGehxhAi0CZKTMbY8tKl0RhNUF72kaczbHmadgxodIZs0IKHigXs4GXs85MUNMGzixTXSGujX6VrLMKOMRYgk2IursxAgBFpF+xm6DiI/5sIHz4Y9jb7sCnCU5KGjrAE1qPYH95lA3FBMH0Nwo9blxd8SgESQ3GWtQF1Mcul7ES2DJ61HF43MUCVFZKv6/+EFVj3+x+jUL0UbTnIvfblJ5tduZn5AlUJePFPI9v2Su4WC6kowXBCgc2Gdo1w/i0orZkejQhGMP4lFJfhMTHdzskQrULQzPKkQmLiiEJCRjFi0dqVfw/fAH35x+LeYZ2CzWGy9uX8qi5q7iq9aCetPuxB8hqJpJhkt72Ubp+cAoa10HUeZWYK1nBFVrrav3vi93D/Ncm5yFKKZ5Hm+t5UvJUSvUU0sVIv5gueuUBy8RRZfSwI6SG4bmS4qCye3OEEuxSEyEAQ0tbBBEqwxWG5nJqjSr6+OsgCOnTn47rzHB5/TLeqe8g04Su6SIkWAxlCndvMVR3lVQKi/Y9VmsIM4sU7/4zyk0bqTzz6SvmKJQVx+GxhPnhhE5DqUhCSsCpi4tFWHEonnsm94BjrqWVUrDOrONlvJhO0qGtRcwfrRhP6bePjTXb86MV6h0fQ2JZdjrih4UgngW7yKBvALHNp1x1GcWeO6m97KWYZkY1L3jbgZsJBKo+JVACZgW00Qu/gyy3xk1Syr/6G/xXvkL6oheQTE4SnEOMknjYsM8zNKPs3yR0Bi01n9IxRVRPPf7GFVQ9jUXISgECRQqduo3kDXSJlXi2rKGV6wLOZM4j4CRwo3kmN8oz0FCQU/R6eQjTo565UaGaK0ZKptdZFkYMI1MwMiXUOh4TlCKDbsWw7nBBQspCukgWUiqaEcoSs2kT8qjHwAXbSB92Fb6c58butTxx/hHU1ODVxTV2qgYwSUK4+yCdD3+I5MorSR73ODT4Y8+cnl9qCIivgrh4gJ1NX+73anIPOY81GgVRpaDASPQKYxV2NKXEYUhLy8RBTy23+DRKBo9MBeYGlNmhqP4oQCVYjugUr/evwxjLG2q/xVizQXOhSe11ryeIYNXSnM6ZGoGKTREVrMRexqFXg9GuGbzVFUqdIFmFcNe/4//0j5GdmymfcB3pwDDqS4IIBzenHBkjhqVB2ad7qUqdIRmA0+yr/UOLZhCCKh0cXRO9NnNcgUbkRXnwCRv3KwPzgoo54cUTBAkZ7574M35/9KO8+eCrecb8DYSyS/b0p5M+6UlItQpFiZrIpTcK3vQaD8vKqAPyVLAOkkBMrPoS//GPoV/8EvojP0LYvqMnVxF3igTL4Lwn6yr7h2eYlgW25ht6fVH6V+3dd8/pbLSULGb9KS10amC0YGYEpjdkP6ArKTY7KMlxIiTGxxyTSE9PLDpyRSVGp4ZIYDi8QZgdMVQ7yujRkk4twZaGidkK32x+i5/Z9iYe1L2Q39//61SKjGTrZpLf+23URn0IvEONoa69DoYnY+qsnGm1iv/yrfgPfwS5cw/2useCMb22uSs/GPBe2J3uZtgPMeoHCIk77/eKNaLqxpxBfKh+qRd0/9JeEiqFYXJvTr0NwaSgUc6jkivb7xTmBzytAVhsgKkacuu5w+4lcZ6utJgbHaA2rzS6CUYUvKeaR6/VQ29jNxBgoOUJBmqtQJqb+PP+nPIcs3MH5mdehtmwmbTRhOAwAfIKzAwYhECmKXeE23i1/go7zSbezG9Tk9q5j20uIXhnPmHeTwsJurwmTgjn49ppFoHxKUcl78GEx8XM8fcNe2vTfLu5l6PJVGxBLL28VpZFKib0YLFeP4h+VLmSMKGgJtbkKBprQVKL/sRzkAt2Ilc/mH0bHIX1DM8qI0dt1CBKhcwlvK3yLv7H0N/z/t3/hadMXwemc8xc+4eJmtDPx5I4GJn2dKuBfFOKh6VI+2yw45PFZyph3t8r+r1XlrbhPozXO0CO+T0UIVBUlE4F8npCKZAWHgaq/N96wf+t7aY6ZSmlpBKyKEdkLRIU1V5ORMOKvFPfozwFLbfTwT78GswLbsJcdTWSCDh3wq9ZN8D/Gfx7fnLHb/LsuWv5g92vx2qMpM9t65ONdHn/PBMV5nLMn45NHyswNhUYPyoRNlqhtx+sISth3ZQSZkP00AZLhkLCuwdvwY0PM8YYRxsOmTRs31Vgy9hUXkSot4VglcaC0mgHjBcG5qOaqhKjG0T7UjOIL5H6AI1f+EU0CCbv9FRWLa0hJc88WY9xgwTwDu/BV6Kqp/th2vMerb/ATsJTOcYEqHgYOyzYYAkJJ0QdilJaiy07/MLXHsvjNl/D1fnFaH/T1uhMHPsbp5ifxDag8d2IXWJCECqPewI86clIt6Qx42iPCXNDwsjRgHEC/cycjxIZKl0woZc76dPBe5iGhFjIimLUoKq0G559Wy0Lg6tIaPyg2PfsjEevJwHKLKa789RzdyNw6fRmPnL0rTxwbh1NX8NLT5vK38d3tSyRdZNUXnsLxgfIi5NMLYB1UBqcQkhczMHI+ddMbqWt2eGx/C4svxQqYFQZm4b1BzzBmogxrnhxeoWXBLGIQkUtZs802Wtey40mpXznmzhzF96SAAAgAElEQVS6PWG2GVisGxYGA4OzMeKsdmHnd+JWkTjFOgGjPa8yalIFGzttSQ+76tHHQQsQRau9Dl8aEDWk3lNYg5KzQy7m3cl7qZAyIPUIr5wXtkxzPRO2skhQVnDRTvxgjBrFBQZmFQkWtdpLLi9HHwaLS1P8h/6U8Q9+gsf/ws2E54wTfOvU99DPTR3PD+gtwcRDnsCBzZZqoWw46AjWgSrjRyPGHpLYaMolsbva/LDw041XcmN4HjvGJtk97BiYFWo5PcmUvke7DIorUGawb0tGqwnpMZM5e+x+iar7pBaWjtl7tP5njCwTLYxCIU0aX/s2ky/6Da7efDG85jcJTbtCr+xkFzxNwoIIxpfQcUvzXc3UdHn84jX8453vZtSNkZUJITkP9ooVAftq9752kcfSKoj+Zr+BetaFDXfHdo3B6jGzUCBklSg5UkQvUg2oAz26n7w0VI7Oszmrs0Ed3QoEYxEJS3BI6kPcHNQSajbSLUMJYkmCx6WBu3aAqyw3IRIES5Qm9xIhrsEZw5a9ysUdx+EJy5HxBGsCF+gmvAglq/SNOGdN+qSfM2JLoa3IEnS0+gfBqGVoFrLS9xx2xScW0gwp857+lJKEQDk9R2f6btziAaril2kvJ7G+rKYYSwgG1PcqOKJO2fyAsG9LQlH1bP+uh5BgkOi5JsR2onjuvDAhz2IfiCJTLCNs0HGOikNRZsdZKXV2ghkVvLG4RMnOSpZVNDlV8njNBuFEIsQpTFmGtgIVIrGmHZvGAcP7Opi7DrCYDVOli6ymtHzM9RQ0gE0gEEkTcgqtMjUYn6CmQE8y4YBiguGS/CIg4M15cHDAMYSO1W79jAkjeoHMGdYfcFHIzp64W4kxcOc+ktk2XLoNNUIoS5KhMczvvAMngbB+AuNi3420BJWw4kuMFDkVUJMS8jK+oBhMjxUhKrhU6WRRj8r0PMOjoU3NJmRkOBTrA2kBqUupdpRmq+TgBkOr6kiIVa/ni8n9FHmIEtUBTpxAbBAVLFv3eEanIA0GNVFhlVYHbvs2ZstmwsQA6h04JXnpy+CJ15Ns2UrIC+5JCMZo7AHt8i4mrUS2loEkBI6sSzi4SeikBRsPB4YWLG1bxJaiZLFCmcD8gNKpQTCx/tiioJ4cv9QwyqWnszbCUiL9bLX7I/IQXWavnE7kYRScRGencdttVApD67KthEJJfJfONQ9k+H3vIs2G0YEm4t0pryoIahJcnpMYwdsU04O2T/wsqJRMmQ4DUjmmGfUyGYilYNPLiWq857Tpsfd3vK2Rstsyd7Xf5yIAgzMwfjTyK44fXKyFxRbdN/5nvvEHP8vc0V20RjPKzMZO5RdeSHbhpWQ+0niDRM79anu4Zhl+317yV78Ked3rKPIuQVI6FcPhzRlYg9W4EOtU+Bf/FV5c/iQfKf6MJECikVKpiSXUBzFJjXWHPRfc6RmdiVi371PWOLs3gNMxPcORR99MUAYXAlWFsheF9COR5oKy47sl644EUq94E+cVqnXcp/43e173M9z5T3+O2DR+58HD0CDZ5VchAwPLSdCTDh6hS//f30/+Uz+N+7cvodXKkpaiSwPdNJAA9Y5hjkVetvU3ec6OV3NXdgATEg5vhLu3GbxJgSpRl2mVTUZP77+z3e4PdpCKrtwu7tGCQJCUxm37GXrOKzn0X15Dsn+KnXsT1h30DE976hdeSbJlC+JK7rEZcaWC/9rXKX/2Z+m+8x2I664ihBhldUyo8P6RT/PIi2/ioyP/B0tGn7rprCE0qojtF4Gch9aPPHT172qNDo9lVyIATqDWVkaOhIhdH0+7DIJ6iy0MH7mp5PF/Ns0bHv43HFyf4dMUW0lBDCbPQe4BvwRIE+Q7t5N86Z/Rf/4SlakFQj1j77aE/RMOl/RVa6I3OiNH2MedHDRH8KLYEobnIIQc95Uv4vbto6xUaSzC9l2Bbbs8A3OB4MOp0IkfWs/6HqwgbLg7sHVPybbdOcNTUF9Qtuwq2XlHYHw6rsoQ89CR+ZQHDk4afuxDHV7yn/6BuzmI8SlUMow1sce08yetVF8yI0hewGc/h/nmt2OEa9Ie1SomtGMuxnJkfY2713m+Vfkut2d3cniwYO/OhAObIc+E6q5dVL/0Lz2mzfmjpHuuWKKK1ZQ/fJXh2b93O1/UzzM0JYzPJIx2qxAEyUus3nN3TEks4V//FfmPr6Ff/ApS+J5S97JFNpUFhbuqh7i9fjeH0kM9TD3mZ7WzSHnrl/HTRyIE9gNoa5cwB4KNiaiRBWX9PonyyH0VSYkhq/Gxh/b8UEF72yD7HvdcOmEvMyYjnRPqh6fpfuB96MAQlec9D8kqEaM8hb8v3QKuvAJe8xrMpvW0LtvG0fWw0NClehMVwQMtcq7ncfyRTLBNtmKwNOccma3gv/R5ujf/Ctl115G85S2QpNjSM3ZIGT5asHuHMjVR5Xg/5dyz+we2QoQgGdmsZTy3jB4FEyILCUlQ04MgezpnAOIc8vgfxW//NIXLkGkwSY38c5/BffHzZDc9j+SiS5CyOPX0fYBqDX71V5Bdu8iuewpSgpACHnqRi9XAYrXL4PgEH7jrtyhczvbBHewdb6NUse0Ooy9/I0Nf+iZ7/vpPaD/saqy2zsyD+z7bWZswV0f70i1MX/pjhPJ9JIerkFTQfd+l+5H3k150Kfrjz6BTEYbmPCK6TJfuuc59MQHNC9InP5Eyq6APfCC2MR6jWk3x0s9rKkhs5POqQzdx7fyVXJlfSpAy+h3VKv5jH6X47bcRXvTjpL/2WpIi9NSc+6/VSpTiHI1M7p+EeXzklVzZdlAZmAokXiLtsv8oe3UUU2OGxWagNSgoJU8NT+KB8gA26CTNjsPt3YN/3wdhZBD/lCdjNmwBl58a33YlaWOI5EUvYmaixifG/opP81luLJ/KNfZqChMYmAnU2p7Z0QQqFR5eeRSBghzHRNdh8gqhPkJ14w6yiR2ApbRKkSrtASFPMzqNZW76ue1/3j8Jc2eUAxs8M1st6YGUxkKJqMHbXs/7EJZ7wRAdOy8lm9sjfHzXbyFq2OTHcdKm/ORfoP/4jxQXXIp50GWYojj1/FUhOJJHPwLzmOuYckd42/AbWedHedXh55GEtPfB2PuxpOSK1gPAGXItOdK2tOolFZsgWyYJR9qk9Tpy3jDuTrQzVVV+7CDcq4R5XB6KaM5NPJMn+odzBTtoDRvs330d/vxjtB92ObO/8DRcNaHTgMF5Q2Nee61deztgH3ooHbJhE9lPvRSc4X9WPsnnBv6ZVx/5SS7t7iSYEojCmV4CE26UJy48BqTAi4t1ZaowOkZ14yYqg9sgt4jvwS59mX+JbWb1/iAhnCm7PxLmKlDpKNu/UzLmq1FIbJXd1TgoEbI84LtCu2pQk3IJD6K5UFKf7sKFFyG33IKtVTCjo0iZLxUwrXZ3imIQnASmBtocHRf+Kvwd/8v9BevMGA8xj6DaLti811HNEybmKyxWchbrLeaGLU0Pg4tCEUrsQ65k4ePv4s6JNiMDJZ1mgrMGl0XejpBgQk8F69xeE2f2+kubkDI9Hpgb8azfF6u1QxLwCbQGIqWy3gmIT0lLjRLZRvFi2JlvAVW8cUiWUHnpC/FXXEly7bWYbn7K8aGfZ1DodBCv7B64nbdMfJiLuht56dGnIbKOgOvpT6WEaqCTFtQcJKXgSfDkFJWUI++8hW937oLxIca0OC1RxB/a6va95lUcnkFtMp49kOmNJXN0aPzYVVT8qzA7tlLULGmRc3CDpVO1TOYOI1FQ0ZZRF0tNT2esdEjRIQh8YMMn+dTwrTxi8XIe0LkU7bMqbYpYSyhK0HaEvANxYbW6JI99Cq0rLuXAes9Qs4vLUtRo7CQaGTxUuo7BOeGeXc2TZ1L7KOsJptx/+9BJxlibw8MoWa7UFxO0sQq7hniTiYdt+/rSIcr0mKHTVAYX2owc9qRqCTZQedELcEEIeQvr/fKCW+qrQQypJCbgylQ4OAkHJyAVx/PDc1knIzzWPBYJgXUHYxfCkkB6+25G148yZi2tI4HFpjLfUOa3KJUk4wOVW/ldeTcv9z/Li+zzUO0Ctpdo1e9Frv+sMz3DsNVKq7cNG/Yb0sIxN2JYGBTmhoVO1ZBqinGQtZTBeU8aLPVFIS2VoHksJjUVQidHrn4I6TXX4V2XpMhPzKPpMllDQiwcLROFYBBTckl+Mb8z/VqqtSY6PILJPY2uJa8Klf0H0cxwcMsIG/c68nrC6GwZ604qsKd5mF9u/haDRZ23mTczbEcoCffI9jrX7P4gER9TrczpOzJCJFzklICjFMPU5CDyay/HUpLmBaUIaa5MjQZaTcFqZNg05gPNRc/AnNKtGVqNhMzB4Jzll6dezLULD+MJcw8B3wEjqLHQasHMHG5yHSCUKeQ1Q70VsAEWh5Q3XvQZPp7+Jbfor/CYxlNYlC4WxSE02obtd/bYZSdjK4WIYUgQ0CjUqSbunzbEfFvSJ1w4xZkYnVsFL4IxAeuVoHYJnncGbFCkd5375Cn2YauTsATXTttKzJLkw0nXoChqYwxZ0wpbDji8Rr6+ZIO4v/kM7n3vJ3nJS7A3PB7rY66ibzZ4SgtzA4aiAqIBxbMwmDIzHjV5g5ZcIBdzQfYjeBaRokW1nRDqKfrH7yX/yEdJfu7nMTfdRHOhTbsBd22tkuABw2LZouvnCdLBAoWRY6qBz4ftYqk51pmu8wAaLU9pS75zkaWoJ7gkSk0YFA8UFjoVYW40RUnZMGfYvKsT10RaJxw5gHvrb6ODw6S/9Cuk1cqxB0dvL/IGEIOoocwKDm4SWgOCCRbwWG1yo3k+3XrBlAS2fkdplJbF6V3IT/8a/sJNHPj/38TCA5tk3Zzt38mZ2J9RDifs2RJYlDlSDKX485YwcX/AVv36HzjNOg8xQAaUiEYl5ZIaY3/wIUb//LMceusv0nrEw3AVIVRi7YYFiko/exFYrMHRiYRaB/LMUKSKIdDoFmzpXMMVs48mDHY5kHoabctAJ5D/0R+Qf/ZvmHvP61h88vVkrTaVjmNu0NIZtHQzz74wx7RvMWWjQ5yGSBaqOmXjfqU5m6GZHqOo0QdRTABVYXHQ0a1agsbWFMYrtgyExFLtuijVI8JcVcg0NsUTBGdATMbYVEFSBlrV6HSJQJEZEi8krl9wq0slDaf9PfUos7Ynjn5m6zxOg8Ou/VNYPOGO27EjY5jhYTQomgX8t76F+/rXsXd8B33qE5dvVgUTAkWlZN/mjJmR2Eku+n6CpQd5SKwWL0xO0ttQRhYTqoVCxRBKj+u2kMJHyQhjqLUdAy1PtwGFdnkOz+WhyUOYtBvINSeg2PNsuzjTQcfSJqQwPZKyZ31ChwJLwGoEAB2xBsSKEtRT71hGbj/A4J4WOrk1OhqJoFMHcf98K4yMkbZb0Mx6Mtj9m4nf+4FJy+KgxwaHN8JCnV5dT4lgCORY7aIYxueVzBnoQOWApz3bptVt4fC4TCkT2L2zytBsYH6kZHOyjXeFd2KMZdgM4Th1LcE5a/dTvvx0PynBYDQnvf07uK0bcc0mAIKn+oV/xX7hq9jbdmMecc2ScsTynrESLAoYhG4jlohmAbwEOtUa7WrO1LAjSFyP40c8HWegCWnZYrEqdGoJ6qCoQFkRikywqvwCP8tz7XO4QLbT1Q4ikAZIc09IhKn1QrMFlQ4gijeKt0KRGYrMUKbK7CjMDcWy5UpHacyVuNTSqcPYTKAw0B5ISLtCZR7KTGnXI73c+MDcUGQgHl6fMTQH9ZZnfsRQaVuGZ0tsUBYHUuqtQNarkxP60Fqk/oQefdr4PtFZ6dagMwhTFvJ0dYr6GnLMYiMlE06+QJwakjTFff4f4ZbXUT72WipveG2kynULkmc/C926E3nIVZhusXTNoMqBCWF+LGFxMAoXxuoLiAmqyAcXAk1NKdWQS87QLIwejnBZKErSF74Y++hHkWzZjnbadLPAYlOwwQMJHk8jrXE5l1NQ4PEk5x040bP76aYSjQsy6Teo7h3wIuCxGA0MLRg23tah8ktvRb/1DcK73o697EeQvMDuuBT7396KVCrIyDBSul6f6RhBGYXSeGaHPHnNYntbRoYSVEnUk1LBKuQUtC14ibplGnLYdiG13/s93ETCSDnAQsXhxNAagsWhWGRoUS62FxJQSi3pd3853+z+Llc4FWwlqoitMPzeTzH2q7/L1C8+n6k3vBJDgWKYe/0rmXnWkwhP/H/snXmcZWV557/P+55z7r11b+2979LQgCggIpusbogSEreouKImJpNRZ4xZJsY9JpqMkkRNojKKBjUMQuIyLtEkLhEUwRVZG5qG3qtrv8vZ3veZP865VdVNddN0VzcNM099qvvWufee9z3vec77Ptv7+52H05iA2bz4nucVLMFMRV/B4+Kp+ghLD6pCJ0gJyhllbBGoWML3vZHKG3+d+EnHobSJ6wYjFkUISg9owA6xmCUkmhZI3lIkyDs9lk3rFI9ncMJQbxrC3OGtkFpDbwum68JUv6XRKkCPFo8pAyMZFefZtqQgPWs1QpwoUeIZnPak1jLWbxmazOlpw+hwSNjJCawnyjMwASrFnra8lrO9B6oZtBpQu99hXDGXJZWg2JDrHZ1GAOKpNlPGF1dwkcE4pdmAiQHD1HhAUpl/x8SCLB7dFT+NlCDatxKK98TVgnSnWWnSwGGywp0S52HZKuyLj0GTdlGySbFhcMdyy84VFm91fkA5KehJR9nJF/J/ZYM5lnPkAlbtyqhOJ0XFg3eYSoSccioxMa0+y/hgyESvw2o+s7I6dXTowMwa/DiVIzT7FS5vdwEWUCUXMN7SPwnDu5Va21LJAlpRikaePi1YKL161IZUnvUM8A7txDgE64tQojeeTkXYtURIKp5wL+iPwsGv8m33bXb6nVwcXUYvQ9TThCKgoYhmcPwGBlIIN+d0jjdkkcOV37Zl0Dcm2U9a8/EhRzqft7/mPFJyuhg6pomR2bSy+Iz4xPXoiU8EYsS7GY9j/vszN+ysBBqwRR/kW+7fOEvO4nhOKRlfYhwe9Q4/PEwyvBxDTKSQmC7qb7nTRyEvf7rX4QClyxEjWAwT/Z5WvQBsjRxEHaXtAwYnEoJMmByyLBtR1tyX4y1sWxkiCMPjoASohWrscCYnqXmwwuSAwTjwuUetwWDxIrTqHpvD4BgkUdHn3kSpT6XEPcLksMFZz3gfpIEQ+YLe14simcVVC4rw7kiHOOzM8D30bi0IGZTx0GoId50AjVpQJoIeKl4hMvCdV8HfX2h5uV3K62sBsabUp5RGO4NWWihKSdiya7mwfRWI+CJ8NF9/FepU+bb7BR/iw5xuz+S5v1pN5aYx0ietJ6xU8XimG57xRQlpwxLbvNiQSFGsuUdd2ow8/uzLbr5Dyh84fLFukVkWPS+QU6CiVhJh6daMgXEIy5jq7r6EN388Z7LVx1Xaz4pYS34Xj2m1yIyWQUro1AyduqFd80z2WuIeTyBheX2zEhAw5Vt8VD/ORrmHY9K1XHrzMNVmHV20CuOygikwi8GFBFmBohxQLfaBiDxE3R5/GlHI3rpw2HSCWYOiaGf+zzmBwAd86lUdvnxuD69euZTnqpCIFrBGZEBWzGtmVpcftn2FKlW+5r/FR/kIv2628Jf3NujdPsLuM07BRAYjipCjmhH6CpkWUCZausx7t+QpLHMVR2PaU+2ETPdCmOb0TxWGTacWYJ2n1lSSimfnksIrryWOetMy2WdIeqBdg2pSoIIHLkezYrxcYPDGsnxXzkR/SFxTolwZW2yxuccqZKHQ7IFqpkWxAMI0gEJcUdKw8K66plw889qiQVCE/ym/QAHlZMmLkufDRgal4ALIao64UvCUz/8xwfqITX4HPz0h5lid5tmipChDYwG995bJcy3igzsXCztWWESKi1RKEERsERMH0ILHI0d5kp7I8+X5PDU/hcF3f4Lkhq9g3vku5MUvJtWErWssWY/hbn87f5N+hKfpU3lFeAURxb6DQ4Vn2NPqPcrlSJjQpdVe7Iww1OOcReOO+rjSmDYggrMQeEOsbX65fIqRapuJ2ydZkS9DunWKCqOLYLoRYMUxWVfyULBSQEMElJ6IdB+LMqaLUJcav6GXckdlMyd+e5ze5/533Lln0Pz7K4nS7oNn8ZLx54uv4vvBnbzNv4218gQyHmdYRQ8jj0bYal9iys2E99md/PzElE1uN9D1YmcDU3vVThTHSs4Q07WYpThXMU1aclGeKqfxbHMJF8ansfR3P4j53o10vv4x4osuwFCAtEZE/ND9J1e5T/Pc4Lm8MHjhQ5C1i24a+ieUIAPjLH0TBSBs/7QnjyxZ1RIJRLElqYNJPZONiL5Winhl6wotkJutUMmgUwfjPMYXC4KhSFxngSeJikiNiww+8GAzcmNQX+aTA2iHRV5oz35aAi3HbY8Ve1+vywV+P7g6C0MGRXGjrDddZ3NeMQodaXOJeQark2HW2WMwtoglTvTB7mHPku1Kq9cUvAf9ZWmsKlYL9vAOCaZkKlQEq0JOyif9Z9nMA/xu+Hucu30DwZIPkR63nuqSxeDBWYevGGoEbNVt/JAbsd7zCn0lQlQkjRbg4SnqLuZk7Y42KSJHM0RIwGEjg0IgN0LNCYu2QO9kkbQz3uCtgClyFt5krMoWc/X9b6dtYo5LjsFLUuzh8UoSGUYWQ6cmlLRMBJoSqKXi66RkxKQEZtZuCjXk5/4WPuuv5dnyHK7gvxAuvpX2qetIT13NrmMiBluelZsckhna1SZfH/4Bt3A7l/vXsy44FvRhdrE/kjEpf/zD7BJ5tEJjKiXj5uEmg6LL9VPul9pHOwZwps3ruJzz0qfyBLuBjBS/N4vfHg2AqqPqGyiGROIiQVxSA6CWlra5Sj9BwhR/av8Hi8MBOsf/lGBiA75/AI/HaNG7gIA79W5+ZG5mja7lxVqE0+beQ5WC1GtoLKd/vCi2yEKox5ZqbMgd9LSVzDqmGwYbBDix1Nuedi0kqTEzQUeAD6UEc53N3XgFFwJazI2mNHRFmSlH1jKuV5hM3ezPHkNTnk8P2EhQkaLIqUsIxZ6VlAsStprdJWzKR2QfC4gUdmi/9nFhcAGZ5DgyLIILHDuXG4LcM7I4YHKgS71TDN6DbjOTTHCsPZ4Qh0oIZYupT/i6+wZ3cifnch5P13UEV7yO4PLLkZ5eiFOkXiTMElLO0jN5n/0LVrGCqgR4XAl6eKieh2KxhFpYxJkUMM5HEx3lkQxbKcLgmGfdAxlmR44PpHCM7RzVnhOrPr31ZFCPs1lZ8m3w5Oxc6kirESFdGmDBUWXKT3Gv/zkrZS1DZhEqJeWsCpaQX/k7+Jb/JlVb5Xn+2Uyfsp7mf16NCy25zRkNPf0NR73pmFjex3+Nfp8dOsYJ5kQSkpLe+tDHxqEEGmIRhAwns16uwNypaOYKj7QcubBV9w7uP2xViDJshlnJhcTExQ7v/W24U/De8it/G6KOtcGJxZiXBqjBMKVTfM19iXGZ4KX5ixiOBtj54bdiUyGtV7DEM6GplJRLgufRlw/zRHNSWZX00DskTglSj82KHFnklcx5rBdsUlQyhamh3hFwnk7Vs3MF5LUQKxaLJ9d8Bnj1IRH07t/SvfpZ46z7pjD3O3v+tcfh+d+ZV4Ty/uyLw3xhaGgBitWpG0ran2TiyKWI6xUfL6yQtCrctyHCqBKqRzEEWFra4p36Tu7We/m4/B1PtqeSawdBcSr0mAZvsW/hftnEUziV7UNtVo856kED9Sml3YGiODx1W+XF/AYJOZnGFNE+wVMk6XkY63BfYrGMapPP51+gV0N+M3w5Nap4jiJGsa7nweH3PEKnLNvuMC1LXqz1hVW3j+a8jXFiMb54IMHSrIdM9ncXE5mZXqv0cG3+Bf4nf8lr9AreGr2VVBVbhjcdCReFzyZzyqlyMpo7ejoKQU+BvupTwLJzqUWWK81e4XR9GlYCOhrjvMMSlGPkSxKzIs3uu8aSdhEO9jMWCIFGfMt/l5vcf/Jy8yJOtCeSSQL4mWCpJMVGr7TqHxXomyNGQwszz+LDtyPk4mhJglED6tmzJGJPqVLhXn8Pb9G3UNU6f+8/ykq7glSL8KPiWGaW8QfyBzR1nCVmJTEZhD3koUGISx0rJCdnsVnEb0YvIaVNQoL1FYodGfnMHO0DYetqS1zLGZwQgtQQek9ulKA8nzdCp2ZJg5zA52hYY2N1N9dkn+N4XcMLg8vKPh490QrthoGPiOcxs3Lu/5wzQR3pwn5IOWmXgydQMm+gqlgCVrKcaW3RQ7WYQOaERlDhfHM+55hzSTUhCXPadaU+loGY0tKetXpUoEO7UEa1ZBrj1BPaHpwowUGOSUTEjmwbn3KfoNf08kz/LNbYY1A5evCQjqTngVBs8pKgCFGVx/bXmsXhAW8c21YbJgbCIr8xR2kBwtyxRJayQtcxxABWQcoGDJZMHEt1KVcEr8G2HcsfzGhMgkoGojgJsF4ZXSw8sBaMCCkZSIrRHNEKHT9FRRpkAUWwQgTRgEqmZIHHiWJ0/+NnMATe8C33L3xL/o3j9QmcypOIJcX7EOlUWLrTkIgw3TBorVmOz5FdQqRrwR4lCfPZzxc8Lwfik3n1NOhnta5DqBCJ4MqoQnFxhWHxfP9svCgppVGCA3KKXOqe58zxOJoURGIRuSbgHaGp4cTNlIZP9QrTjYDRlrBkh9I3mdHpMUz3BwyOFJVVY4uE3YsL/7OHCg/kd3Cdv5r1ciyXuUuo2oj8KMLCmvFf9uV5PBqdmklsIaDdMjszZzqb81kpHqM383uY0DIoS3F0gRLLVV0yYp/QNx4y0HEMTEIUm3J3ehdR05SK4GaWKkEISbky/xi38EveLn9YeDU8PHbSfJKSst6u5o/l94k0YLFZimcfvMf/L8nDLBh7SFkwsWOZZecSjyUrrM45Z3AoHdPhbH8mp5kT6TXDJCbFlJCVjskCv78AACAASURBVMLDcRqTa4iNlJ3LlMxC/6SWnm2Rb2k0HUFmcFExsXgsoWlwU/59/ooP8/z8Yt468TpyPB6l0fL0T+U0GzDWL0z3W/Shc86M+PLnpcHLeYI7hjM4h9Z0hZ5kEDNZxXlDyygVOlRpkzgF+yhNIEcpaNeBBPIUJZacXhq8V95B3QxQkwquuygooIIRpUMHxSCmYAHshr/nb7srFbKsxXv9nzMq23m3vJfVrCIjR4GojKI0G0Ky1lBNhSwQkkCY7o/wvtjgF4iSiifWDqfISbzZvIU1spLARORHz7pxQHKYwlbdf+aMhswmbYq1vkyZSbGtZ6ZMbLbMGFMuKP/gP8EP9Pu8Xd7FYrMSR47XohQzoEKmLQZ3J6zZbJEgIDMG43K0RMH0AoETeqeFuGLpVJTMKoGEGJS7ZSO3yy+YcJOExpIzu8DNis54OTN/7yUOR9VUebV5NV49sSR43NGVNz+CYauZ+NSM2/vw7Qhgyl3ihrAojJDSTChrGiIq3Kg389f+L3m2vYDfkv+CE4dqMQnUtYbTnDYxFosLYLIfpvstT7g7Z3DcF5trpaARSIMyxi3Q11SWNiHXMe4ZvoeR6eNZtYmiggdFTGHJRm2hPu7ZdDy06zpDMtW9hoJwqxjhzCackZ3Fr42cxUiyiCSPGGrvwmQd8iBgasjBRI0l08p40GFykPn3Mx1G6ZI0HV1hq0dwbgyxpvxP/362sZP3mXcxaNYQk+BVqWpApJZY0pLquMi/GQpIo64hui8JVRhjkl/5OxizO2hpE6u29FZnexGguBCaYaFTBk+r3jV1i1qxorpP6QuG+B3/W4UXJOkBhfyPpDxs2GohG+vWWs3UU8jcVKCQlQ06hMAJjVaO85ZaDC7yjA5ZQigm/PJ7jpxNupl7uI8xP441Bq8QApv8Jm51P+FpciaVgbXs2rmF/r/8NK6nn+iK12JqFXAOZ6GSKasfKPYOxFXP7iFoDygaVPjv5vfZoTt4CqfRMc19ZigMtrBudc4aspc48XSIiz+6q+X/lwMSFQEP0w1Dp9EFo3RFRVbpV1ggwDLmRrmLu1nHGnJyrFoUR6wx33TfpqENzrFPx1ihcsOX6L3h+0z+wRWMr3kSg+MtoPBMAwd9bUHV0zfpWbTbIc7zUjmHlc2/4aT2MYjp1teUlMdSANOFTqlP5bTqRQVYdxYpfFuHV0HEgwb4aYE4ZtH0JEkjYXowINU6fWmThsZMDQRURyKC3QEMTM8sPI9p+OYjKEUNkmMjm9nCFsaYYLWuLXJOCL/yd3Kvv5Oz9CKWm+WYLbcx+O6riU85lqnfe1nBJjhPJVf3EU4lZyBcwp+Z95D4hNVmDUk3QjFTqKllX+YWExfHzcyr0o/SYq6IpThHN+971E0X++nQgi0eopBLOUjlymTLlm3qqbY9XgMGJiHIlcAL9WmHVbAqZEZRD7sXCYEWlpyKxxLwJvNmXuxfwmnmVDJiPJ6qr/LF7H9zjf88v2P/G8+uPIMvuffwnn++lWU9K/Ev/DVM7xrUuQLKX6CSFRN/JYHeKZgaVCYHPaeGG6hwPLHGODJq3UQ+e1cwGOJaYVns05XWOUmvo04T5sgR6NsjbcLkBbT+1jUBrd7ZMwjMTN5WlVRiLgrO5yPuI6w2a7BicTgqVLnN3cXbsz9liV3M1XI1X+IrnP3Fq/jNL7RJzj+N3ac8meqKgGW7CgMnig1r7lNsDtXcgBF8EDCUD3LZxLNAMpzM4Q4pTWcjxUasalKA5QQ4tMzbiSpqHJJagukefMVRT3J8q4cxO0C9ugPxEYPtNh3TYMIsQhttXBYy4NoE5DhsuVflyCnR0QRP8kjFk9Nrevjj4F10dIzjOYGUFEWxzvBx90m+w7/xARcxHKzn1l+9h/f/r9upPvWJtH7rpeTVAvZob+luuPZSBLtPDZ6CRUi0s8/yft3r/z1fz0mJ674+c7SIst99HgvVSFmTQr3jkcxgPQyMF7vPq7Gh2gJMCWBYhhdUItR4nIEwt6zb7IlSz85lpgxnCTk5TzDrONYcWywc6vAKCZ6n2KeySe7nTHMy2/02vnD8rSz95PG8f+SNmKFlkGZzelgacYVxS6CGoW0terck6NBiBIc4A7nOa+yJCviMHcuEnauDoi7+6Lvbc5zvh8HkOgIG7SNqQgHJGV0qNHuLHRE9LY91ppxkcvJISCpFNVyNgGfY8ymKvXMEIfeOpbKES+xzWGKGiHzAd/V7fOetMWvPew2Ln/dsICGtGMTnMx2sJpTJ/eJ/PzaG9tWhpoXLnspDgeFK77OnmVNJLL7SDccKBkelE6DtOpVYyKdqRGRMD1ha1mEkZHA8I/BK3JNCKJjUU6+NkgSKaVeI6xnRAt2kvQOt+1qSjgw8yWzLC9mcAnjHKbIBK5aETlHLpoAYnm7PwPuYY+0J/Dj7KVefeTvHffwpvGDdm9Cogmo+b39yKb4fTbbIRWj19RLgMSJHVYjpYGXuNT/0aroPxfyyQHweUOkIT9gEi7wvKBmBoBv/EUGliPOp1b0ITgpVdkGBU79yi8cbw+5l3ZJZwUlRDSUaAIIVIZeUZ5lncREXEIplyrV4f/RhFl++kvHRJ7Ho3hhxbobca48hsQF5GpN86IOYO++EM8+HrEXwyldgV6zE5PNnDo1X6m2DzSEPH62K/P2JL+3fapnXSGcq4eaKoCWq5uHtvyIHHNM2quxeBPevCQicY/Fux9IdhsgVVLWqEFegXffsWmpIqxBLXFAblzfYmZTFDPFe+94CykYdf5T/Pg+evhs9/VyaVIE2GhQMkWFewF6WdNX4SoXsy1/G/90nkNPPIJeA4KxTsc+9hCDPHnItKlBNLD2dgNFKRi331JOAylTE0HZDWu2we5HQkj7CRKkkDulVJnsCgo4lNDE9bpKhScN0upjJ4SpkhsbENHEduvp/qOJUMUQEEpKT4jRnvqKeufHswyWiswvxQnoeUORUchJS0bLIojjmJOcl8lJepC8mImJA+2j0VVn926cwznrQ1ry1bcWjExKMT7DkZW8jSKB9zol4L4z98avQgWFEj55KykcqRagsQsSSa4KIL8uQZz5R/HbLVfeSBWISLEhYBkc9Yd0gJbaVmyH7nvvQzfIK73WWElIgZNEuSKqerOIxvvAEkjDABbOomQEhoFgJSDWjJhG/zrPIPDzY38YOO4Z3m9kct+zZFs7jRydh2yhcdx15Zxo542yCJ6xFXTpP/0AtNJqeqKOkoZlX4R5tCXyVaZ3GaoeGDJPa/CGVJEoXp+fwWk7CgU9GKkKYwZoHHb0tR2O6y9g4u52uMV2AuDkjePFlnmM2ES9l1s0iOPE49TzVPokzXUDLpCgxoOwcCqm1PMu3+AL2Xcs4tQhZaxomJrE/uBEZ2U4+NU7wnOcyXwRJBcTDsq05jSlLlDoC06bj+tgti+j3O2i4GPUx3oKpTrAsSRlpLSec7BBXQsaHq/QH2zHtMUKtUs9ahLlnLA/xgVuAxHlZDO8du2Qbg7oYMV3Kor2MCjnwxf6geyPMcPQs9DLVDQh1998Uxwq9KEKNlkRjFskAL+JScg+pNPdpBHZHwqYeGR3DbtvN4C23ghimf/OZJKct47FKS+zwVH3INCPkEtGvfTjr2BMvWqDrYc2jFguX8xCdidE+EoPWi4EoxGQZknt8APUE1t+X44wpFEFztq5RxhbZAlxRi+OOHEsFKSH32mXFggbwwGoLqaeWQ5g5jCv4OwRQlyPVOj3veDu0m8Rbt2PuuIvo5FPwidtnwKeEj6HRhk6fLylMtYQ/eFSqnvcQS0TTTfPn7i8YZZT3hO9mtS4jlSO7SXF/FqwiBZWvagFR0j0u0D8JA+MeFQtRWBRcZK64GwLYgs0tj4TAswc9sdGiOstpCkRlpYgnFSWVZDZ7IoZqBnkWMdHbobdTJNoVj3Riapf+Bv600zAqdP7te1RPPqWY7Nz8OqEW6h3om/JkFeH+VT1IKgRmkq31BqtbGZLGTGg/DBqqWUpfMIofzsjiRcQ7FyHrEtKhlEWjOXmYszscRrJRNFgY27yqETfoV7kq/SRvCN7Ai8xlxI/apHeQi5Mq3hgcEQFFxZQeQAl4oLbY/KsGIwE5ihMp8HPl4fHsRFPSpUPsvv5vUc2o3Hw7fuco6YnHYjU7CvMUByZVDXmQHbwnfzcD9PP24E9p0At768VhT5iXJboqpgCoO9DvSUEcn9+3GYYXo/UQm3u8KSYDm5ePvLMYdXiEChUe0Af4uLuKKUY4m/N5hbwMF7hywlAshjyCB48pMJSWb4dl2z2um8gv8xcsW4qR5fSsPw530UWQxIjbz0RrBOs9y7aGTGsvrXqKqaVo2N3LMauKUoKQdSe4BYLO2q8YDAkJG81d7GacSZqsJoD56sdmDfYFl+7CoXRLMQsLRlCMFn3xEiL4mb04KHhjZjBp/O7tqA9gyTDGuaJoW6B3ytM3aZkasOVucoWS5eH67AvcyE0M6SBvtG9kjVlFZpLCmpopNRT6mo5cazy4yrF2R0bfRIDaAuLdVCPMcU9EVKk98cngsoIzfe85pvzblvSheWBICHGtKllSpWFSolbEztY6kv4mUewY8QNUKiGLp5u0K0JkOqw241S2KCNmKRONDvW0Rl1zOt6QMstaeLC3qhx1duhWHrCb2MZ2vNoZnKm5cmRC+HPuBQe+NKoE2HabcNf95CtWkkQhlW6H5wxSSfUCQKQRP/Y/5IvuOmLJeI48h0vNZSQmRUVLfLx5Lrqrk1B+JqOzdjUOobPuOIpR7cBjOGRlJKBJh43cw6DpIyahj/7SkOrKkUiYl7hQM2H0A1RCqUSk136R9KMfJrj8CqI3vgFcUeaqWsAyC0JQCVGrRBoQqeEedzdflS+BgdvdRs73Z3O8PplpnUTVoaaoe3GVAga8XRHEF9E8CQLUOfCgWTbT1wPZ2KnqEFGmtEH84OqiPLAvZrixCe2NiUNLq0cxCF4UO4Pu2k36Ht6nMydlOBjm/fpe2mQcI6tI97VJ8SGhvIUXpfBIIQHvERfQiQLiaoCJDTXbIcwLlIGZ+sUwwm95gPhtb0Wq/YQf+AB+yXABKWKEakcZ2u2ZHIjIgJovwDFHaPMvfIm7ze3gYb1fy3/V36GNJ6GDEOCNp97xhLHDYGhsGWRbX06eGgbyccQr5B6yuNDjLJmptnnI8HlKYyXDoHgJqDlP73SDphjSPk+llaOmg3QCOvEQA+k4VUmopY7GlOX+lTGJQuBjtJaRVywqMcZn+GaIjXwJiHfw+82LJH7MS+0LOJmTOIYN5KToPPmUI5Ywf4RhqyJ0GTDwN1+g58rP0v7bd7D7ZZfgiAtbw5fZIWNJCajgCbxgEX7mf8bX5FtgYYfbydl6Divz1UzbiT0wxuaKeI8agyfES06gHiUlLHO1XVV9LFdRJ5pyrKzmb8K/JlBhMUN4TfdSgiOQMEe1rD7SA7ewRQqYXZcjqUPSFsUd0YKEngINEzXkD9yPa/SxcWCaZa6P082p/AV/wb/4G/gRP+bd8mec6c7kEnkOq8zK0s4uSikjLO3ejPEBGJxSst0jyEA/Ym3h+pZPZVed94ctY/DkGrFLhshNSOAMdiJg0XSFvm0t2hWl2Sg2IE0NBvhAiCPBBV1fTDDMJtoX2htRwEnOSebJhRei8bworkcqYS4C6i0aWKw6xoc9u2t1UqnR18yotBXx0mXDnP2eAh1FpY3MkO10n1whrwrR6HaCqYwdqwMSzVnjV/GHwX/jRv9j/lE+w2f8Z9jKTs5153C+PbcMUSiSG3LtJcgC+to5k70wmTQxccpAI0RdUbBBGf2da8l2izuk/DUeYqngxVAhRyRncWeCflNhLAwx3tEmIuyZxoQxA9ok6ihjfVUkDqlLm7FoOb0TY6zIdzE6uZJWPWCx2UXL9JBLhqorWBhlf5q5f3EW+lnEBawgJSUnm/feH60Jc0PhO2viqcQ5bd9mlimmsI4NFklj+jbtYnp5H/fVx1ntl3KJeSH9DHOtv5bbuYN3+ndyBmdxqfs1+mwDX0IHWSwBttgxLopJcpgcheEB6KI1zw2TzfFOHpMixb1+qpyGAjHJPDpRhCf0cCbMu9SiMyTrBzKmqmgnIbzsUuT0U7CLFiNp2s2oFR2u9uK/8x+Ef/hebnlTL6//wCQXu3N4n7yPl3E5w24Jmcv5VXgHP9Yf05ABXiMvJSdFEDLJ2e62MlQbhJUDJF+8gfhjf0d4+asJX/sKJM1nEl4F2N0sD0TZyT26bLxngkE6OogRwVmllyY1zUBCaqlQHykuYfFoEZOf7hXSUGk1DHGPkgWCD8tFSrrIXrPe4UKoY6L7h1c5Uglz45WkanlweBmVPKBDTj32DMQdGmlKlM+jr2kGy5cTfuyjgGKHFyFpjpacLkndMNWTsuyKvyC98zZ++xsV7nmC4ePZh3gWz+RkezIT6Sg3mhv53/IF7tVNnMmZRAUxLS4I2dyYoOEdT6vVaLU62Lf9AcZntP/8bwh6e7EupqsDTorQRZG8LzYs5oRkRmj5Pkb9UmrSYrXZjCh0TJ0JU6eZVRhMWpgexTtL32REW4YhmqLd68l0kMZUSLXWoh2GhKGBlkUyiKdXUctiwuokrV6hANE4hEldi8227Znw5fznOloT5qqKIWP3W1/G9MufQb5uCeI7GCwqBQe3p4eBz/wLa/7oY3zsPYO8/U27+S19DW8xb2S9vJp6VucL7vN8397Id/k+x3AsF3EuLdpFEEpjxnWC5XaIKjV6PvoFan/9aSY/9IdM/ualiMal0dA1MB2I6UZcj7q6ywORwkaL9/OJMtx8uBPmZVOPTLwiUUhw/AmQ5kieFQ6J9xgpMIGcsVCxGBNQJaROLyGWKZnitOgp/IP/CN/TG7lRf8wZnESuRf1+RIUb8uv5pL2SX9/yNn7j9j/k9HFL7+gO3O7tRYhCTBG3VIqwSlBBeyqYJEOTpEuSXlybenKpsIthMhECPOotVToEpokvP+xMmdv1xWgPjjtEwe0u0Fin60JcV9IQpvsENY7cGvKg2L1uHsPGTFe6FqzHMNWwtAJPs1plYNRQI6Vhd2M9qJkvkKeIh2D1imJtS5MyTG4Aw2RPRBy16A8DNBSUCnWtUTE1UvFUiPijytvY5bbxOfdFjpfjqaqQoUQibJMHeXv4Jwz2VXnTj6/iCc2IdQ9ux2vIWFxlsD8kyMuwlXdgInytXuRqOh2mtcYIS5mSXpxYnAmItA0q7GIJO80KOlQh8cRBgz5GCCRle+8QuJAw7SPvtKhFE0Q0kWpInA3inGCiNhXriYcd/XFK3CnQfnO0KD1+XMjBKbjBY/p6yfuGURKMzgAc4cpp3VgDoUGtJaJCD30YAlq+zbOCi7nQXMCX9ats8ptYa1eRSFKw5fmQv3Of5Mvmet7wwHs4O7uEk8d3U9k5TjjWpKzXAorwmOIxUgEq5NLB+Pywe2yPmixkwnwmGTrXQpmLafVIdEOK70qnADoUA95DSkggDhNPYZ/2VLLPforTn1jn00yy3Wzlev0/nMNZ9DNASC/PNc/n2fYScpQObUKJQIUO0zRdzFVvX87nrgv5h/ddweXXrsQPLoc8R7wvUAnwuDBE7t1M+v1/JzjzLMyJJ2Bcl5W4CDdN0Me01rGqc/3XORddHJ87BN2wh2jBBjY46WG8mDiTaoEZE/coca9nss/S6emS0RxmOUwJ87kPUR4ozU4/QxOCbTapSUZdM5yftT73JSZJZrtZlsTmooxpldxFjPzDnyDNmA+srDLixvgJP2dSY55ojifQiLWygT+J/gRRR0yRewhag7R3rKS5OuZX/7aSH1y+khc9I+DKKz9FnFfprFvKYGsE1CLi8YGFJMV/9Z/p1AYZecarmDADeBeWXqNicLSlyv2ymjFdhPoAa3xx37MKk+lSalqnZlvk/TGLdwbsHFuCWxHTMTXCyZDlbGPHQEB9PCCvGUh7yZwhmvaEi5rkJprjmR4+zVhop6Pryezp0RxkwhwololOmcQ2M0eNNyBtWq++mHsuPI2LFvdxgm9xr9zHv7ivcB7nERpLJBEvNy8BY8lwJGSE2IITKJhkfKrDB16zluX3Ledj1/wOJ730IprHbEDKEm8ospe5hFRuvo3KTbfQetEzyFasQXjsVl7tWw5Twnw+F/egBs8LSLGvYlyHGWeADnX6tUmvn6ARjBOtXoIdDFmidd7B/+AX3MZH3Id4VngJLWmRS1qCKDoCAjJSnMCLg+dzVuscPqfncFPvBFODw+w65TKWTG5G8hgvhsTVCE2LMKwQf/2rZFddhbx8B/aUd0DHoQpWUzr0spUVRUXZnvUIe4ru48+y1NSX2TbjlWpSJNN7EpCRHLPS01xrS2zYx5YrPJ/lJepphG36Oy0qSQsfgNPi6h4u37PHeyq4AOKaQj2mt53h+xpMLOpjhfbx3fxG3mn+lEv9pfw570NQUtsqizgK1CMFWjsGWTVyAh/iq/xwN3yqUcHWHc31ZxMxjafDJL30mFFUA2xoye+5nc6f/RlZ/wqmnvxyslUhYeJnchCC0pE6LXoxQtlWOcUbRTWk3RqiZur4pMN0llOpjBGGEwxPCulUP5PhIpJV40jYoXe8wlh/k1ZgiHYP0TORMDWUQZfV7XDuLjoMCregFvk8C2hRa1cw9eRBhD9mLTUCBtKcv7R/xriMcbV+nifK8SWIYV7mOQpvzuNJTMYV8kYuspfx6YFT2No3il8REq8/tUDhnoN55cXg8Sz64CfoueG7bA8i0t97HUp2WIyxR10WyvMQEZxzbNy4kaGhIRYvXtx9o9iEKKWyzLUy2Pt1Garo5roKjlh22yG26koSqligLXUmq/30ZgPUdYJmdRornnM5l3qyhJX11aSkSB7iVTHq8VkPvlPDRjkucNSCgKclT2b17w4x8pIOS1Zato72EdDLIlqM08+IrqDmOwzbmN6LziMY2YK/4BxsnkM5jbe1h626ko5plPB8MpNM7V6M7HWND73u8nNaqPvcaif1grcQpY4oNyRBgeG0Z+5l/rHcVzv7e1/Ke7kQk0V3cti5cyeTk5Mce+yxmDLBGHjLkukJqn4ab7pGTBkLNMyB/JjbX/Z43Z0cMlHGqxF9XgnVMT5aoUoB77HGLue0+FyeXD0NJ5ZMcqwL8FkDDXKCRJDJKjrdwAfK+tYGjjkTzryqzbIhZUIcQaeHrN1LRadp2XaxMTUfwK29CHvFHzAVVfCDfQS5oqbsn0KXdc6WIRQ1zEnkCMYUk11Hq/ikigYthqIpJiNLOhRSiSukeR9BOkZfDDYP8FGHuF5hcCzGjQc0+xw5FazNClrVkopX9rDi93fPH/7YDB3CAs31IkK73Wbz5s2sWLGC/v7+mdYfyqF9MHrNzGsxSlhM3xhynEIYhpyTPYMxaTEUDJPjSqDW2c293RJuj2eIPp7QO8Tx/7ibqcmcpSuVVLM5i1/RtlGlRwT32xczNVwnPeckCs5zmUPje2j34mDGYP/fP1DZ+zylVhxqwrzraXz+85+nv7+fTZs2ceGFF3LKKaeU5zUYEyDSRRidrzOzFy14RBzOBGxhHbtlCG8g0pzQC5k3bNse0RhcQqUyjBubIPCO5Mr30/6pYN+h2BMcSVxF1eHyCJdEiDN4A9Z42knOT39lWLtKOe7YkGZicCLs1GW06WeUXpKgQmL7uemWlB9890W84g3P4akbxmE6JbdVRs1SdmWDxBJh5tRtdkNRIaDGFq7zjCv9CCd1C0YM/W3YnQlZAFYM+ogU5MDeFwRrXInaujAzxa233srNN9/M8uXL+fGPf8wrXvGKmSbFCBhBTLBXn2SOS7zvxaOIZucgAWp72XlvnU4Nent7cPcF2Cfsxv78Qjpv/XX8K9tU3rQdn9YwD6xEkxpE4DoB5EFx7ZHj9o2QdAwnn1wl84Y0Lzak5sYwSoVxGcAEhqlpuPZaZeUJH+C5zzXYpNwraG0Rqt2flzn3WFC8MirE1NjhV9Lz4DC2Ps6ANmkGIe1t62gPjdDqD6hMV6mlEWqVSbOEofERXLtKNVSavY6kRgkpXjzYAbNMmYcyOYm17JHoO0gREZIk4aqrrmLDhg187Wtf41WvehVLliwpxkRMiQOg5Vgd7MRZeARpZtk9KgwuUawRkBw6w2RvvpJsxBJ8fDt2acHVMtfIk1IHLcr0tOXWX0Ycf2qHtSuFmKB83mG2XlsJgO98vY+f/vTVvPyvXsii/g4FXngxbqZLPPU4WDwEAzbYZ1HmI2IS3LRpE1/72te45ppr+OxnP8s///M/c8opp6BAO27TbDdBg4et2FAAVaZkkFG/lBFTxdLGAEYdeY/y1S8nXHVVxgteFPHaV9fxk71MxRn/+dWEu+7x3P3cgJWNHpKOBcLyBhcscaJQqXu+/hXH+97b4XnPh/e8o06aWTxKrIbd0kDUE5gWaWj4zOeafPPrGa084q1vWoZNm4w34Y6tWzn+2D4M7RnekuJfwagidhOxTiPa7cNBioLGSrDTkiwTEg/dNN2+VOVglhYxhjxLSTstuunqQw0tXHfddZx++ulcfPHFvOENb+CZz3wmy5YtI0kS2nGLtN0i67Qf+VKlRZlgriE7gqX84vY67/1jR6ViePe7coYHQJIp7viZ546bG6xan/CS382IpyrkOyzGaTGGkoNkhJGyc1vGW9/WYWTM87Er6zzppIhkTnGaluZ3reb56U9iPva3TVauDjn5pCrDA4K6gG07tlDv6aWvdwDvdX+jveexEtTNNw2pGipxsZ93YmCUvOGwmRKmCdVWSpr20Wn3YJodeqotxp1lzAakbaVBgqtm5AY6daETmBn0gwPVk72P5TZkujlJX1ZOr4eoEzfddBMbN27kzW9+M7feeitf//rXec1rXoNXT7PdohkX+qBeD0hv53vfGAhwfOrDQ3z1f/Xxpr8a5VmXTpN6Yecuz39+3TG20/HA1jaNgYTYk4ZhZgAADPJJREFUBQ8dA4FaAFd/aICr3lPh9e/J+S9/PELHRTMNdz9rjOJcyCc/oPzie8qqNfAbL50idiFZp8Wu3btYtXo13vv9jvXD3YsDfbYf6fuPtB1jhGZzkiTuzHzyoDjMRYStW7eSZRnWWoaHh/nBD34AQL1Wo3fFCv72K1+hpzo76Ps+WQEt0NIeMu0B8Rh1IEUU0kaWn/88Y2rKcc+dEV/6ksNlAWJyTjsjYO06ZccuzxdvKLg95lPzIFA232950okefMYNXzJ4V2QSfDk6Jf8N1giLeuH8C8DlGZ//YgXnLHk2zdT4JPfesbQc4LkXJoCnR6YJVB+KunoQIkASKe0eKdehhfEM9hA1pGnMuhXrqNSqxaGD7HvXG926dSsXX3wxtVqNNE0ZGRlh2bJlHH/iE/nGDdez8brrcf6R+zmCFtzPWsOZChOTws4tOZUqfPtbUK8K/usZrZbwjItqrOhrc/2Hm7ikimlWQU1Bg1veN2OUTtuzaDCgUXf86Gbl7o3g8oda28YI05OeZ1wk1GqG73zLEVlBjWdqepwo7KFSqaPzcEA87HUpqHi8D5AwwwQxvppTSRXNKlSzhDy0OCwmh4iUJBC8C3HWIrbgwQ4dZKGSVqQsKX7EXdnjendu38mLLnkxcPA6AYVebNy4kTAMARgcHGTjxo0ALF68CBmBGz54PWFQ7oA86IY8oa3ws69U2Xpfkx9eG9K6LyVNi1DW+ec2SDvKbf+nye3fzFEfznuaIBRGbq+xdo1h9LaE669McPncpbjbHoBy7LI6Qxf0sOOWSa7bGuOdwTul2WzS399/2Mudj5SICK3WNGuXriOsFEGqgyaDajQaM19M05R6vV6cxFp+/21vY7rVmuUxP5DOoTMO99y1UATSzHHPXSnHrIOe3greF1Z4pQJBIHQ6it/fc6tKEDjitieMIlTyso353HIlqghhYMgyJU2Ubh7HWkued7kFZY/vFFdgDkX99+pFMbGYw0oHWiyBlWoFY80hK7qIUK/XSdMU7z0iQrVaLEqXPO95XPDMZ5LnGYeKQGxwWCO87nUxVhxPfGKV3BcVCDaAak3IkqKytxjE7nXNuW+qWKu0kwyXWHr7ApzvlifsLYqxUKsWBkrcmQ1TGWNR9eXCcagLvBTuzhyTr1tUMWsVdkevuwl3tk2Ze5mHIIpirKHWUzu0E5XS19eHLx/QNE1nch4DQ4O8+4/eRRKXOPiHKNbm/NZLE+64PeH00+r01CuUVfLU6ooIdFrykBDjXFEUtSkTE57BRg0zsyFz/v5VexQbQNIR8i7rg4AxBu/cglzX0SKKUqlV5uRzZuURLR4bNmxg/fr13Hbbbdx///08/elPn3nPiNDfaCxMj4Ee4GlnlKEoooe8XzsgHVcq1cJDKOThK1XCsPidK5XKgbT12JOFspDOPfdcNm3axM9+9jPWr1/PmjVrZt7rqVQWaACLReD00xtQ8lJX9rqfYaX4fTip1mbPB/taPGbFCPT0HEyfH5uyEHpxzjnncMstt3DvvfcyMjLCC1/4wpn3gigkiOb3Ag5G1tQda9Z1KRweei97eg/kLJ7eOvN+f19SqRW//y/IfDoh3vsD1hQR4cEHH+TOO++kWq1yxhlnEEXRHnGwhXXZuinAg1nJux7N3CT2I5PDd12Priz0dSVJwi233EK73eakk05i5cqVe7y/MGM3ew+Ls3nkYMtWZ/bp7B35PTCZd6/TY1wWWidEhF/+8pds3bqVoaEhzjjjjIfAnyzc+BX3Uef4aAcn3cVnbuT/AHvwONQJmF8vusce0eKx98m6Escx27ZtY82aNQTBwyfMH5kcTNXAwoiq0ul0qFQqWHvoVShHg4gIzWaTBx98kPXr1xNF0YKEruZKd5LYunUrlUqFRYsWPW4eqm4lkXOO2oG5v48J6eYpGo0Gy5YtW7AFZG+ZmppibGyMdevWAUfbZHvwc433nk6nQ61WmylVf6yLiDA6Osro6CgbNmwA9sx52He9613vPpiTdmV0dJRPfepTxHHMzTffzJOe9KTH/EQrIogIP/rRj7jyyis577zzZuL4j2UREaanp7nuuuu45ppruPHGGzn//PNnEpuHeu65r7/5zW9y22238Ytf/IIgCFi+fPkht/Foi4gQxzEf/OAHGRkZ4eSTT360u3TI0r1v3/ve97j22mv5x3/8R4455hhWrlx5yBVXe39/y5YtXH/99UxOTvKTn/yEJz/5yY95WI/uXPGv//qvfPazn+XCCy8kCB59bp9Dla7x97nPfY5Pf/rTbNmyhbPOOmuPhfGglkhVnbEY/v3f/53R0VFe8IIXcPPNN/PDH/5wYXr/KEr32oaGhti1a1eZMH98yOTkJBdccAEf/ehH2bx5M5s3b16Q887ViVarxfXXX89FF13E+vXrueaaa4BDL/98tEVVZ7zQ0dHRR7s7CyZJktDX18f73/9+zjrrLL761a8uyHm7OtHVi3/6p38iSRJe8IIX8I1vfGOmAuuxLHPnitHR0aPMkzo0ieOYV77ylbz//e/nBz/4AdPT03u8f9D+VXciuOeee1i6tChltdY+LhSiK/V6/YiGJrpWzNzfhRRVZeXKlaxfv55ms8nJJ598WDyCbdu2MTExwaJFi1i6dCn33XcfSbJ/pN/HiogIfX19R9S7Ppx6oapEUcRTnvIUgiCgv7+fiy66aOa9hZBuf++99176+/sxxiAiC2a4HA3SaDSo1WpHbPE4EnPF+vXrWbJkCZOTk5x33nk09iqIOmT/qlqtkmXZTIOPh/DOXBGRIxLD7N78ZrOJ9x5jijLaueXRcOgPdPdct912G6997WsPS116pVIpyha9xzlHtVp93MSBu3KkrqcLCTQ5OUm1WiVJEhqNxh6hxkO9f91rufvuu9mwYQMXXnjhPICGhy5RFM148f9/rjh0mZycxBiDc44gCPaY3BfqvnU6HUZGRrjiiiuw1h78Po+50j3JGWecwZe//GW2bt1KFEWcfvrpC9LpR1PmTuQjIyN0Oh0GBwcPe7tjY2Pcd999/OIXv2BiYoIVK1bwspe9jDiOUVVqtdohPdAiQpqmfOYzn0FVCYKAZrPJSSedtKCTxIoVKzjuuOP4+c9/zn333cfZZ5+9IHmVR1u6Yz86Ojoz8R1ODozuuTdu3MiDDz7Ir371K7z3XHrppRx33HFMTU09xLg4mDYAfvSjH/Gtb32Ls88+mxtvvJHTTz+dKHpoifzBSHeuOO+889i4cSObN2+m0WhwwgknLMj5H03pjt/U1BS7du0ijuMFG7f9tblr1y7uv/9+fvSjH5EkCStWrODyyy+n1WoRhuEhF8KICGNjY1x99dUsX76cn/zkJ5xwwgmsWLFi5jMHlTCf28CqVaswxnDXXXdx7rnnPq6SiDt37kRVOe64447I4iEirFixgv/4j//gnHPO4fzzz2fbtm3ceuutbN++nWXLlh3SJCwijI+Pc/PNNzM9Pc3OnTs59dRTGRgYWMCrKMKX69ev54477qBSqXDZZZcdUZf+cEl38d2xYwdLly5lw4YNh9XSFBG89zQaDcbHx3nggQd4/etfT09PDzfddBN33XUXIjILUHoIbdxyyy3s2LGDrVu3Mjw8zIYNGxY0FCIiHHfcccRxzMaNG/m/7Zy/z+lQGMe/JXJjkJJKGjQRRGwMhNliEBN/gsXiXzL4A0wiEQliFgYLU4dGKxLxs0FUeocb0ituXnmr9XLPZzlJh3P69Hz7PD3P6XOy2SwCgcDT+n8Vl2ckiiIsFgvC4TAcjocKS3TDMAwajQby+TySySTG4zFGoxEWiwV8Pp8ubV7KMobDITabDdbrNRKJxF+rRUrV8UZrlzCXVMvt9XfkFfevqup1A7vVaqFUKsFut6NSqYDjOIRCIcRiMfzSUXD3L7ueba825aH9//2dNXHBbJtkWQbP82g2m2BZFrlcDv1+H71eD5lMBj6fT7cTNkMX93zFbd3AO/IKG1RVxWQygSAI6HQ6KJfLOB6PqFarSKVSYFkW0WhUV/B4ZO4fPtvqq0G0gUPbvivGFTTdh6IoiKIInueRSCQgSRKCwSDW6zXS6TSGwyFomkYkEnnqvRg1X7dO1ogxfgJG2kRRFE6nEwaDATiOA03T2O12OBwOcLvdkGUZ7XYbxWLRkPnTts/q896+wKfpwgxfwfM8ZrMZ4vE45vM5GIaBoigIBAKo1Wrw+/1wuVyG+IpvFwkSjEMbrM7nM6xWK7rdLpbLJbbbLbLZ7EcV3BG+RquJyxf7dDpFt9uFqqrgOO66wU34f7j1FRaLBfV6HYqiQJZlFAoFw1LF1+ChJ21FMAdBEOB0OuFwOD4m/UPQx2q1wn6/h8fjIZogAPhzAKUkSfB6vbDZbIbrgqw8fjifer4WQR9EF4RbzNIEWXkQCAQC4dt8VuUWgUAgEEzhN6Ubmr4TLT4JAAAAAElFTkSuQmCC)"
      ],
      "metadata": {
        "id": "CBcQWIk5INgI"
      }
    },
    {
      "cell_type": "code",
      "source": [
        "# 기존의 데이터와 가장 가까운 K개의 데이터를 토대로 새로운 데이터를 예측하는 모델\n",
        "# 따로 학습 절차가 없음\n",
        "# 필요한 Hyper parameter로는 k(묶는 데이터 갯수), Distance가 있음\n",
        "# k가 증가함에 따라서 분류 경계면이 단순해진다는것을 확인할 수 있음\n",
        "# 가장 Fit time이 빠르다는 특징을 가짐\n",
        "\n",
        "model = KNNBasic()\n",
        "cross_validate(model, data, measures=['rmse', 'mae'], cv=5, n_jobs=4, verbose=True)"
      ],
      "metadata": {
        "colab": {
          "base_uri": "https://localhost:8080/"
        },
        "id": "XEzkCpw1IPO7",
        "outputId": "27b6aad0-b14f-407c-e79d-e56d40114927"
      },
      "execution_count": null,
      "outputs": [
        {
          "output_type": "stream",
          "name": "stdout",
          "text": [
            "Evaluating RMSE, MAE of algorithm KNNBasic on 5 split(s).\n",
            "\n",
            "                  Fold 1  Fold 2  Fold 3  Fold 4  Fold 5  Mean    Std     \n",
            "RMSE (testset)    0.9735  0.9747  0.9852  0.9759  0.9797  0.9778  0.0042  \n",
            "MAE (testset)     0.7708  0.7696  0.7783  0.7718  0.7732  0.7727  0.0030  \n",
            "Fit time          0.46    0.58    0.73    0.73    0.54    0.61    0.11    \n",
            "Test time         6.09    6.85    6.81    4.92    3.39    5.61    1.31    \n"
          ]
        },
        {
          "output_type": "execute_result",
          "data": {
            "text/plain": [
              "{'fit_time': (0.45738816261291504,\n",
              "  0.5847432613372803,\n",
              "  0.7317445278167725,\n",
              "  0.7301571369171143,\n",
              "  0.535667896270752),\n",
              " 'test_mae': array([0.77083175, 0.76957154, 0.77832279, 0.77179185, 0.77319366]),\n",
              " 'test_rmse': array([0.97347476, 0.97474795, 0.9851883 , 0.97592246, 0.97974222]),\n",
              " 'test_time': (6.09201455116272,\n",
              "  6.848490953445435,\n",
              "  6.8060009479522705,\n",
              "  4.924126386642456,\n",
              "  3.3864779472351074)}"
            ]
          },
          "metadata": {},
          "execution_count": 37
        }
      ]
    },
    {
      "cell_type": "markdown",
      "source": [
        "#2. SVD (Singular Value Decomposition)\n",
        "![image.png](data:image/png;base64,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)"
      ],
      "metadata": {
        "id": "bPMxtON8ITe6"
      }
    },
    {
      "cell_type": "code",
      "source": [
        "# 행렬을 특정한 구조로 분해하는 방식\n",
        "# A = M x N의 직사각 행렬\n",
        "# U = M x M의 크기를 가지는 Unitary matrix\n",
        "# ∑ = M x N의 크기의 대각선상 원소의 값은 음수가 아니며, 대각선 이외의 성분은 0인 대각 행렬\n",
        "# V^T = N x N의 크기의 V matrix 의 conjugate transpose matrix로써, Unitary matrix의 형태를 가진다.\n",
        "\n",
        "model = SVD()\n",
        "cross_validate(model, data, measures=['rmse', 'mae'], cv=5, n_jobs=4, verbose=True)"
      ],
      "metadata": {
        "colab": {
          "base_uri": "https://localhost:8080/"
        },
        "id": "lUbZYN4LITyY",
        "outputId": "246f6adc-df93-4227-bf91-d53a89397803"
      },
      "execution_count": null,
      "outputs": [
        {
          "output_type": "stream",
          "name": "stdout",
          "text": [
            "Evaluating RMSE, MAE of algorithm SVD on 5 split(s).\n",
            "\n",
            "                  Fold 1  Fold 2  Fold 3  Fold 4  Fold 5  Mean    Std     \n",
            "RMSE (testset)    0.9345  0.9277  0.9415  0.9380  0.9369  0.9357  0.0046  \n",
            "MAE (testset)     0.7370  0.7331  0.7423  0.7388  0.7388  0.7380  0.0030  \n",
            "Fit time          8.08    9.66    10.19   8.20    5.65    8.36    1.58    \n",
            "Test time         0.47    0.50    0.30    0.22    0.15    0.33    0.14    \n"
          ]
        },
        {
          "output_type": "execute_result",
          "data": {
            "text/plain": [
              "{'fit_time': (8.08268928527832,\n",
              "  9.655492782592773,\n",
              "  10.192808389663696,\n",
              "  8.20238995552063,\n",
              "  5.64909291267395),\n",
              " 'test_mae': array([0.7369954 , 0.73306376, 0.74229569, 0.73882479, 0.73881638]),\n",
              " 'test_rmse': array([0.93449007, 0.92774442, 0.94153722, 0.93804806, 0.93692718]),\n",
              " 'test_time': (0.4679274559020996,\n",
              "  0.49876904487609863,\n",
              "  0.3017463684082031,\n",
              "  0.21808624267578125,\n",
              "  0.15376639366149902)}"
            ]
          },
          "metadata": {},
          "execution_count": 38
        }
      ]
    },
    {
      "cell_type": "markdown",
      "source": [
        "#3. SVD++ ('SVD' + 'implicit raings')  "
      ],
      "metadata": {
        "id": "PEkdIaqhIT_g"
      }
    },
    {
      "cell_type": "code",
      "source": [
        "# SVD 알고리즘에서 'Implicit Ratings'을 추가하여 예측의 정확도를 높이는 방식\n",
        "# Fit time 오래걸리기 때문에 실제 활용하기 어렵다는 특징이 있음\n",
        "\n",
        "#model = SVDpp()\n",
        "#cross_validate(model, data, measures=['rmse', 'mae'], cv=5, n_jobs=4, verbose=True)"
      ],
      "metadata": {
        "id": "nOFruvqvIUQB"
      },
      "execution_count": null,
      "outputs": []
    },
    {
      "cell_type": "markdown",
      "source": [
        "# 4. NMF (Non-negative Matrix Factorization)  "
      ],
      "metadata": {
        "id": "JJqae_9_IUif"
      }
    },
    {
      "cell_type": "code",
      "source": [
        "# 음수를 포함하지 않은 행렬 V를 음수를 포함하지 않은 행렬 W와 H의 곱으로 분해하는 방식\n",
        "# 행렬 분해는 정확한 해가 없기 때문에, 대략적인 해를 구하는데 사용\n",
        "# V = W*H\n",
        "\n",
        "model = NMF()\n",
        "cross_validate(model, data, measures=['rmse', 'mae'], cv=5, n_jobs=4, verbose=True)"
      ],
      "metadata": {
        "colab": {
          "base_uri": "https://localhost:8080/"
        },
        "id": "O2JtFn8HIVJq",
        "outputId": "30b856c8-2500-4d35-8faa-2e9fcc7a5956"
      },
      "execution_count": null,
      "outputs": [
        {
          "output_type": "stream",
          "name": "stdout",
          "text": [
            "Evaluating RMSE, MAE of algorithm NMF on 5 split(s).\n",
            "\n",
            "                  Fold 1  Fold 2  Fold 3  Fold 4  Fold 5  Mean    Std     \n",
            "RMSE (testset)    0.9667  0.9672  0.9675  0.9631  0.9573  0.9644  0.0039  \n",
            "MAE (testset)     0.7579  0.7630  0.7592  0.7572  0.7523  0.7579  0.0034  \n",
            "Fit time          8.98    10.90   10.80   9.13    6.16    9.19    1.72    \n",
            "Test time         0.41    0.43    0.32    0.19    0.13    0.30    0.12    \n"
          ]
        },
        {
          "output_type": "execute_result",
          "data": {
            "text/plain": [
              "{'fit_time': (8.977671384811401,\n",
              "  10.90388798713684,\n",
              "  10.79554271697998,\n",
              "  9.132678747177124,\n",
              "  6.159616470336914),\n",
              " 'test_mae': array([0.7579022 , 0.7629646 , 0.75918316, 0.7572117 , 0.75230061]),\n",
              " 'test_rmse': array([0.96669094, 0.96723273, 0.96750438, 0.96311444, 0.95733258]),\n",
              " 'test_time': (0.40577030181884766,\n",
              "  0.4290151596069336,\n",
              "  0.3201570510864258,\n",
              "  0.19266080856323242,\n",
              "  0.13434314727783203)}"
            ]
          },
          "metadata": {},
          "execution_count": 40
        }
      ]
    },
    {
      "cell_type": "markdown",
      "source": [
        "# 추천 시스템 (Hybrid Filtering)\n",
        "\n",
        "3. Hybrid Filtering :  \n",
        "- Content-based Filtering과 Collaborative Filtering을 조합하여 상호 보완적으로 개발한 알고리즘  \n",
        "- 데이터가 없을때 발생하는 Cold Start 문제를 Content-based Filtering으로 해결  \n",
        "- 충분한 데이터가 쌓인 후 Collaborative Filtering을 사용하여 정확성을 높이는 방식"
      ],
      "metadata": {
        "id": "fePZ168OOw40"
      }
    },
    {
      "cell_type": "markdown",
      "source": [
        "#1. Content-based Filtering(행렬 분해)\n",
        " - Content-based Filtering에 사용할 함수는 Randomized SVD 사용\n",
        " - SVD는 standard gaussian vector를 사용하여 행렬 A의 near-best rank k 근사치를 계산\n",
        " - Randomized SVD는 multivariate Gaussian vectors를 사용하여 SVD보다 낮은 근사치 오류 달성 가능\n",
        " - Boullé, Nicolas, and Alex Townsend. \"A generalization of the randomized singular value decomposition.\" arXiv preprint arXiv:2105.13052 (2021)."
      ],
      "metadata": {
        "id": "JKngYDDXPS4u"
      }
    },
    {
      "cell_type": "code",
      "source": [
        "from sklearn.decomposition import randomized_svd"
      ],
      "metadata": {
        "id": "_iZTT6zfPQ_q"
      },
      "execution_count": null,
      "outputs": []
    },
    {
      "cell_type": "code",
      "source": [
        "data = Dataset.load_builtin('ml-100k', prompt=False)\n",
        "\n",
        "# 우선 Content-based Filtering 시작\n",
        "raw_data = np.array(data.raw_ratings, dtype=int)\n",
        "raw_data[:,0] -= 1\n",
        "raw_data[:,1] -= 1"
      ],
      "metadata": {
        "id": "EgHiWCHCWvlR"
      },
      "execution_count": null,
      "outputs": []
    },
    {
      "cell_type": "code",
      "source": [
        "n_users = np.max(raw_data[:,0])\n",
        "n_movies = np.max(raw_data[:,1])\n",
        "shape = (n_users +1, n_movies +1)\n",
        "shape"
      ],
      "metadata": {
        "colab": {
          "base_uri": "https://localhost:8080/"
        },
        "id": "wFi78onoW0ep",
        "outputId": "06731330-3b7c-4f36-c832-a282a777ea4a"
      },
      "execution_count": null,
      "outputs": [
        {
          "output_type": "execute_result",
          "data": {
            "text/plain": [
              "(943, 1682)"
            ]
          },
          "metadata": {},
          "execution_count": 55
        }
      ]
    },
    {
      "cell_type": "code",
      "source": [
        "adj_matrix = np.ndarray(shape, dtype=int)\n",
        "for user_id, movie_id, rating, time in raw_data:\n",
        "  adj_matrix[user_id][movie_id] = rating\n",
        "\n",
        "adj_matrix\n",
        "# 인접행렬이 0~5가 아닌 다른 데이터가 안나오는 경우\n",
        "# 위의 2개 코드를 다시한번 수행해줘야함"
      ],
      "metadata": {
        "colab": {
          "base_uri": "https://localhost:8080/"
        },
        "id": "PWUuMwdCW1vR",
        "outputId": "9ed86887-38d5-4a5c-ca5f-012baa54c1df"
      },
      "execution_count": null,
      "outputs": [
        {
          "output_type": "execute_result",
          "data": {
            "text/plain": [
              "array([[5, 3, 4, ..., 0, 0, 0],\n",
              "       [4, 0, 0, ..., 0, 0, 0],\n",
              "       [0, 0, 0, ..., 0, 0, 0],\n",
              "       ...,\n",
              "       [5, 0, 0, ..., 0, 0, 0],\n",
              "       [0, 0, 0, ..., 0, 0, 0],\n",
              "       [0, 5, 0, ..., 0, 0, 0]])"
            ]
          },
          "metadata": {},
          "execution_count": 56
        }
      ]
    },
    {
      "cell_type": "code",
      "source": [
        "# randomized_svd(분해할 행렬, 추출할 특이값 및 벡터의 수)\n",
        "U, S, V = randomized_svd(adj_matrix,n_components=2)  # U = 사용자, S = 특이값, V = 아이템 \n",
        "\n",
        "# 특이값 행렬을 대각행렬로 변환시킴\n",
        "S = np.diag(S)  # 대각행렬 생성\n",
        "\n",
        "# 최종 vector = U * S * V.T"
      ],
      "metadata": {
        "id": "gYSJU6TRW2eh"
      },
      "execution_count": null,
      "outputs": []
    },
    {
      "cell_type": "code",
      "source": [
        "print(U.shape)\n",
        "print(S.shape)\n",
        "print(V.shape)"
      ],
      "metadata": {
        "colab": {
          "base_uri": "https://localhost:8080/"
        },
        "id": "R007yHq1XHJB",
        "outputId": "ee56940a-1be4-448e-cf94-8feb1577e192"
      },
      "execution_count": null,
      "outputs": [
        {
          "output_type": "stream",
          "name": "stdout",
          "text": [
            "(943, 2)\n",
            "(2, 2)\n",
            "(2, 1682)\n"
          ]
        }
      ]
    },
    {
      "cell_type": "markdown",
      "source": [
        "#2-1. Collaborative Filtering (User based filtering)\n",
        "- 나와 비슷한 취향을 가진 다른 사용자의 행동을 추천  \n",
        "- 사용자 특징 벡터의 유사도 사용  \n",
        "- Consine Similarity, Euclidean Distance 사용"
      ],
      "metadata": {
        "id": "2qGNfyphXdDK"
      }
    },
    {
      "cell_type": "code",
      "source": [
        "# Cosine SImilarity 함수 사용\n",
        "# User based 이기때문에, 분해 행렬중 U matrix 사용\n",
        "\n",
        "my_id, my_vector = 0, U[0]\n",
        "best_match, best_match_id, best_match_vector = -1, -1, []\n",
        "\n",
        "for user_id, user_vector in enumerate(U):\n",
        "  if my_id != user_id:\n",
        "    cos_similarity = compute_cos_similarity(my_vector, user_vector)\n",
        "    if cos_similarity > best_match:\n",
        "      best_match = cos_similarity\n",
        "      best_match_id = user_id\n",
        "      best_match_vector = user_vector\n",
        "\n",
        "print('Best Match: {}, Best Match ID: {}'.format(best_match, best_match_id))"
      ],
      "metadata": {
        "colab": {
          "base_uri": "https://localhost:8080/"
        },
        "id": "fdOg8VrYXKpp",
        "outputId": "57de2df7-e3b1-4ad3-eceb-06e9f49464e7"
      },
      "execution_count": null,
      "outputs": [
        {
          "output_type": "stream",
          "name": "stdout",
          "text": [
            "Best Match: 0.9999942295956324, Best Match ID: 235\n"
          ]
        }
      ]
    },
    {
      "cell_type": "code",
      "source": [
        "# Recommend List 출력 (User_id가 안 본 영화 추천)\n",
        "\n",
        "recommend_list = []\n",
        "\n",
        "for i, log in enumerate(zip(adj_matrix[my_id], adj_matrix[best_match_id])):\n",
        "  log1, log2 = log\n",
        "  if log1 <1. and log2>0.:\n",
        "    recommend_list.append(i)\n",
        "\n",
        "print('Recommended movie list:',recommend_list)"
      ],
      "metadata": {
        "colab": {
          "base_uri": "https://localhost:8080/"
        },
        "id": "rUDPDJKvYFEa",
        "outputId": "e8899e34-0631-405d-a38f-9116392864c9"
      },
      "execution_count": null,
      "outputs": [
        {
          "output_type": "stream",
          "name": "stdout",
          "text": [
            "Recommended movie list: [272, 273, 274, 281, 285, 288, 293, 297, 303, 306, 312, 317, 327, 332, 369, 410, 418, 419, 422, 426, 428, 431, 434, 442, 461, 475, 477, 482, 495, 503, 504, 505, 506, 509, 519, 520, 522, 525, 531, 545, 548, 590, 594, 595, 613, 631, 654, 658, 660, 672, 684, 685, 691, 695, 698, 704, 716, 728, 734, 749, 755, 863, 865, 933, 1012, 1038, 1101, 1327, 1400]\n"
          ]
        }
      ]
    },
    {
      "cell_type": "code",
      "source": [
        "movies.loc[recommend_list, ['movie id', 'movie title' ,'release date']]\n",
        "# 보지 않은 영화목록 출력"
      ],
      "metadata": {
        "colab": {
          "base_uri": "https://localhost:8080/",
          "height": 424
        },
        "id": "i5ZVPj2VYLEh",
        "outputId": "df8d46a5-3d7d-4933-daff-f33dea5d61b4"
      },
      "execution_count": null,
      "outputs": [
        {
          "output_type": "execute_result",
          "data": {
            "text/html": [
              "<div>\n",
              "<style scoped>\n",
              "    .dataframe tbody tr th:only-of-type {\n",
              "        vertical-align: middle;\n",
              "    }\n",
              "\n",
              "    .dataframe tbody tr th {\n",
              "        vertical-align: top;\n",
              "    }\n",
              "\n",
              "    .dataframe thead th {\n",
              "        text-align: right;\n",
              "    }\n",
              "</style>\n",
              "<table border=\"1\" class=\"dataframe\">\n",
              "  <thead>\n",
              "    <tr style=\"text-align: right;\">\n",
              "      <th></th>\n",
              "      <th>movie id</th>\n",
              "      <th>movie title</th>\n",
              "      <th>release date</th>\n",
              "    </tr>\n",
              "  </thead>\n",
              "  <tbody>\n",
              "    <tr>\n",
              "      <th>272</th>\n",
              "      <td>273</td>\n",
              "      <td>Heat (1995)</td>\n",
              "      <td>01-Jan-1995</td>\n",
              "    </tr>\n",
              "    <tr>\n",
              "      <th>273</th>\n",
              "      <td>274</td>\n",
              "      <td>Sabrina (1995)</td>\n",
              "      <td>01-Jan-1995</td>\n",
              "    </tr>\n",
              "    <tr>\n",
              "      <th>274</th>\n",
              "      <td>275</td>\n",
              "      <td>Sense and Sensibility (1995)</td>\n",
              "      <td>01-Jan-1995</td>\n",
              "    </tr>\n",
              "    <tr>\n",
              "      <th>281</th>\n",
              "      <td>282</td>\n",
              "      <td>Time to Kill, A (1996)</td>\n",
              "      <td>13-Jul-1996</td>\n",
              "    </tr>\n",
              "    <tr>\n",
              "      <th>285</th>\n",
              "      <td>286</td>\n",
              "      <td>English Patient, The (1996)</td>\n",
              "      <td>15-Nov-1996</td>\n",
              "    </tr>\n",
              "    <tr>\n",
              "      <th>...</th>\n",
              "      <td>...</td>\n",
              "      <td>...</td>\n",
              "      <td>...</td>\n",
              "    </tr>\n",
              "    <tr>\n",
              "      <th>1012</th>\n",
              "      <td>1013</td>\n",
              "      <td>Anaconda (1997)</td>\n",
              "      <td>11-Apr-1997</td>\n",
              "    </tr>\n",
              "    <tr>\n",
              "      <th>1038</th>\n",
              "      <td>1039</td>\n",
              "      <td>Hamlet (1996)</td>\n",
              "      <td>24-Jan-1997</td>\n",
              "    </tr>\n",
              "    <tr>\n",
              "      <th>1101</th>\n",
              "      <td>1102</td>\n",
              "      <td>Two Much (1996)</td>\n",
              "      <td>01-Jan-1996</td>\n",
              "    </tr>\n",
              "    <tr>\n",
              "      <th>1327</th>\n",
              "      <td>1328</td>\n",
              "      <td>Of Love and Shadows (1994)</td>\n",
              "      <td>10-May-1996</td>\n",
              "    </tr>\n",
              "    <tr>\n",
              "      <th>1400</th>\n",
              "      <td>1401</td>\n",
              "      <td>M. Butterfly (1993)</td>\n",
              "      <td>01-Jan-1993</td>\n",
              "    </tr>\n",
              "  </tbody>\n",
              "</table>\n",
              "<p>69 rows × 3 columns</p>\n",
              "</div>"
            ],
            "text/plain": [
              "      movie id                   movie title release date\n",
              "272        273                   Heat (1995)  01-Jan-1995\n",
              "273        274                Sabrina (1995)  01-Jan-1995\n",
              "274        275  Sense and Sensibility (1995)  01-Jan-1995\n",
              "281        282        Time to Kill, A (1996)  13-Jul-1996\n",
              "285        286   English Patient, The (1996)  15-Nov-1996\n",
              "...        ...                           ...          ...\n",
              "1012      1013               Anaconda (1997)  11-Apr-1997\n",
              "1038      1039                 Hamlet (1996)  24-Jan-1997\n",
              "1101      1102               Two Much (1996)  01-Jan-1996\n",
              "1327      1328    Of Love and Shadows (1994)  10-May-1996\n",
              "1400      1401           M. Butterfly (1993)  01-Jan-1993\n",
              "\n",
              "[69 rows x 3 columns]"
            ]
          },
          "metadata": {},
          "execution_count": 61
        }
      ]
    },
    {
      "cell_type": "code",
      "source": [
        "# Euclidean Distance 사용\n",
        "# User based 이기때문에, 분해 행렬중 U matrix 사용\n",
        "\n",
        "my_id, my_vector = 0, U[0]\n",
        "\n",
        "best_match, best_match_id, best_match_vector = 9999, -1, [] # default value 설정\n",
        "\n",
        "for user_id, user_vector in enumerate(U):\n",
        "  if my_id != user_id:\n",
        "    euclidean_dist = np.sqrt(np.sum(np.square(my_vector - user_vector)))\n",
        "    if euclidean_dist < best_match:\n",
        "      best_match = euclidean_dist\n",
        "      best_match_id = user_id\n",
        "      best_match_vector = user_vector\n",
        "\n",
        "print('Best Match: {}, Best Match ID: {}'.format(best_match, best_match_id))"
      ],
      "metadata": {
        "colab": {
          "base_uri": "https://localhost:8080/"
        },
        "id": "FAAHmL81Zo3J",
        "outputId": "86caff1d-4315-4d21-84ef-cc700d77417f"
      },
      "execution_count": null,
      "outputs": [
        {
          "output_type": "stream",
          "name": "stdout",
          "text": [
            "Best Match: 0.002592348683135199, Best Match ID: 200\n"
          ]
        }
      ]
    },
    {
      "cell_type": "code",
      "source": [
        "# Recommend List 출력 (User_id가 안 본 영화 추천)\n",
        "\n",
        "recommend_list = []\n",
        "\n",
        "for i, log in enumerate(zip(adj_matrix[my_id], adj_matrix[best_match_id])):\n",
        "  log1, log2 = log\n",
        "  if log1 <1. and log2>0.:\n",
        "    recommend_list.append(i)\n",
        "\n",
        "print('Recommended movie list:',recommend_list)"
      ],
      "metadata": {
        "colab": {
          "base_uri": "https://localhost:8080/"
        },
        "id": "-fZ99YThaDvi",
        "outputId": "ea5ff94a-ed3e-4a36-93f5-303f29c3f808"
      },
      "execution_count": null,
      "outputs": [
        {
          "output_type": "stream",
          "name": "stdout",
          "text": [
            "Recommended movie list: [94, 170, 171, 177, 189, 193, 202, 316, 421, 479, 482, 513, 514, 602]\n"
          ]
        }
      ]
    },
    {
      "cell_type": "code",
      "source": [
        "movies.loc[recommend_list, ['movie id', 'movie title' ,'release date']]\n",
        "# 보지 않은 영화목록 출력"
      ],
      "metadata": {
        "colab": {
          "base_uri": "https://localhost:8080/",
          "height": 488
        },
        "id": "oeJ1QJNlaHIR",
        "outputId": "78e588a8-ccb3-4cc4-c2e8-36e7e5a0e192"
      },
      "execution_count": null,
      "outputs": [
        {
          "output_type": "execute_result",
          "data": {
            "text/html": [
              "<div>\n",
              "<style scoped>\n",
              "    .dataframe tbody tr th:only-of-type {\n",
              "        vertical-align: middle;\n",
              "    }\n",
              "\n",
              "    .dataframe tbody tr th {\n",
              "        vertical-align: top;\n",
              "    }\n",
              "\n",
              "    .dataframe thead th {\n",
              "        text-align: right;\n",
              "    }\n",
              "</style>\n",
              "<table border=\"1\" class=\"dataframe\">\n",
              "  <thead>\n",
              "    <tr style=\"text-align: right;\">\n",
              "      <th></th>\n",
              "      <th>movie id</th>\n",
              "      <th>movie title</th>\n",
              "      <th>release date</th>\n",
              "    </tr>\n",
              "  </thead>\n",
              "  <tbody>\n",
              "    <tr>\n",
              "      <th>94</th>\n",
              "      <td>95</td>\n",
              "      <td>Aladdin (1992)</td>\n",
              "      <td>01-Jan-1992</td>\n",
              "    </tr>\n",
              "    <tr>\n",
              "      <th>170</th>\n",
              "      <td>171</td>\n",
              "      <td>Delicatessen (1991)</td>\n",
              "      <td>01-Jan-1991</td>\n",
              "    </tr>\n",
              "    <tr>\n",
              "      <th>171</th>\n",
              "      <td>172</td>\n",
              "      <td>Empire Strikes Back, The (1980)</td>\n",
              "      <td>01-Jan-1980</td>\n",
              "    </tr>\n",
              "    <tr>\n",
              "      <th>177</th>\n",
              "      <td>178</td>\n",
              "      <td>12 Angry Men (1957)</td>\n",
              "      <td>01-Jan-1957</td>\n",
              "    </tr>\n",
              "    <tr>\n",
              "      <th>189</th>\n",
              "      <td>190</td>\n",
              "      <td>Henry V (1989)</td>\n",
              "      <td>01-Jan-1989</td>\n",
              "    </tr>\n",
              "    <tr>\n",
              "      <th>193</th>\n",
              "      <td>194</td>\n",
              "      <td>Sting, The (1973)</td>\n",
              "      <td>01-Jan-1973</td>\n",
              "    </tr>\n",
              "    <tr>\n",
              "      <th>202</th>\n",
              "      <td>203</td>\n",
              "      <td>Unforgiven (1992)</td>\n",
              "      <td>01-Jan-1992</td>\n",
              "    </tr>\n",
              "    <tr>\n",
              "      <th>316</th>\n",
              "      <td>317</td>\n",
              "      <td>In the Name of the Father (1993)</td>\n",
              "      <td>01-Jan-1993</td>\n",
              "    </tr>\n",
              "    <tr>\n",
              "      <th>421</th>\n",
              "      <td>422</td>\n",
              "      <td>Aladdin and the King of Thieves (1996)</td>\n",
              "      <td>01-Jan-1996</td>\n",
              "    </tr>\n",
              "    <tr>\n",
              "      <th>479</th>\n",
              "      <td>480</td>\n",
              "      <td>North by Northwest (1959)</td>\n",
              "      <td>01-Jan-1959</td>\n",
              "    </tr>\n",
              "    <tr>\n",
              "      <th>482</th>\n",
              "      <td>483</td>\n",
              "      <td>Casablanca (1942)</td>\n",
              "      <td>01-Jan-1942</td>\n",
              "    </tr>\n",
              "    <tr>\n",
              "      <th>513</th>\n",
              "      <td>514</td>\n",
              "      <td>Annie Hall (1977)</td>\n",
              "      <td>01-Jan-1977</td>\n",
              "    </tr>\n",
              "    <tr>\n",
              "      <th>514</th>\n",
              "      <td>515</td>\n",
              "      <td>Boot, Das (1981)</td>\n",
              "      <td>04-Apr-1997</td>\n",
              "    </tr>\n",
              "    <tr>\n",
              "      <th>602</th>\n",
              "      <td>603</td>\n",
              "      <td>Rear Window (1954)</td>\n",
              "      <td>01-Jan-1954</td>\n",
              "    </tr>\n",
              "  </tbody>\n",
              "</table>\n",
              "</div>"
            ],
            "text/plain": [
              "     movie id                             movie title release date\n",
              "94         95                          Aladdin (1992)  01-Jan-1992\n",
              "170       171                     Delicatessen (1991)  01-Jan-1991\n",
              "171       172         Empire Strikes Back, The (1980)  01-Jan-1980\n",
              "177       178                     12 Angry Men (1957)  01-Jan-1957\n",
              "189       190                          Henry V (1989)  01-Jan-1989\n",
              "193       194                       Sting, The (1973)  01-Jan-1973\n",
              "202       203                       Unforgiven (1992)  01-Jan-1992\n",
              "316       317        In the Name of the Father (1993)  01-Jan-1993\n",
              "421       422  Aladdin and the King of Thieves (1996)  01-Jan-1996\n",
              "479       480               North by Northwest (1959)  01-Jan-1959\n",
              "482       483                       Casablanca (1942)  01-Jan-1942\n",
              "513       514                       Annie Hall (1977)  01-Jan-1977\n",
              "514       515                        Boot, Das (1981)  04-Apr-1997\n",
              "602       603                      Rear Window (1954)  01-Jan-1954"
            ]
          },
          "metadata": {},
          "execution_count": 82
        }
      ]
    },
    {
      "cell_type": "markdown",
      "source": [
        "#2-2. Collaborative Filtering (Content based filtering)\n",
        "- 내가 본 항목과 비슷한 항목을 추천  \n",
        "- 항목 특징 벡터의 유사도 사용  \n",
        "- Consine Similarity, Euclidean Distance 사용"
      ],
      "metadata": {
        "id": "7GOvVhxhaL0Q"
      }
    },
    {
      "cell_type": "code",
      "source": [
        "# Cosine SImilarity 함수 사용\n",
        "# Content based 이기때문에, 분해 행렬중 V.T matrix 사용\n",
        "\n",
        "my_id, my_vector = 0, V.T[0]\n",
        "best_match, best_match_id, best_match_vector = -1, -1, []\n",
        "\n",
        "for user_id, user_vector in enumerate(V.T):\n",
        "  if my_id != user_id:\n",
        "    cos_similarity = compute_cos_similarity(my_vector, user_vector)\n",
        "    if cos_similarity > best_match:\n",
        "      best_match = cos_similarity\n",
        "      best_match_id = user_id\n",
        "      best_match_vector = user_vector\n",
        "\n",
        "print('Best Match: {}, Best Match ID: {}'.format(best_match, best_match_id))"
      ],
      "metadata": {
        "colab": {
          "base_uri": "https://localhost:8080/"
        },
        "id": "LcnB8X5OaIEa",
        "outputId": "fa9b2340-4ffd-4fb0-9019-fa23d6c401e0"
      },
      "execution_count": null,
      "outputs": [
        {
          "output_type": "stream",
          "name": "stdout",
          "text": [
            "Best Match: 0.9999999951364145, Best Match ID: 1287\n"
          ]
        }
      ]
    },
    {
      "cell_type": "code",
      "source": [
        "# Recommend List 출력 (User_id가 안 본 영화 추천)\n",
        "\n",
        "recommend_list = []\n",
        "\n",
        "for i, user_vector in enumerate(adj_matrix):\n",
        "  if adj_matrix[i][my_id] > 0.9:\n",
        "    recommend_list.append(i)\n",
        "\n",
        "print('Recommended movie list:',recommend_list)\n",
        "# User_id가 본 movie중 my_id에서 보지않은 movie recommend list 출력"
      ],
      "metadata": {
        "colab": {
          "base_uri": "https://localhost:8080/"
        },
        "id": "RVkQqlsBagFp",
        "outputId": "de6875ef-9342-4676-826b-402b7415dd9e"
      },
      "execution_count": null,
      "outputs": [
        {
          "output_type": "stream",
          "name": "stdout",
          "text": [
            "Recommended movie list: [3, 11, 20, 28, 40, 47, 62, 70, 81, 85, 90, 93, 100, 108, 128, 176, 191, 195, 198, 199, 205, 211, 215, 220, 232, 247, 248, 254, 265, 266, 269, 274, 277, 278, 290, 291, 299, 301, 303, 318, 323, 325, 344, 361, 371, 372, 376, 377, 383, 385, 391, 396, 397, 403, 405, 414, 423, 427, 433, 440, 448, 453, 464, 470, 482, 485, 493, 495, 504, 519, 530, 534, 541, 549, 559, 564, 598, 616, 619, 620, 625, 630, 638, 640, 641, 646, 648, 651, 653, 658, 669, 680, 684, 703, 707, 713, 725, 736, 744, 747, 749, 755, 762, 771, 772, 788, 793, 794, 796, 802, 804, 805, 813, 824, 828, 842, 844, 862, 866, 868, 878, 884, 887, 890, 894, 897, 914, 922, 932, 941]\n"
          ]
        }
      ]
    },
    {
      "cell_type": "code",
      "source": [
        "movies.loc[recommend_list, ['movie id', 'movie title' ,'release date']]\n",
        "# 보지 않은 영화목록 출력"
      ],
      "metadata": {
        "colab": {
          "base_uri": "https://localhost:8080/",
          "height": 424
        },
        "id": "vDC5JxA2aiTR",
        "outputId": "a7bf981f-c276-4391-ec2c-aff6db9fcc6e"
      },
      "execution_count": null,
      "outputs": [
        {
          "output_type": "execute_result",
          "data": {
            "text/html": [
              "<div>\n",
              "<style scoped>\n",
              "    .dataframe tbody tr th:only-of-type {\n",
              "        vertical-align: middle;\n",
              "    }\n",
              "\n",
              "    .dataframe tbody tr th {\n",
              "        vertical-align: top;\n",
              "    }\n",
              "\n",
              "    .dataframe thead th {\n",
              "        text-align: right;\n",
              "    }\n",
              "</style>\n",
              "<table border=\"1\" class=\"dataframe\">\n",
              "  <thead>\n",
              "    <tr style=\"text-align: right;\">\n",
              "      <th></th>\n",
              "      <th>movie id</th>\n",
              "      <th>movie title</th>\n",
              "      <th>release date</th>\n",
              "    </tr>\n",
              "  </thead>\n",
              "  <tbody>\n",
              "    <tr>\n",
              "      <th>3</th>\n",
              "      <td>4</td>\n",
              "      <td>Get Shorty (1995)</td>\n",
              "      <td>01-Jan-1995</td>\n",
              "    </tr>\n",
              "    <tr>\n",
              "      <th>11</th>\n",
              "      <td>12</td>\n",
              "      <td>Usual Suspects, The (1995)</td>\n",
              "      <td>14-Aug-1995</td>\n",
              "    </tr>\n",
              "    <tr>\n",
              "      <th>20</th>\n",
              "      <td>21</td>\n",
              "      <td>Muppet Treasure Island (1996)</td>\n",
              "      <td>16-Feb-1996</td>\n",
              "    </tr>\n",
              "    <tr>\n",
              "      <th>28</th>\n",
              "      <td>29</td>\n",
              "      <td>Batman Forever (1995)</td>\n",
              "      <td>01-Jan-1995</td>\n",
              "    </tr>\n",
              "    <tr>\n",
              "      <th>40</th>\n",
              "      <td>41</td>\n",
              "      <td>Billy Madison (1995)</td>\n",
              "      <td>01-Jan-1995</td>\n",
              "    </tr>\n",
              "    <tr>\n",
              "      <th>...</th>\n",
              "      <td>...</td>\n",
              "      <td>...</td>\n",
              "      <td>...</td>\n",
              "    </tr>\n",
              "    <tr>\n",
              "      <th>897</th>\n",
              "      <td>898</td>\n",
              "      <td>Postman, The (1997)</td>\n",
              "      <td>01-Jan-1997</td>\n",
              "    </tr>\n",
              "    <tr>\n",
              "      <th>914</th>\n",
              "      <td>915</td>\n",
              "      <td>Primary Colors (1998)</td>\n",
              "      <td>20-Mar-1998</td>\n",
              "    </tr>\n",
              "    <tr>\n",
              "      <th>922</th>\n",
              "      <td>923</td>\n",
              "      <td>Raise the Red Lantern (1991)</td>\n",
              "      <td>01-Jan-1991</td>\n",
              "    </tr>\n",
              "    <tr>\n",
              "      <th>932</th>\n",
              "      <td>933</td>\n",
              "      <td>Funeral, The (1996)</td>\n",
              "      <td>25-Oct-1996</td>\n",
              "    </tr>\n",
              "    <tr>\n",
              "      <th>941</th>\n",
              "      <td>942</td>\n",
              "      <td>What's Love Got to Do with It (1993)</td>\n",
              "      <td>01-Jan-1993</td>\n",
              "    </tr>\n",
              "  </tbody>\n",
              "</table>\n",
              "<p>130 rows × 3 columns</p>\n",
              "</div>"
            ],
            "text/plain": [
              "     movie id                           movie title release date\n",
              "3           4                     Get Shorty (1995)  01-Jan-1995\n",
              "11         12            Usual Suspects, The (1995)  14-Aug-1995\n",
              "20         21         Muppet Treasure Island (1996)  16-Feb-1996\n",
              "28         29                 Batman Forever (1995)  01-Jan-1995\n",
              "40         41                  Billy Madison (1995)  01-Jan-1995\n",
              "..        ...                                   ...          ...\n",
              "897       898                   Postman, The (1997)  01-Jan-1997\n",
              "914       915                 Primary Colors (1998)  20-Mar-1998\n",
              "922       923          Raise the Red Lantern (1991)  01-Jan-1991\n",
              "932       933                   Funeral, The (1996)  25-Oct-1996\n",
              "941       942  What's Love Got to Do with It (1993)  01-Jan-1993\n",
              "\n",
              "[130 rows x 3 columns]"
            ]
          },
          "metadata": {},
          "execution_count": 86
        }
      ]
    },
    {
      "cell_type": "code",
      "source": [
        "# Euclidean Distance 사용\n",
        "# Content based 이기때문에, 분해 행렬중 V.T matrix 사용\n",
        "\n",
        "my_id, my_vector = 0, V.T[0]\n",
        "\n",
        "best_match, best_match_id, best_match_vector = 9999, -1, [] # default value 설정\n",
        "\n",
        "for user_id, user_vector in enumerate(V.T):\n",
        "  if my_id != user_id:\n",
        "    euclidean_dist = np.sqrt(np.sum(np.square(my_vector - user_vector)))\n",
        "    if euclidean_dist < best_match:\n",
        "      best_match = euclidean_dist\n",
        "      best_match_id = user_id\n",
        "      best_match_vector = user_vector\n",
        "\n",
        "print('Best Match: {}, Best Match ID: {}'.format(best_match, best_match_id))"
      ],
      "metadata": {
        "colab": {
          "base_uri": "https://localhost:8080/"
        },
        "id": "851VrbSvas6y",
        "outputId": "6deed63a-3403-47ab-bb66-3612f5a6134b"
      },
      "execution_count": null,
      "outputs": [
        {
          "output_type": "stream",
          "name": "stdout",
          "text": [
            "Best Match: 0.013006545668797826, Best Match ID: 6\n"
          ]
        }
      ]
    },
    {
      "cell_type": "code",
      "source": [
        "# Recommend List 출력 (User_id가 안 본 영화 추천)\n",
        "\n",
        "recommend_list = []\n",
        "\n",
        "for i, user_vector in enumerate(adj_matrix):\n",
        "  if adj_matrix[i][my_id] > 0.9:\n",
        "    recommend_list.append(i)\n",
        "\n",
        "print('Recommended movie list:',recommend_list)\n",
        "# User_id가 본 movie중 my_id에서 보지않은 movie recommend list 출력"
      ],
      "metadata": {
        "colab": {
          "base_uri": "https://localhost:8080/"
        },
        "id": "GmuEHnlza35a",
        "outputId": "a22548e5-b15d-4d59-b55b-ab86b8d8b48b"
      },
      "execution_count": null,
      "outputs": [
        {
          "output_type": "stream",
          "name": "stdout",
          "text": [
            "Recommended movie list: [3, 11, 20, 28, 40, 47, 62, 70, 81, 85, 90, 93, 100, 108, 128, 176, 191, 195, 198, 199, 205, 211, 215, 220, 232, 247, 248, 254, 265, 266, 269, 274, 277, 278, 290, 291, 299, 301, 303, 318, 323, 325, 344, 361, 371, 372, 376, 377, 383, 385, 391, 396, 397, 403, 405, 414, 423, 427, 433, 440, 448, 453, 464, 470, 482, 485, 493, 495, 504, 519, 530, 534, 541, 549, 559, 564, 598, 616, 619, 620, 625, 630, 638, 640, 641, 646, 648, 651, 653, 658, 669, 680, 684, 703, 707, 713, 725, 736, 744, 747, 749, 755, 762, 771, 772, 788, 793, 794, 796, 802, 804, 805, 813, 824, 828, 842, 844, 862, 866, 868, 878, 884, 887, 890, 894, 897, 914, 922, 932, 941]\n"
          ]
        }
      ]
    },
    {
      "cell_type": "code",
      "source": [
        "movies.loc[recommend_list, ['movie id', 'movie title' ,'release date']]\n",
        "# 보지 않은 영화목록 출력"
      ],
      "metadata": {
        "colab": {
          "base_uri": "https://localhost:8080/",
          "height": 424
        },
        "id": "icr2Twk2a628",
        "outputId": "b13c497c-6efa-4eab-e0fa-56fdb95692dd"
      },
      "execution_count": null,
      "outputs": [
        {
          "output_type": "execute_result",
          "data": {
            "text/html": [
              "<div>\n",
              "<style scoped>\n",
              "    .dataframe tbody tr th:only-of-type {\n",
              "        vertical-align: middle;\n",
              "    }\n",
              "\n",
              "    .dataframe tbody tr th {\n",
              "        vertical-align: top;\n",
              "    }\n",
              "\n",
              "    .dataframe thead th {\n",
              "        text-align: right;\n",
              "    }\n",
              "</style>\n",
              "<table border=\"1\" class=\"dataframe\">\n",
              "  <thead>\n",
              "    <tr style=\"text-align: right;\">\n",
              "      <th></th>\n",
              "      <th>movie id</th>\n",
              "      <th>movie title</th>\n",
              "      <th>release date</th>\n",
              "    </tr>\n",
              "  </thead>\n",
              "  <tbody>\n",
              "    <tr>\n",
              "      <th>3</th>\n",
              "      <td>4</td>\n",
              "      <td>Get Shorty (1995)</td>\n",
              "      <td>01-Jan-1995</td>\n",
              "    </tr>\n",
              "    <tr>\n",
              "      <th>11</th>\n",
              "      <td>12</td>\n",
              "      <td>Usual Suspects, The (1995)</td>\n",
              "      <td>14-Aug-1995</td>\n",
              "    </tr>\n",
              "    <tr>\n",
              "      <th>20</th>\n",
              "      <td>21</td>\n",
              "      <td>Muppet Treasure Island (1996)</td>\n",
              "      <td>16-Feb-1996</td>\n",
              "    </tr>\n",
              "    <tr>\n",
              "      <th>28</th>\n",
              "      <td>29</td>\n",
              "      <td>Batman Forever (1995)</td>\n",
              "      <td>01-Jan-1995</td>\n",
              "    </tr>\n",
              "    <tr>\n",
              "      <th>40</th>\n",
              "      <td>41</td>\n",
              "      <td>Billy Madison (1995)</td>\n",
              "      <td>01-Jan-1995</td>\n",
              "    </tr>\n",
              "    <tr>\n",
              "      <th>...</th>\n",
              "      <td>...</td>\n",
              "      <td>...</td>\n",
              "      <td>...</td>\n",
              "    </tr>\n",
              "    <tr>\n",
              "      <th>897</th>\n",
              "      <td>898</td>\n",
              "      <td>Postman, The (1997)</td>\n",
              "      <td>01-Jan-1997</td>\n",
              "    </tr>\n",
              "    <tr>\n",
              "      <th>914</th>\n",
              "      <td>915</td>\n",
              "      <td>Primary Colors (1998)</td>\n",
              "      <td>20-Mar-1998</td>\n",
              "    </tr>\n",
              "    <tr>\n",
              "      <th>922</th>\n",
              "      <td>923</td>\n",
              "      <td>Raise the Red Lantern (1991)</td>\n",
              "      <td>01-Jan-1991</td>\n",
              "    </tr>\n",
              "    <tr>\n",
              "      <th>932</th>\n",
              "      <td>933</td>\n",
              "      <td>Funeral, The (1996)</td>\n",
              "      <td>25-Oct-1996</td>\n",
              "    </tr>\n",
              "    <tr>\n",
              "      <th>941</th>\n",
              "      <td>942</td>\n",
              "      <td>What's Love Got to Do with It (1993)</td>\n",
              "      <td>01-Jan-1993</td>\n",
              "    </tr>\n",
              "  </tbody>\n",
              "</table>\n",
              "<p>130 rows × 3 columns</p>\n",
              "</div>"
            ],
            "text/plain": [
              "     movie id                           movie title release date\n",
              "3           4                     Get Shorty (1995)  01-Jan-1995\n",
              "11         12            Usual Suspects, The (1995)  14-Aug-1995\n",
              "20         21         Muppet Treasure Island (1996)  16-Feb-1996\n",
              "28         29                 Batman Forever (1995)  01-Jan-1995\n",
              "40         41                  Billy Madison (1995)  01-Jan-1995\n",
              "..        ...                                   ...          ...\n",
              "897       898                   Postman, The (1997)  01-Jan-1997\n",
              "914       915                 Primary Colors (1998)  20-Mar-1998\n",
              "922       923          Raise the Red Lantern (1991)  01-Jan-1991\n",
              "932       933                   Funeral, The (1996)  25-Oct-1996\n",
              "941       942  What's Love Got to Do with It (1993)  01-Jan-1993\n",
              "\n",
              "[130 rows x 3 columns]"
            ]
          },
          "metadata": {},
          "execution_count": 89
        }
      ]
    }
  ]
}